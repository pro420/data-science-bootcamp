{
 "cells": [
  {
   "cell_type": "markdown",
   "id": "124f6dd4",
   "metadata": {},
   "source": [
    "# Without Threading"
   ]
  },
  {
   "cell_type": "code",
   "execution_count": 1,
   "id": "65bc43a2",
   "metadata": {},
   "outputs": [],
   "source": [
    "import requests\n",
    "import time"
   ]
  },
  {
   "cell_type": "code",
   "execution_count": 2,
   "id": "20f83b9b",
   "metadata": {},
   "outputs": [],
   "source": [
    "url = \"https://raw.githubusercontent.com/Monalsingh/VideoBroadcaster/refs/heads/main/static/default-office-animated.png\""
   ]
  },
  {
   "cell_type": "code",
   "execution_count": null,
   "id": "afdcab93",
   "metadata": {},
   "outputs": [],
   "source": [
    "def download_file(process_name, url, file_path):\n",
    "    try:\n",
    "        print(f\"Download process name started : {process_name}\")\n",
    "        response = requests.get(url)\n",
    "        with open(file_path, \"wb\") as file:\n",
    "            for chunk in response.iter_content(chunk_size=8192):\n",
    "                if chunk:\n",
    "                    file.write(chunk)\n",
    "        print(\"File downloaded successfully\")\n",
    "    except Exception as e :\n",
    "        print(f\"Error downloading file : {e}\")\n",
    "    print(f\"Process name completed : {process_name}\")"
   ]
  },
  {
   "cell_type": "code",
   "execution_count": 12,
   "id": "8c3a8bae",
   "metadata": {},
   "outputs": [
    {
     "name": "stdout",
     "output_type": "stream",
     "text": [
      "Download process name started : Download without thread 1\n",
      "File downloaded successfully\n",
      "Process name completed : Download without thread 1\n",
      "Download process name started : Download without thread 2\n",
      "File downloaded successfully\n",
      "Process name completed : Download without thread 2\n",
      "Download process name started : Download without thread 3\n",
      "File downloaded successfully\n",
      "Process name completed : Download without thread 3\n",
      "Time taken(seconds) : 7.443717002868652\n"
     ]
    }
   ],
   "source": [
    "t1 = time.time()\n",
    "download_file(\"Download without thread 1\", url, \"a.png\")\n",
    "download_file(\"Download without thread 2\", url, \"b.png\")\n",
    "download_file(\"Download without thread 3\", url, \"c.png\")\n",
    "t2 = time.time()\n",
    "print(f\"Time taken(seconds) : {t2-t1}\")"
   ]
  },
  {
   "cell_type": "markdown",
   "id": "26e639d3",
   "metadata": {},
   "source": [
    "# With Threading"
   ]
  },
  {
   "cell_type": "code",
   "execution_count": 13,
   "id": "e2de95d6",
   "metadata": {},
   "outputs": [],
   "source": [
    "import threading"
   ]
  },
  {
   "cell_type": "code",
   "execution_count": 25,
   "id": "82cd0592",
   "metadata": {},
   "outputs": [],
   "source": [
    "t1 = threading.Thread(target=download_file, args=(\"Download with thread 1\", url, \"a1.png\"))\n",
    "t2 = threading.Thread(target=download_file, args=(\"Download with thread 2\", url, \"b1.png\"))\n",
    "t3 = threading.Thread(target=download_file, args=(\"Download with thread 3\", url, \"c1.png\"))"
   ]
  },
  {
   "cell_type": "markdown",
   "id": "0bcf833c",
   "metadata": {},
   "source": [
    "# thread.start()"
   ]
  },
  {
   "cell_type": "code",
   "execution_count": 22,
   "id": "f9a45767",
   "metadata": {},
   "outputs": [
    {
     "name": "stdout",
     "output_type": "stream",
     "text": [
      "Download process name started : Download with thread 1\n",
      "Download process name started : Download with thread 2\n",
      "Download process name started : Download with thread 3\n",
      "Main program done!!\n",
      "Time taken(seconds) : 0.0013484954833984375\n"
     ]
    },
    {
     "name": "stdout",
     "output_type": "stream",
     "text": [
      "File downloaded successfully\n",
      "Process name completed : Download with thread 3\n",
      "File downloaded successfully\n",
      "Process name completed : Download with thread 1\n",
      "File downloaded successfully\n",
      "Process name completed : Download with thread 2\n"
     ]
    }
   ],
   "source": [
    "t1_t = time.time()\n",
    "t1.start()\n",
    "t2.start()\n",
    "t3.start()\n",
    "print(\"Main program done!!\")\n",
    "t2_t = time.time()\n",
    "print(f\"Time taken(seconds) : {t2_t-t1_t}\")"
   ]
  },
  {
   "cell_type": "markdown",
   "id": "84c94626",
   "metadata": {},
   "source": [
    "# thread.join()"
   ]
  },
  {
   "cell_type": "code",
   "execution_count": 24,
   "id": "3dccbba8",
   "metadata": {},
   "outputs": [
    {
     "name": "stdout",
     "output_type": "stream",
     "text": [
      "Download process name started : Download with thread 1\n",
      "Download process name started : Download with thread 2\n",
      "Download process name started : Download with thread 3\n",
      "File downloaded successfully\n",
      "Process name completed : Download with thread 1\n",
      "File downloaded successfully\n",
      "Process name completed : Download with thread 2\n",
      "File downloaded successfully\n",
      "Process name completed : Download with thread 3\n",
      "Main program done!!\n",
      "Time taken(seconds) : 8.157037019729614\n"
     ]
    }
   ],
   "source": [
    "t1_t = time.time()\n",
    "t1.start()\n",
    "t2.start()\n",
    "t3.start()\n",
    "\n",
    "t1.join()\n",
    "t2.join()\n",
    "t3.join()\n",
    "\n",
    "print(\"Main program done!!\")\n",
    "t2_t = time.time()\n",
    "print(f\"Time taken(seconds) : {t2_t-t1_t}\")"
   ]
  },
  {
   "cell_type": "code",
   "execution_count": null,
   "id": "310d31d5",
   "metadata": {},
   "outputs": [],
   "source": []
  }
 ],
 "metadata": {
  "kernelspec": {
   "display_name": "base",
   "language": "python",
   "name": "python3"
  },
  "language_info": {
   "codemirror_mode": {
    "name": "ipython",
    "version": 3
   },
   "file_extension": ".py",
   "mimetype": "text/x-python",
   "name": "python",
   "nbconvert_exporter": "python",
   "pygments_lexer": "ipython3",
   "version": "3.12.3"
  }
 },
 "nbformat": 4,
 "nbformat_minor": 5
}
