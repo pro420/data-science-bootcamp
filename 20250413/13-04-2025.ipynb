{
 "cells": [
  {
   "cell_type": "code",
   "execution_count": 8,
   "id": "476454b6",
   "metadata": {},
   "outputs": [],
   "source": [
    "fruits = [\"apples\", \"oranges\", \"grapes\"]"
   ]
  },
  {
   "cell_type": "code",
   "execution_count": 9,
   "id": "dd839383",
   "metadata": {},
   "outputs": [],
   "source": [
    "iterable = iter(fruits)"
   ]
  },
  {
   "cell_type": "code",
   "execution_count": 10,
   "id": "8511058f",
   "metadata": {},
   "outputs": [
    {
     "name": "stdout",
     "output_type": "stream",
     "text": [
      "apples\n"
     ]
    }
   ],
   "source": [
    "print(next(iterable))"
   ]
  },
  {
   "cell_type": "code",
   "execution_count": 11,
   "id": "0457ba7a",
   "metadata": {},
   "outputs": [
    {
     "name": "stdout",
     "output_type": "stream",
     "text": [
      "oranges\n"
     ]
    }
   ],
   "source": [
    "print(next(iterable))"
   ]
  },
  {
   "cell_type": "code",
   "execution_count": 12,
   "id": "a4e00ad5",
   "metadata": {},
   "outputs": [
    {
     "name": "stdout",
     "output_type": "stream",
     "text": [
      "grapes\n"
     ]
    }
   ],
   "source": [
    "print(next(iterable))"
   ]
  },
  {
   "cell_type": "code",
   "execution_count": 13,
   "id": "b8df4f00",
   "metadata": {},
   "outputs": [
    {
     "ename": "StopIteration",
     "evalue": "",
     "output_type": "error",
     "traceback": [
      "\u001b[31m---------------------------------------------------------------------------\u001b[39m",
      "\u001b[31mStopIteration\u001b[39m                             Traceback (most recent call last)",
      "\u001b[36mCell\u001b[39m\u001b[36m \u001b[39m\u001b[32mIn[13]\u001b[39m\u001b[32m, line 1\u001b[39m\n\u001b[32m----> \u001b[39m\u001b[32m1\u001b[39m \u001b[38;5;28mprint\u001b[39m(\u001b[38;5;28;43mnext\u001b[39;49m\u001b[43m(\u001b[49m\u001b[43miterable\u001b[49m\u001b[43m)\u001b[49m)\n",
      "\u001b[31mStopIteration\u001b[39m: "
     ]
    }
   ],
   "source": [
    "print(next(iterable))"
   ]
  },
  {
   "cell_type": "code",
   "execution_count": 19,
   "id": "5ae7f69b",
   "metadata": {},
   "outputs": [
    {
     "name": "stdout",
     "output_type": "stream",
     "text": [
      "Traversing started.\n",
      "apples\n",
      "oranges\n",
      "grapes\n",
      "Traversing done.\n",
      "grapes\n"
     ]
    }
   ],
   "source": [
    "print(\"Traversing started.\")\n",
    "for i in fruits:\n",
    "    print(i)\n",
    "print(\"Traversing done.\")\n",
    "print(i)"
   ]
  },
  {
   "cell_type": "code",
   "execution_count": 22,
   "id": "487005fc",
   "metadata": {},
   "outputs": [
    {
     "name": "stdout",
     "output_type": "stream",
     "text": [
      "2\n",
      "4\n",
      "6\n",
      "8\n",
      "10\n",
      "12\n",
      "14\n",
      "16\n",
      "18\n",
      "20\n"
     ]
    }
   ],
   "source": [
    "table_till = [1,2,3,4,5,6,7,8,9,10]\n",
    "\n",
    "for i in table_till:\n",
    "    print(2*i)"
   ]
  },
  {
   "cell_type": "code",
   "execution_count": 23,
   "id": "d9dd2950",
   "metadata": {},
   "outputs": [
    {
     "name": "stdout",
     "output_type": "stream",
     "text": [
      "hello\n",
      "hello\n",
      "hello\n",
      "hello\n",
      "hello\n",
      "hello\n",
      "hello\n",
      "hello\n",
      "hello\n",
      "hello\n"
     ]
    }
   ],
   "source": [
    "table_till = [1,2,3,4,5,6,7,8,9,10]\n",
    "\n",
    "for i in table_till:\n",
    "    print(\"hello\")"
   ]
  },
  {
   "cell_type": "code",
   "execution_count": 24,
   "id": "e8e1efe8",
   "metadata": {},
   "outputs": [
    {
     "name": "stdout",
     "output_type": "stream",
     "text": [
      "2\n",
      "4\n",
      "6\n",
      "8\n",
      "10\n",
      "12\n",
      "14\n",
      "16\n",
      "18\n",
      "20\n"
     ]
    }
   ],
   "source": [
    "for i in range(1,11,1):\n",
    "    print(2*i)"
   ]
  },
  {
   "cell_type": "code",
   "execution_count": null,
   "id": "51363554",
   "metadata": {},
   "outputs": [
    {
     "name": "stdout",
     "output_type": "stream",
     "text": [
      "2\n",
      "4\n",
      "6\n",
      "8\n",
      "10\n",
      "12\n",
      "14\n",
      "16\n",
      "18\n",
      "20\n"
     ]
    }
   ],
   "source": [
    "for i in range(1,11):\n",
    "    print(2*i)"
   ]
  },
  {
   "cell_type": "code",
   "execution_count": 30,
   "id": "8516fc3f",
   "metadata": {},
   "outputs": [
    {
     "name": "stdout",
     "output_type": "stream",
     "text": [
      "1\n",
      "2\n",
      "3\n",
      "4\n",
      "5\n",
      "6\n",
      "7\n",
      "8\n",
      "9\n",
      "10\n",
      "11\n",
      "12\n",
      "13\n",
      "14\n",
      "15\n"
     ]
    }
   ],
   "source": [
    "for i in 1,2,3,4,5,6,7,8,9,10,11,12,13,14,15:\n",
    "    print(i)"
   ]
  },
  {
   "cell_type": "code",
   "execution_count": 36,
   "id": "0859503e",
   "metadata": {},
   "outputs": [
    {
     "name": "stdout",
     "output_type": "stream",
     "text": [
      "0\n",
      "1\n",
      "2\n",
      "3\n",
      "4\n",
      "5\n",
      "6\n",
      "7\n",
      "8\n",
      "9\n"
     ]
    }
   ],
   "source": [
    "for element in range(10):\n",
    "    print(element)\n",
    "\n",
    "# 0 is start bydefault\n",
    "# 1 is step is size by default"
   ]
  },
  {
   "cell_type": "code",
   "execution_count": 41,
   "id": "33879f20",
   "metadata": {},
   "outputs": [
    {
     "name": "stdout",
     "output_type": "stream",
     "text": [
      "1\n",
      "5\n",
      "9\n",
      "13\n"
     ]
    }
   ],
   "source": [
    "for i in range (1,15,4):\n",
    "    print(i)\n"
   ]
  },
  {
   "cell_type": "code",
   "execution_count": 46,
   "id": "3c66edc9",
   "metadata": {},
   "outputs": [
    {
     "name": "stdout",
     "output_type": "stream",
     "text": [
      "10\n",
      "9\n",
      "8\n",
      "7\n",
      "6\n",
      "5\n",
      "4\n",
      "3\n",
      "2\n",
      "1\n"
     ]
    }
   ],
   "source": [
    "for i in range(10,0,-1):\n",
    "    print(i)"
   ]
  },
  {
   "cell_type": "code",
   "execution_count": 42,
   "id": "c7e93b21",
   "metadata": {},
   "outputs": [
    {
     "name": "stdout",
     "output_type": "stream",
     "text": [
      "1\n"
     ]
    }
   ],
   "source": [
    "for i in [1]:\n",
    "    print(i)"
   ]
  },
  {
   "cell_type": "code",
   "execution_count": 53,
   "id": "151e6042",
   "metadata": {},
   "outputs": [],
   "source": [
    "emp_details = {\n",
    "               1 : [\"monal\", \"india\"], \n",
    "               2 : [\"lucas\", \"brazil\"],\n",
    "               3 : [\"ashar\", \"Saudi arabia\", 2],\n",
    "               4 : [\"riyan\", \"india\"],\n",
    "               \"hello\" : \"hello\"\n",
    "               }"
   ]
  },
  {
   "cell_type": "code",
   "execution_count": 69,
   "id": "b0a759d5",
   "metadata": {},
   "outputs": [
    {
     "data": {
      "text/plain": [
       "['riyan', 'india']"
      ]
     },
     "execution_count": 69,
     "metadata": {},
     "output_type": "execute_result"
    }
   ],
   "source": [
    "emp_details[4]"
   ]
  },
  {
   "cell_type": "code",
   "execution_count": 48,
   "id": "8949435d",
   "metadata": {},
   "outputs": [
    {
     "data": {
      "text/plain": [
       "dict_keys([1, 2, 3, 4])"
      ]
     },
     "execution_count": 48,
     "metadata": {},
     "output_type": "execute_result"
    }
   ],
   "source": [
    "emp_details.keys()"
   ]
  },
  {
   "cell_type": "code",
   "execution_count": 73,
   "id": "2837ca30",
   "metadata": {},
   "outputs": [
    {
     "name": "stdout",
     "output_type": "stream",
     "text": [
      "['monal', 'india']\n",
      "['lucas', 'brazil']\n",
      "['ashar', 'Saudi arabia', 2]\n",
      "['riyan', 'india']\n",
      "hello\n"
     ]
    }
   ],
   "source": [
    "for value in emp_details.keys():\n",
    "    print(emp_details[value])"
   ]
  },
  {
   "cell_type": "markdown",
   "id": "7fef19c2",
   "metadata": {},
   "source": [
    "# print statmenent"
   ]
  },
  {
   "cell_type": "code",
   "execution_count": 56,
   "id": "659dcafa",
   "metadata": {},
   "outputs": [
    {
     "name": "stdout",
     "output_type": "stream",
     "text": [
      "hello\n"
     ]
    }
   ],
   "source": [
    "print(\"hello\")"
   ]
  },
  {
   "cell_type": "code",
   "execution_count": 80,
   "id": "66f67a7c",
   "metadata": {},
   "outputs": [
    {
     "name": "stdout",
     "output_type": "stream",
     "text": [
      "hello hi 1 2hi\n",
      "hi\n"
     ]
    }
   ],
   "source": [
    "print(\"hello\", \"hi\", 1,2, end=\"\")\n",
    "print(\"hi\")\n",
    "print(\"hi\")"
   ]
  },
  {
   "cell_type": "code",
   "execution_count": 65,
   "id": "7eb32cfa",
   "metadata": {},
   "outputs": [
    {
     "name": "stdout",
     "output_type": "stream",
     "text": [
      "hello\thi\n"
     ]
    }
   ],
   "source": [
    "print(\"hello\", end=\"\\t\")\n",
    "print(\"hi\")"
   ]
  },
  {
   "cell_type": "code",
   "execution_count": null,
   "id": "d1f6f0ed",
   "metadata": {},
   "outputs": [],
   "source": [
    "'''\n",
    "*\n",
    "**\n",
    "***\n",
    "****\n",
    "*****\n",
    "'''"
   ]
  },
  {
   "cell_type": "code",
   "execution_count": 87,
   "id": "fc0d4f11",
   "metadata": {},
   "outputs": [
    {
     "name": "stdout",
     "output_type": "stream",
     "text": [
      "*****\n"
     ]
    }
   ],
   "source": [
    "print(\"*\"*5)"
   ]
  },
  {
   "cell_type": "code",
   "execution_count": 93,
   "id": "3d6a39bd",
   "metadata": {},
   "outputs": [
    {
     "name": "stdout",
     "output_type": "stream",
     "text": [
      "*\n",
      "**\n",
      "***\n",
      "****\n",
      "*****\n"
     ]
    }
   ],
   "source": [
    "for i in range(1,6):\n",
    "    print(\"*\"*i)\n"
   ]
  },
  {
   "cell_type": "code",
   "execution_count": 96,
   "id": "b34d0770",
   "metadata": {},
   "outputs": [
    {
     "name": "stdout",
     "output_type": "stream",
     "text": [
      "provide solution\n",
      "*\n",
      "***\n",
      "*****\n"
     ]
    }
   ],
   "source": [
    "'''\n",
    "*\n",
    "***\n",
    "*****\n",
    "'''\n",
    "print(\"provide solution\")\n",
    "for i in range(1,6,2):\n",
    "    print(\"*\"*i)"
   ]
  },
  {
   "cell_type": "code",
   "execution_count": 100,
   "id": "748c421a",
   "metadata": {},
   "outputs": [
    {
     "name": "stdout",
     "output_type": "stream",
     "text": [
      "--*\n",
      "-**\n",
      "***\n"
     ]
    }
   ],
   "source": [
    "'''\n",
    "--*\n",
    "-**\n",
    "***\n",
    "'''\n",
    "rows = 3\n",
    "for i in range(1, rows + 1):\n",
    "    dashes = \"-\" * (rows - i)\n",
    "    stars = \"*\" * i\n",
    "    print(dashes + stars)\n",
    "\n"
   ]
  },
  {
   "cell_type": "code",
   "execution_count": 106,
   "id": "a298a0ab",
   "metadata": {},
   "outputs": [
    {
     "name": "stdout",
     "output_type": "stream",
     "text": [
      "--*\n",
      "-**\n",
      "***\n"
     ]
    }
   ],
   "source": [
    "max = 3\n",
    "for i in range(2, -1, -1):\n",
    "    print(i*\"-\", end=\"\")\n",
    "    print((max-i)*\"*\")"
   ]
  },
  {
   "cell_type": "code",
   "execution_count": 107,
   "id": "500fd80b",
   "metadata": {},
   "outputs": [
    {
     "name": "stdout",
     "output_type": "stream",
     "text": [
      "--*\n",
      "-**\n",
      "***\n"
     ]
    }
   ],
   "source": [
    "for i in range(1, 4):\n",
    "    print(\"-\" * (3 - i) + \"*\" * i)\n"
   ]
  },
  {
   "cell_type": "code",
   "execution_count": 109,
   "id": "f4e51ae1",
   "metadata": {},
   "outputs": [
    {
     "name": "stdout",
     "output_type": "stream",
     "text": [
      "--*\n",
      "-**\n",
      "***\n"
     ]
    }
   ],
   "source": [
    "for x in range(2,-1,-1):\n",
    "    print(\"-\"*x, end = \"\")\n",
    "    for y in range(x,3):\n",
    "        print(\"*\", end = \"\")\n",
    "    print()\n"
   ]
  },
  {
   "cell_type": "code",
   "execution_count": 113,
   "id": "be4c17ff",
   "metadata": {},
   "outputs": [
    {
     "name": "stdout",
     "output_type": "stream",
     "text": [
      "--*\n"
     ]
    }
   ],
   "source": [
    "max = 3\n",
    "number_of_dash = 2\n",
    "print(number_of_dash*\"-\",end=\"\")\n",
    "print((max-number_of_dash)*\"*\")"
   ]
  },
  {
   "cell_type": "code",
   "execution_count": 114,
   "id": "3e91efd2",
   "metadata": {},
   "outputs": [
    {
     "name": "stdout",
     "output_type": "stream",
     "text": [
      "-**\n"
     ]
    }
   ],
   "source": [
    "max = 3\n",
    "number_of_dash = 1\n",
    "print(number_of_dash*\"-\",end=\"\")\n",
    "print((max-number_of_dash)*\"*\")"
   ]
  },
  {
   "cell_type": "code",
   "execution_count": 115,
   "id": "264cd817",
   "metadata": {},
   "outputs": [
    {
     "name": "stdout",
     "output_type": "stream",
     "text": [
      "***\n"
     ]
    }
   ],
   "source": [
    "max = 3\n",
    "number_of_dash = 0\n",
    "print(number_of_dash*\"-\",end=\"\")\n",
    "print((max-number_of_dash)*\"*\")"
   ]
  },
  {
   "cell_type": "code",
   "execution_count": null,
   "id": "049a0b2e",
   "metadata": {},
   "outputs": [
    {
     "name": "stdout",
     "output_type": "stream",
     "text": [
      "--*\n",
      "-**\n",
      "***\n"
     ]
    }
   ],
   "source": [
    "max = 3\n",
    "for i in range(2,-1,-1):\n",
    "    print(i*\"-\",end=\"\")\n",
    "    print((max-i)*\"*\")"
   ]
  },
  {
   "cell_type": "code",
   "execution_count": 121,
   "id": "095b5dd7",
   "metadata": {},
   "outputs": [
    {
     "name": "stdout",
     "output_type": "stream",
     "text": [
      "2\n",
      "1\n",
      "0\n"
     ]
    }
   ],
   "source": [
    "for i in range(2,-1,-1):\n",
    "    print(i)"
   ]
  },
  {
   "cell_type": "code",
   "execution_count": 123,
   "id": "cb4ac25e",
   "metadata": {},
   "outputs": [
    {
     "name": "stdout",
     "output_type": "stream",
     "text": [
      "--*\n",
      "-**\n",
      "***\n"
     ]
    }
   ],
   "source": [
    "max = 3\n",
    "for i in range(2,-1,-1):\n",
    "    a = i*\"-\"\n",
    "    b = (max-i)*\"*\"\n",
    "    print(a+b)"
   ]
  },
  {
   "cell_type": "code",
   "execution_count": 128,
   "id": "7eb44b55",
   "metadata": {},
   "outputs": [
    {
     "name": "stdout",
     "output_type": "stream",
     "text": [
      "Student id :  1\n",
      "Student id :  2\n",
      "Student id :  3\n",
      "Student id :  4\n",
      "Student id :  5\n",
      "Student id :  7\n",
      "Student id :  8\n",
      "Student id :  9\n",
      "Student id :  10\n"
     ]
    }
   ],
   "source": [
    "# problem statments\n",
    "# there is a defaulter which we dont want to include for the attendance\n",
    "\n",
    "student_id = 6\n",
    "\n",
    "for i in range(1, 11):\n",
    "    if i == student_id:\n",
    "        continue\n",
    "    print(\"Student id : \", i)"
   ]
  },
  {
   "cell_type": "code",
   "execution_count": 129,
   "id": "1f383279",
   "metadata": {},
   "outputs": [
    {
     "name": "stdout",
     "output_type": "stream",
     "text": [
      "Student id :  2\n",
      "Student id :  3\n",
      "Student id :  4\n",
      "Student id :  5\n",
      "Student id :  9\n",
      "Student id :  10\n"
     ]
    }
   ],
   "source": [
    "student_ids = [1,6,7,8]\n",
    "\n",
    "for i in range(1, 11):\n",
    "    if i in student_ids:\n",
    "        continue\n",
    "    print(\"Student id : \", i)"
   ]
  },
  {
   "cell_type": "code",
   "execution_count": null,
   "id": "25b85d71",
   "metadata": {},
   "outputs": [
    {
     "name": "stdout",
     "output_type": "stream",
     "text": [
      "Student id :  1\n",
      "Student id :  2\n",
      "hello\n"
     ]
    }
   ],
   "source": [
    "student_id = 3\n",
    "\n",
    "for i in range(1, 11):\n",
    "    if i == student_id:\n",
    "        break\n",
    "    print(\"Student id : \", i)\n",
    "print(\"hello\")"
   ]
  },
  {
   "cell_type": "code",
   "execution_count": 135,
   "id": "133258d2",
   "metadata": {},
   "outputs": [
    {
     "name": "stdout",
     "output_type": "stream",
     "text": [
      "Student id :  1\n",
      "Student id :  2\n",
      "Student id :  3\n",
      "hello\n"
     ]
    }
   ],
   "source": [
    "student_id = 4\n",
    "\n",
    "for i in range(1, 11):\n",
    "    if i == student_id:\n",
    "        break\n",
    "    print(\"Student id : \", i)\n",
    "print(\"hello\")"
   ]
  },
  {
   "cell_type": "code",
   "execution_count": null,
   "id": "16add8ad",
   "metadata": {},
   "outputs": [],
   "source": []
  }
 ],
 "metadata": {
  "kernelspec": {
   "display_name": "base",
   "language": "python",
   "name": "python3"
  },
  "language_info": {
   "codemirror_mode": {
    "name": "ipython",
    "version": 3
   },
   "file_extension": ".py",
   "mimetype": "text/x-python",
   "name": "python",
   "nbconvert_exporter": "python",
   "pygments_lexer": "ipython3",
   "version": "3.12.3"
  }
 },
 "nbformat": 4,
 "nbformat_minor": 5
}
