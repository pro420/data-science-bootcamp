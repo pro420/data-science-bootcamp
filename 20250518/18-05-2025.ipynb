{
 "cells": [
  {
   "cell_type": "code",
   "execution_count": 2,
   "id": "c051b627",
   "metadata": {},
   "outputs": [],
   "source": [
    "import requests\n",
    "import time\n",
    "import threading\n",
    "import time\n",
    "import os"
   ]
  },
  {
   "cell_type": "code",
   "execution_count": 2,
   "id": "efcc9a98",
   "metadata": {},
   "outputs": [],
   "source": [
    "def download_file(process_name, url, file_path):\n",
    "    try:\n",
    "        print(f\"Download process name started : {process_name}\")\n",
    "        response = requests.get(url)\n",
    "        with open(file_path, \"wb\") as file:\n",
    "            for chunk in response.iter_content(chunk_size=8192):\n",
    "                if chunk:\n",
    "                    file.write(chunk)\n",
    "        print(\"File downloaded successfully\")\n",
    "    except Exception as e :\n",
    "        print(f\"Error downloading file : {e}\")\n",
    "    print(f\"Process name completed : {process_name}\")"
   ]
  },
  {
   "cell_type": "code",
   "execution_count": 5,
   "id": "a19c1fff",
   "metadata": {},
   "outputs": [],
   "source": [
    "url = \"https://raw.githubusercontent.com/Monalsingh/VideoBroadcaster/refs/heads/main/static/default-office-animated.png\""
   ]
  },
  {
   "cell_type": "code",
   "execution_count": 6,
   "id": "4e771100",
   "metadata": {},
   "outputs": [],
   "source": [
    "t1_wd = threading.Thread(target=download_file, args=(\"abc_1\", url, \"a.png\"), daemon=True)"
   ]
  },
  {
   "cell_type": "code",
   "execution_count": 7,
   "id": "66e6ffa0",
   "metadata": {},
   "outputs": [
    {
     "name": "stdout",
     "output_type": "stream",
     "text": [
      "Download process name started : abc_1\n",
      "File downloaded successfully\n",
      "Process name completed : abc_1\n",
      "Process completed\n"
     ]
    }
   ],
   "source": [
    "t1_wd.start()\n",
    "\n",
    "t1_wd.join()\n",
    "\n",
    "print(\"Process completed\")"
   ]
  },
  {
   "cell_type": "markdown",
   "id": "4ca0cd2b",
   "metadata": {},
   "source": [
    "# Close manually"
   ]
  },
  {
   "cell_type": "code",
   "execution_count": null,
   "id": "dad4d097",
   "metadata": {},
   "outputs": [
    {
     "name": "stdout",
     "output_type": "stream",
     "text": [
      "Watching a.txt\n",
      "Watching file ....\n",
      "Watching file ....\n",
      "Watching file ....\n",
      "Watching file ....\n",
      "Watching file ....\n",
      "Watching file ....\n",
      "Watching file ....\n",
      "Watching file ....\n",
      "Watching file ....\n",
      "Watching file ....\n",
      "Watching file ....\n",
      "Watching file ....\n",
      "Watching file ....\n"
     ]
    }
   ],
   "source": [
    "\n",
    "stop_signal = threading.Event() # bydefault it is false\n",
    "\n",
    "def watch_file(file_path):\n",
    "    count = 0\n",
    "    print(f\"Watching {file_path}\")\n",
    "    while not stop_signal.is_set():\n",
    "        print(\"Watching file ....\")\n",
    "        time.sleep(2)\n",
    "    print(\"Watch exiting cleanly..\")\n",
    "\n",
    "\n",
    "t1_wd = threading.Thread(target=watch_file, args=(\"a.txt\",))\n",
    "t1_wd.start()\n",
    "\n",
    "stop_signal.set() # Event value to be true\n",
    "\n",
    "t1_wd.join()\n",
    "\n",
    "time.sleep(5)\n",
    "\n",
    "print(\"Main program exited cleanly.\")"
   ]
  },
  {
   "cell_type": "code",
   "execution_count": 4,
   "id": "6b993e83",
   "metadata": {},
   "outputs": [
    {
     "name": "stdout",
     "output_type": "stream",
     "text": [
      "Watching a.txt\n",
      "Watching file ....\n",
      "Watching b.txt\n",
      "Watching file ....\n",
      "Watching c.txt\n",
      "Watching file ....\n",
      "Watching file ....\n",
      "Watching file ....\n",
      "Watching file ....\n",
      "Watching file ....\n",
      "Watching file ....\n",
      "Watching file ....\n",
      "Watching file ....Watching file ....\n",
      "\n",
      "Watch thread id : 1 exiting cleanly..\n",
      "Watching file ....Watching file ....\n",
      "\n",
      "Watching file ....Watch thread id : 2 exiting cleanly..\n",
      "\n",
      "Watching file ....\n",
      "Watching file ....\n",
      "Watch thread id : 3 exiting cleanly..\n",
      "Main program exited cleanly.\n"
     ]
    }
   ],
   "source": [
    "\n",
    "stop_signal_1 = threading.Event() # bydefault it is false\n",
    "stop_signal_2 = threading.Event()\n",
    "stop_signal_3 = threading.Event()\n",
    "\n",
    "\n",
    "def watch_file(thread_id, file_path, event_signal):\n",
    "    print(f\"Watching {file_path}\")\n",
    "    while not event_signal.is_set():\n",
    "        print(\"Watching file ....\")\n",
    "        time.sleep(2)\n",
    "    print(f\"Watch thread id : {thread_id } exiting cleanly..\")\n",
    "\n",
    "\n",
    "t1_wd = threading.Thread(target=watch_file, args=(1 ,\"a.txt\",stop_signal_1,))\n",
    "t2_wd = threading.Thread(target=watch_file, args=(2 ,\"b.txt\",stop_signal_2,))\n",
    "t3_wd = threading.Thread(target=watch_file, args=(3, \"c.txt\",stop_signal_3,))\n",
    "\n",
    "t1_wd.start()\n",
    "t2_wd.start()\n",
    "t3_wd.start()\n",
    "\n",
    "\n",
    "time.sleep(5)\n",
    "stop_signal_1.set() # Event value to be true\n",
    "\n",
    "time.sleep(5)\n",
    "stop_signal_2.set() # Event value to be true\n",
    "\n",
    "time.sleep(5)\n",
    "stop_signal_3.set() # Event value to be true\n",
    "\n",
    "\n",
    "t1_wd.join()\n",
    "t2_wd.join()\n",
    "t3_wd.join()\n",
    "\n",
    "time.sleep(5)\n",
    "\n",
    "print(\"Main program exited cleanly.\")"
   ]
  },
  {
   "cell_type": "code",
   "execution_count": null,
   "id": "3b2ec7b3",
   "metadata": {},
   "outputs": [
    {
     "name": "stdout",
     "output_type": "stream",
     "text": [
      "Watching a.txt\n",
      "Watching file ....\n",
      "Watching b.txt\n",
      "Watching file ....\n",
      "Watching c.txt\n",
      "Watching file ....\n",
      "Watching file ....\n",
      "Watching file ....\n",
      "Watching file ....\n",
      "Watching file ....\n",
      "Watching file ....\n",
      "Watching file ....\n",
      "Watch thread id : 1 exiting cleanly..\n",
      "Watching file ....\n",
      "Watching file ....\n",
      "Watching file ....\n",
      "Watching file ....\n",
      "Watching file ....\n",
      "Watch thread id : 2 exiting cleanly..\n",
      "Watching file ....\n",
      "Watching file ....\n",
      "Watch thread id : 3 exiting cleanly..\n",
      "Main program exited cleanly.\n"
     ]
    }
   ],
   "source": [
    "\n",
    "stop_event = {\"thread_1\": False, \"thread_2\": False, \"thread_3\": False}\n",
    "\n",
    "def watch_file(thread_id, file_path, thread_name):\n",
    "    print(f\"Watching {file_path}\")\n",
    "    while not stop_event[thread_name]:\n",
    "        print(\"Watching file ....\")\n",
    "        time.sleep(2)\n",
    "    print(f\"Watch thread id : {thread_id } exiting cleanly..\")\n",
    "\n",
    "\n",
    "t1_wd = threading.Thread(target=watch_file, args=(1 ,\"a.txt\",\"thread_1\",))\n",
    "t2_wd = threading.Thread(target=watch_file, args=(2 ,\"b.txt\",\"thread_2\",))\n",
    "t3_wd = threading.Thread(target=watch_file, args=(3, \"c.txt\",\"thread_3\",))\n",
    "\n",
    "t1_wd.start()\n",
    "t2_wd.start()\n",
    "t3_wd.start()\n",
    "\n",
    "\n",
    "time.sleep(5)\n",
    "stop_event[\"thread_1\"] = True # Event value to be true\n",
    "\n",
    "time.sleep(5)\n",
    "stop_event[\"thread_2\"] = True # Event value to be true\n",
    "\n",
    "time.sleep(5)\n",
    "stop_event[\"thread_3\"] = True # Event value to be true\n",
    "\n",
    "\n",
    "t1_wd.join()\n",
    "t2_wd.join()\n",
    "t3_wd.join()\n",
    "\n",
    "time.sleep(5)\n",
    "\n",
    "print(\"Main program exited cleanly.\")"
   ]
  },
  {
   "cell_type": "code",
   "execution_count": null,
   "id": "d8de21fa",
   "metadata": {},
   "outputs": [],
   "source": [
    "\n",
    "stop_event = {\"thread_1\": False, \"thread_2\": False, \"thread_3\": False}\n",
    "stop_event_lock = threading.Lock()\n",
    "\n",
    "def watch_file(thread_id, file_path, thread_name):\n",
    "    print(f\"Watching {file_path}\")\n",
    "    while True:\n",
    "        with stop_event_lock:\n",
    "            if stop_event[thread_name]:\n",
    "                break\n",
    "            print(\"Watching file ....\")\n",
    "            time.sleep(2)\n",
    "    print(f\"Watch thread id : {thread_id } exiting cleanly..\")\n",
    "\n",
    "\n",
    "t1_wd = threading.Thread(target=watch_file, args=(1 ,\"a.txt\",\"thread_1\",))\n",
    "t2_wd = threading.Thread(target=watch_file, args=(2 ,\"b.txt\",\"thread_2\",))\n",
    "t3_wd = threading.Thread(target=watch_file, args=(3, \"c.txt\",\"thread_3\",))\n",
    "\n",
    "t1_wd.start()\n",
    "t2_wd.start()\n",
    "t3_wd.start()\n",
    "\n",
    "\n",
    "time.sleep(5)\n",
    "with stop_event_lock:\n",
    "    stop_event[\"thread_1\"] = True # Event value to be true\n",
    "\n",
    "time.sleep(5)\n",
    "with stop_event_lock:\n",
    "    stop_event[\"thread_2\"] = True # Event value to be true\n",
    "\n",
    "time.sleep(5)\n",
    "with stop_event_lock:\n",
    "    stop_event[\"thread_3\"] = True# Event value to be true\n",
    "\n",
    "\n",
    "t1_wd.join()\n",
    "t2_wd.join()\n",
    "t3_wd.join()\n",
    "\n",
    "time.sleep(5)\n",
    "\n",
    "print(\"Main program exited cleanly.\")"
   ]
  },
  {
   "cell_type": "markdown",
   "id": "a35cb088",
   "metadata": {},
   "source": [
    "# ThreadPoolExecutor"
   ]
  },
  {
   "cell_type": "code",
   "execution_count": 7,
   "id": "1859f01a",
   "metadata": {},
   "outputs": [],
   "source": [
    "from concurrent.futures import ThreadPoolExecutor"
   ]
  },
  {
   "cell_type": "code",
   "execution_count": null,
   "id": "083b1d0f",
   "metadata": {},
   "outputs": [
    {
     "name": "stdout",
     "output_type": "stream",
     "text": [
      "Watching a.txt\n",
      "Watching file ....1\n",
      "Watching b.txt\n",
      "Watching file ....2\n",
      "Watching c.txt\n",
      "Watching file ....3\n",
      "Watching file ....2\n",
      "Watching file ....3\n",
      "Watching file ....1\n",
      "Watching file ....2Watching file ....3\n",
      "\n",
      "Watching file ....1\n",
      "Watching file ....3Watching file ....2\n",
      "Watching file ....1\n",
      "\n",
      "Watching file ....1Watching file ....2\n",
      "Watching file ....3\n",
      "\n",
      "Watch thread id : 1 exiting cleanly..Watch thread id : 3 exiting cleanly..\n",
      "Watching d.txt\n",
      "Watching file ....4\n",
      "Watch thread id : 2 exiting cleanly..\n",
      "\n",
      "Watching file ....4\n",
      "Watching file ....4\n",
      "Watching file ....4\n",
      "Watching file ....4\n",
      "Watch thread id : 4 exiting cleanly..\n",
      "Thread executed successfully\n"
     ]
    }
   ],
   "source": [
    "# start\n",
    "# join()\n",
    "\n",
    "a = [(1 ,\"a.txt\",\"thread_1\",), (2 ,\"b.txt\",\"thread_2\",), (3 ,\"c.txt\",\"thread_3\",), (4 ,\"d.txt\",\"thread_4\",)]\n",
    "def watch_file(input_tuple):\n",
    "    thread_id, file_path, thread_name = input_tuple\n",
    "    count=0\n",
    "    print(f\"Watching {file_path}\")\n",
    "    while count<5:\n",
    "        print(f\"Watching file ....{thread_id}\")\n",
    "        time.sleep(2)\n",
    "        count+=1\n",
    "    print(f\"Watch thread id : {thread_id } exiting cleanly..\")\n",
    "    return f\"Hello {thread_id}\"\n",
    "\n",
    "\n",
    "with ThreadPoolExecutor(max_workers=3) as executor:\n",
    "    results = list(executor.map(watch_file, a))\n",
    "\n",
    "# watch_file, (1 ,\"a.txt\",\"thread_1\",)\n",
    "# watch_file, (2 ,\"b.txt\",\"thread_2\",)\n",
    "# watch_file, (3 ,\"c.txt\",\"thread_3\",)\n",
    "# watch_file, (4 ,\"d.txt\",\"thread_4\",)\n",
    "\n",
    "print(\"Thread executed successfully\")"
   ]
  },
  {
   "cell_type": "code",
   "execution_count": 17,
   "id": "e750a4ed",
   "metadata": {},
   "outputs": [
    {
     "name": "stdout",
     "output_type": "stream",
     "text": [
      "['Hello 1', 'Hello 2', 'Hello 3', 'Hello 4']\n"
     ]
    }
   ],
   "source": [
    "print(results)"
   ]
  },
  {
   "cell_type": "code",
   "execution_count": 18,
   "id": "88f70a5d",
   "metadata": {},
   "outputs": [
    {
     "name": "stdout",
     "output_type": "stream",
     "text": [
      "1 2 3\n"
     ]
    }
   ],
   "source": [
    "a,b,c = [1,2,3]\n",
    "print(a,b,c)"
   ]
  },
  {
   "cell_type": "code",
   "execution_count": 21,
   "id": "4375d17e",
   "metadata": {},
   "outputs": [],
   "source": [
    "from a import *"
   ]
  },
  {
   "cell_type": "code",
   "execution_count": 22,
   "id": "3176e203",
   "metadata": {},
   "outputs": [
    {
     "data": {
      "text/plain": [
       "[7, 7, 7, 7, 7]"
      ]
     },
     "execution_count": 22,
     "metadata": {},
     "output_type": "execute_result"
    }
   ],
   "source": [
    "[7]*5"
   ]
  },
  {
   "cell_type": "code",
   "execution_count": 23,
   "id": "f2986a17",
   "metadata": {},
   "outputs": [],
   "source": [
    "import multiprocessing"
   ]
  },
  {
   "cell_type": "code",
   "execution_count": 24,
   "id": "d4b2710c",
   "metadata": {},
   "outputs": [
    {
     "name": "stdout",
     "output_type": "stream",
     "text": [
      "24\n"
     ]
    }
   ],
   "source": [
    "print(multiprocessing.cpu_count())"
   ]
  },
  {
   "cell_type": "code",
   "execution_count": 36,
   "id": "395594bd",
   "metadata": {},
   "outputs": [
    {
     "name": "stdout",
     "output_type": "stream",
     "text": [
      "1795960652032\n",
      "1795960652032\n",
      "1795960378496\n",
      "1795960378496\n",
      "1795960652032\n",
      "1795960388416\n",
      "1795960388416\n",
      "1795960652032\n",
      "1795960592896\n",
      "1795960592896\n",
      "1795960652032\n",
      "{'final_key': 'value'}\n",
      "{'first_level_key': {'second_level_key': {'third_level_key': {'final_key': 'value'}}}}\n",
      "1795960592896\n",
      "1795960652032\n"
     ]
    }
   ],
   "source": [
    "nested_dict = {}\n",
    "levels = ['first_level_key', 'second_level_key', 'third_level_key']\n",
    "\n",
    "current_dict = nested_dict\n",
    "print(id(current_dict))\n",
    "print(id(nested_dict))\n",
    "\n",
    "for level in levels:\n",
    "    current_dict[level] = {}\n",
    "    print(id(current_dict[level]))\n",
    "    current_dict = current_dict[level]\n",
    "    print(id(current_dict))\n",
    "    print(id(nested_dict))\n",
    "\n",
    "current_dict['final_key'] = 'value'\n",
    "print(current_dict)\n",
    "print(nested_dict)\n",
    "print(id(current_dict))\n",
    "print(id(nested_dict))\n",
    "\n",
    "\n",
    "nested_dict = {}\n",
    "current_dict = nested_dict\n"
   ]
  }
 ],
 "metadata": {
  "kernelspec": {
   "display_name": "base",
   "language": "python",
   "name": "python3"
  },
  "language_info": {
   "codemirror_mode": {
    "name": "ipython",
    "version": 3
   },
   "file_extension": ".py",
   "mimetype": "text/x-python",
   "name": "python",
   "nbconvert_exporter": "python",
   "pygments_lexer": "ipython3",
   "version": "3.12.3"
  }
 },
 "nbformat": 4,
 "nbformat_minor": 5
}
