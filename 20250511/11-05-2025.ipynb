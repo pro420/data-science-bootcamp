{
 "cells": [
  {
   "cell_type": "code",
   "execution_count": 3,
   "id": "8fb374bb",
   "metadata": {},
   "outputs": [],
   "source": [
    "# 1. init\n",
    "\n",
    "class Person:\n",
    "    def __init__(self, name):\n",
    "        self.name = name\n",
    "    \n",
    "    def print_var(self):\n",
    "        print(self.name)"
   ]
  },
  {
   "cell_type": "code",
   "execution_count": 4,
   "id": "a3c7ffb4",
   "metadata": {},
   "outputs": [],
   "source": [
    "p_init = Person(\"Monal\")"
   ]
  },
  {
   "cell_type": "code",
   "execution_count": 5,
   "id": "67a1c9cb",
   "metadata": {},
   "outputs": [
    {
     "name": "stdout",
     "output_type": "stream",
     "text": [
      "Monal\n"
     ]
    }
   ],
   "source": [
    "p_init.print_var()"
   ]
  },
  {
   "cell_type": "code",
   "execution_count": 15,
   "id": "5106e72f",
   "metadata": {},
   "outputs": [],
   "source": [
    "# 2. str\n",
    "\n",
    "class Person:\n",
    "    def __init__(self, name):\n",
    "        self.name = name\n",
    "        \n",
    "    \n",
    "    def __str__(self):\n",
    "        return f\"Person object has these values : {self.name}\"\n"
   ]
  },
  {
   "cell_type": "code",
   "execution_count": 16,
   "id": "d23f8623",
   "metadata": {},
   "outputs": [],
   "source": [
    "p_str = Person(\"Monal\")"
   ]
  },
  {
   "cell_type": "code",
   "execution_count": 17,
   "id": "a5edc41d",
   "metadata": {},
   "outputs": [
    {
     "name": "stdout",
     "output_type": "stream",
     "text": [
      "Person object has these values : Monal\n"
     ]
    }
   ],
   "source": [
    "print(p_str)"
   ]
  },
  {
   "cell_type": "code",
   "execution_count": 18,
   "id": "d8bcf25c",
   "metadata": {},
   "outputs": [
    {
     "name": "stdout",
     "output_type": "stream",
     "text": [
      "Person object has these values : Monal\n"
     ]
    }
   ],
   "source": [
    "print(p_str.__str__())"
   ]
  },
  {
   "cell_type": "code",
   "execution_count": null,
   "id": "2f865ad4",
   "metadata": {},
   "outputs": [],
   "source": [
    "# 3. repr : formal developer focused string"
   ]
  },
  {
   "cell_type": "code",
   "execution_count": 57,
   "id": "76577a3d",
   "metadata": {},
   "outputs": [],
   "source": [
    "class Person:\n",
    "    def __init__(self, name):\n",
    "        self.name = name\n",
    "    \n",
    "    def __repr__(self):\n",
    "        return f\"Person('{self.name}')\"\n",
    "    \n",
    "    def __str__(self):\n",
    "        return f\"Person object has these values : {self.name}\"\n",
    "    \n",
    "    def add(self, a, b):\n",
    "        print(a+b)"
   ]
  },
  {
   "cell_type": "code",
   "execution_count": 58,
   "id": "9bf73f97",
   "metadata": {},
   "outputs": [],
   "source": [
    "p_repr = Person(\"Monal\")"
   ]
  },
  {
   "cell_type": "code",
   "execution_count": 59,
   "id": "799065ee",
   "metadata": {},
   "outputs": [
    {
     "name": "stdout",
     "output_type": "stream",
     "text": [
      "Person object has these values : Monal\n"
     ]
    }
   ],
   "source": [
    "print(p_repr)"
   ]
  },
  {
   "cell_type": "code",
   "execution_count": 60,
   "id": "ad3575b3",
   "metadata": {},
   "outputs": [
    {
     "name": "stdout",
     "output_type": "stream",
     "text": [
      "Person object has these values : Monal\n"
     ]
    }
   ],
   "source": [
    "print(p_repr)"
   ]
  },
  {
   "cell_type": "code",
   "execution_count": 61,
   "id": "f7eb1626",
   "metadata": {},
   "outputs": [],
   "source": [
    "class Abcd:\n",
    "    def __init__(self):\n",
    "        self.hello = \"hello world\"\n",
    "\n",
    "    def get_class_invocation(self, obj):\n",
    "        print(repr(obj))\n",
    "\n",
    "    def get_addition_obj_and_perform(self, obj, val1, val2):\n",
    "        obj.add(val1, val2)\n",
    "    \n",
    "    def a(self):\n",
    "        print(\"Dummy\")\n",
    "\n"
   ]
  },
  {
   "cell_type": "code",
   "execution_count": 62,
   "id": "07f5e4ad",
   "metadata": {},
   "outputs": [],
   "source": [
    "a = Abcd()"
   ]
  },
  {
   "cell_type": "code",
   "execution_count": 63,
   "id": "8c6bd48a",
   "metadata": {},
   "outputs": [
    {
     "name": "stdout",
     "output_type": "stream",
     "text": [
      "Dummy\n"
     ]
    }
   ],
   "source": [
    "a.a()"
   ]
  },
  {
   "cell_type": "code",
   "execution_count": 64,
   "id": "94b16fa1",
   "metadata": {},
   "outputs": [
    {
     "name": "stdout",
     "output_type": "stream",
     "text": [
      "3\n"
     ]
    }
   ],
   "source": [
    "a.get_addition_obj_and_perform(p_repr, 1, 2)"
   ]
  },
  {
   "cell_type": "code",
   "execution_count": 65,
   "id": "ecc4f906",
   "metadata": {},
   "outputs": [
    {
     "name": "stdout",
     "output_type": "stream",
     "text": [
      "Person('Monal')\n"
     ]
    }
   ],
   "source": [
    "a.get_class_invocation(p_repr)"
   ]
  },
  {
   "cell_type": "code",
   "execution_count": 66,
   "id": "1f9f68d2",
   "metadata": {},
   "outputs": [
    {
     "name": "stderr",
     "output_type": "stream",
     "text": [
      "'r' is not recognized as an internal or external command,\n",
      "operable program or batch file.\n"
     ]
    }
   ],
   "source": [
    "# 4. add\n",
    "\n",
    "class NewAdd:\n",
    "    def __init__(self, x, y):\n",
    "        self.x = x\n",
    "        self.y = y\n",
    "\n",
    "    def __repr__(self):\n",
    "        return f\"NewAdd({self.x}, {self.y})\"\n",
    "    !r ?\n",
    "    \n",
    "    def __add__(self, other):\n",
    "        return (self.x+other.x, self.y+other.y)"
   ]
  },
  {
   "cell_type": "code",
   "execution_count": 67,
   "id": "63833bc0",
   "metadata": {},
   "outputs": [],
   "source": [
    "p_add_1 = NewAdd(100, 200)\n",
    "p_add_2 = NewAdd(100, 200)"
   ]
  },
  {
   "cell_type": "code",
   "execution_count": 68,
   "id": "705bddee",
   "metadata": {},
   "outputs": [
    {
     "data": {
      "text/plain": [
       "(200, 400)"
      ]
     },
     "execution_count": 68,
     "metadata": {},
     "output_type": "execute_result"
    }
   ],
   "source": [
    "p_add_1 + p_add_2"
   ]
  },
  {
   "cell_type": "code",
   "execution_count": 69,
   "id": "aef303bb",
   "metadata": {},
   "outputs": [],
   "source": [
    "# 5. eq\n",
    "\n",
    "class NewAdd:\n",
    "    def __init__(self, x, y):\n",
    "        self.x = x\n",
    "        self.y = y\n",
    "\n",
    "    def __repr__(self):\n",
    "        return f\"NewAdd({self.x}, {self.y})\"\n",
    "    \n",
    "    def __eq__(self, other):\n",
    "        return self.x == other.x and self.y == other.y"
   ]
  },
  {
   "cell_type": "code",
   "execution_count": 70,
   "id": "3066e3ea",
   "metadata": {},
   "outputs": [],
   "source": [
    "p_add_1 = NewAdd(100, 200)\n",
    "p_add_2 = NewAdd(100, 200)"
   ]
  },
  {
   "cell_type": "code",
   "execution_count": 71,
   "id": "fa4a6066",
   "metadata": {},
   "outputs": [
    {
     "data": {
      "text/plain": [
       "True"
      ]
     },
     "execution_count": 71,
     "metadata": {},
     "output_type": "execute_result"
    }
   ],
   "source": [
    "p_add_1 == p_add_2"
   ]
  },
  {
   "cell_type": "code",
   "execution_count": 72,
   "id": "50c17901",
   "metadata": {},
   "outputs": [],
   "source": [
    "p_add_1 = NewAdd(101, 200)\n",
    "p_add_2 = NewAdd(100, 200)"
   ]
  },
  {
   "cell_type": "code",
   "execution_count": 73,
   "id": "ff40d6a2",
   "metadata": {},
   "outputs": [
    {
     "data": {
      "text/plain": [
       "False"
      ]
     },
     "execution_count": 73,
     "metadata": {},
     "output_type": "execute_result"
    }
   ],
   "source": [
    "p_add_1 == p_add_2"
   ]
  },
  {
   "cell_type": "code",
   "execution_count": 74,
   "id": "e4ca861a",
   "metadata": {},
   "outputs": [],
   "source": [
    "#  6. len(self)\n",
    "\n",
    "class Values:\n",
    "    def __init__(self, items):\n",
    "        self.items = items\n",
    "\n",
    "    def __len__(self):\n",
    "        return len(self.items)"
   ]
  },
  {
   "cell_type": "code",
   "execution_count": 75,
   "id": "204b6c41",
   "metadata": {},
   "outputs": [
    {
     "data": {
      "text/plain": [
       "6"
      ]
     },
     "execution_count": 75,
     "metadata": {},
     "output_type": "execute_result"
    }
   ],
   "source": [
    "a = [1,2,3,4,5,6]\n",
    "\n",
    "len(a)"
   ]
  },
  {
   "cell_type": "code",
   "execution_count": 76,
   "id": "8228db5e",
   "metadata": {},
   "outputs": [
    {
     "ename": "TypeError",
     "evalue": "object of type 'NewAdd' has no len()",
     "output_type": "error",
     "traceback": [
      "\u001b[31m---------------------------------------------------------------------------\u001b[39m",
      "\u001b[31mTypeError\u001b[39m                                 Traceback (most recent call last)",
      "\u001b[36mCell\u001b[39m\u001b[36m \u001b[39m\u001b[32mIn[76]\u001b[39m\u001b[32m, line 2\u001b[39m\n\u001b[32m      1\u001b[39m a_new_add = NewAdd(\u001b[32m1\u001b[39m,\u001b[32m2\u001b[39m)\n\u001b[32m----> \u001b[39m\u001b[32m2\u001b[39m \u001b[38;5;28;43mlen\u001b[39;49m\u001b[43m(\u001b[49m\u001b[43ma_new_add\u001b[49m\u001b[43m)\u001b[49m\n",
      "\u001b[31mTypeError\u001b[39m: object of type 'NewAdd' has no len()"
     ]
    }
   ],
   "source": [
    "a_new_add = NewAdd(1,2)\n",
    "len(a_new_add)"
   ]
  },
  {
   "cell_type": "code",
   "execution_count": 77,
   "id": "a8d7ff19",
   "metadata": {},
   "outputs": [],
   "source": [
    "value_special = Values([1,2,3,4,5,5])"
   ]
  },
  {
   "cell_type": "code",
   "execution_count": 78,
   "id": "9cc5b87e",
   "metadata": {},
   "outputs": [
    {
     "data": {
      "text/plain": [
       "6"
      ]
     },
     "execution_count": 78,
     "metadata": {},
     "output_type": "execute_result"
    }
   ],
   "source": [
    "len(value_special)"
   ]
  },
  {
   "cell_type": "code",
   "execution_count": 79,
   "id": "18400d01",
   "metadata": {},
   "outputs": [],
   "source": [
    "# 7. getitem"
   ]
  },
  {
   "cell_type": "code",
   "execution_count": 81,
   "id": "74587b1e",
   "metadata": {},
   "outputs": [
    {
     "data": {
      "text/plain": [
       "1"
      ]
     },
     "execution_count": 81,
     "metadata": {},
     "output_type": "execute_result"
    }
   ],
   "source": [
    "a = [1,2,3,4,5,6]\n",
    "a[0]"
   ]
  },
  {
   "cell_type": "code",
   "execution_count": 84,
   "id": "a3e4f8e0",
   "metadata": {},
   "outputs": [],
   "source": [
    "class Values:\n",
    "    def __init__(self, items):\n",
    "        self.items = items\n",
    "\n",
    "    def __getitem__(self, index):\n",
    "        return self.items[index]"
   ]
  },
  {
   "cell_type": "code",
   "execution_count": 86,
   "id": "ee35fe44",
   "metadata": {},
   "outputs": [],
   "source": [
    "get_item_s = Values([1,2,3,4,5,6,7,8])"
   ]
  },
  {
   "cell_type": "code",
   "execution_count": 87,
   "id": "b81569cc",
   "metadata": {},
   "outputs": [
    {
     "data": {
      "text/plain": [
       "1"
      ]
     },
     "execution_count": 87,
     "metadata": {},
     "output_type": "execute_result"
    }
   ],
   "source": [
    "get_item_s[0]"
   ]
  },
  {
   "cell_type": "markdown",
   "id": "c61b190c",
   "metadata": {},
   "source": [
    "# Other special methods\n",
    "\n",
    "\n",
    "| Operator | Method        | Reverse Version | Description                           |\n",
    "| -------- | ------------- | --------------- | ------------------------------------- |\n",
    "| `+`      | `__add__`     | `__radd__`      | Addition                              |\n",
    "| `-`      | `__sub__`     | `__rsub__`      | Subtraction                           |\n",
    "| `*`      | `__mul__`     | `__rmul__`      | Multiplication (scalar, element-wise) |\n",
    "| `/`      | `__truediv__` | `__rtruediv__`  | True Division                         |\n",
    "| `==`     | `__eq__`      |                 | Equality                              |\n",
    "| `str()`  | `__str__`     |                 | String Representation                 |\n",
    "| `repr()` | `__repr__`    |                 | Developer-readable representation     |"
   ]
  },
  {
   "cell_type": "markdown",
   "id": "5f32f32f",
   "metadata": {},
   "source": [
    "# Getter and setter methods"
   ]
  },
  {
   "cell_type": "code",
   "execution_count": null,
   "id": "6a148672",
   "metadata": {},
   "outputs": [],
   "source": [
    "class Person:\n",
    "    def __init__(self, name):\n",
    "        self.__name = name # Private attribute\n",
    "        self.__name1 = name # Private attribute\n",
    "        self.__name2 = name # Private attribute\n",
    "\n",
    "    def get_name(self):\n",
    "        return self.__name\n",
    "    \n",
    "    def __str__(self):\n",
    "        return f\"person name is {self.__name}\"\n",
    "    \n",
    "    def set_name(self, new_name):\n",
    "        if not new_name:\n",
    "            raise ValueError(\"Name cannot be empty\")\n",
    "        self.__name = new_name\n",
    "\n",
    "    def delete_name(self):\n",
    "        del self.__name"
   ]
  },
  {
   "cell_type": "code",
   "execution_count": 98,
   "id": "467817fb",
   "metadata": {},
   "outputs": [],
   "source": [
    "p_gsd = Person(\"Monal\")"
   ]
  },
  {
   "cell_type": "code",
   "execution_count": 99,
   "id": "c798f513",
   "metadata": {},
   "outputs": [
    {
     "name": "stdout",
     "output_type": "stream",
     "text": [
      "person name is Monal\n"
     ]
    }
   ],
   "source": [
    "print(p_gsd)"
   ]
  },
  {
   "cell_type": "code",
   "execution_count": 100,
   "id": "1c8409a2",
   "metadata": {},
   "outputs": [
    {
     "data": {
      "text/plain": [
       "'Monal'"
      ]
     },
     "execution_count": 100,
     "metadata": {},
     "output_type": "execute_result"
    }
   ],
   "source": [
    "p_gsd.get_name()"
   ]
  },
  {
   "cell_type": "code",
   "execution_count": 101,
   "id": "1c780f43",
   "metadata": {},
   "outputs": [],
   "source": [
    "p_gsd.set_name(\"riyan\")"
   ]
  },
  {
   "cell_type": "code",
   "execution_count": 102,
   "id": "d0dd5577",
   "metadata": {},
   "outputs": [
    {
     "data": {
      "text/plain": [
       "'riyan'"
      ]
     },
     "execution_count": 102,
     "metadata": {},
     "output_type": "execute_result"
    }
   ],
   "source": [
    "p_gsd.get_name()"
   ]
  },
  {
   "cell_type": "code",
   "execution_count": 103,
   "id": "84b260cd",
   "metadata": {},
   "outputs": [],
   "source": [
    "p_gsd.delete_name()"
   ]
  },
  {
   "cell_type": "code",
   "execution_count": 104,
   "id": "5f386235",
   "metadata": {},
   "outputs": [
    {
     "ename": "AttributeError",
     "evalue": "'Person' object has no attribute '_Person__name'",
     "output_type": "error",
     "traceback": [
      "\u001b[31m---------------------------------------------------------------------------\u001b[39m",
      "\u001b[31mAttributeError\u001b[39m                            Traceback (most recent call last)",
      "\u001b[36mCell\u001b[39m\u001b[36m \u001b[39m\u001b[32mIn[104]\u001b[39m\u001b[32m, line 1\u001b[39m\n\u001b[32m----> \u001b[39m\u001b[32m1\u001b[39m \u001b[43mp_gsd\u001b[49m\u001b[43m.\u001b[49m\u001b[43mget_name\u001b[49m\u001b[43m(\u001b[49m\u001b[43m)\u001b[49m\n",
      "\u001b[36mCell\u001b[39m\u001b[36m \u001b[39m\u001b[32mIn[97]\u001b[39m\u001b[32m, line 8\u001b[39m, in \u001b[36mPerson.get_name\u001b[39m\u001b[34m(self)\u001b[39m\n\u001b[32m      7\u001b[39m \u001b[38;5;28;01mdef\u001b[39;00m\u001b[38;5;250m \u001b[39m\u001b[34mget_name\u001b[39m(\u001b[38;5;28mself\u001b[39m):\n\u001b[32m----> \u001b[39m\u001b[32m8\u001b[39m     \u001b[38;5;28;01mreturn\u001b[39;00m \u001b[38;5;28;43mself\u001b[39;49m\u001b[43m.\u001b[49m\u001b[43m__name\u001b[49m\n",
      "\u001b[31mAttributeError\u001b[39m: 'Person' object has no attribute '_Person__name'"
     ]
    }
   ],
   "source": [
    "p_gsd.get_name()"
   ]
  },
  {
   "cell_type": "code",
   "execution_count": 105,
   "id": "faa2c2a2",
   "metadata": {},
   "outputs": [],
   "source": [
    "p_gsd.set_name(\"hello\")"
   ]
  },
  {
   "cell_type": "code",
   "execution_count": 106,
   "id": "6ed1f867",
   "metadata": {},
   "outputs": [
    {
     "data": {
      "text/plain": [
       "'hello'"
      ]
     },
     "execution_count": 106,
     "metadata": {},
     "output_type": "execute_result"
    }
   ],
   "source": [
    "p_gsd.get_name()"
   ]
  },
  {
   "cell_type": "code",
   "execution_count": 108,
   "id": "831e2441",
   "metadata": {},
   "outputs": [
    {
     "ename": "ValueError",
     "evalue": "Name cannot be empty",
     "output_type": "error",
     "traceback": [
      "\u001b[31m---------------------------------------------------------------------------\u001b[39m",
      "\u001b[31mValueError\u001b[39m                                Traceback (most recent call last)",
      "\u001b[36mCell\u001b[39m\u001b[36m \u001b[39m\u001b[32mIn[108]\u001b[39m\u001b[32m, line 1\u001b[39m\n\u001b[32m----> \u001b[39m\u001b[32m1\u001b[39m \u001b[43mp_gsd\u001b[49m\u001b[43m.\u001b[49m\u001b[43mset_name\u001b[49m\u001b[43m(\u001b[49m\u001b[33;43m'\u001b[39;49m\u001b[33;43m'\u001b[39;49m\u001b[43m)\u001b[49m\n",
      "\u001b[36mCell\u001b[39m\u001b[36m \u001b[39m\u001b[32mIn[97]\u001b[39m\u001b[32m, line 15\u001b[39m, in \u001b[36mPerson.set_name\u001b[39m\u001b[34m(self, new_name)\u001b[39m\n\u001b[32m     13\u001b[39m \u001b[38;5;28;01mdef\u001b[39;00m\u001b[38;5;250m \u001b[39m\u001b[34mset_name\u001b[39m(\u001b[38;5;28mself\u001b[39m, new_name):\n\u001b[32m     14\u001b[39m     \u001b[38;5;28;01mif\u001b[39;00m \u001b[38;5;129;01mnot\u001b[39;00m new_name:\n\u001b[32m---> \u001b[39m\u001b[32m15\u001b[39m         \u001b[38;5;28;01mraise\u001b[39;00m \u001b[38;5;167;01mValueError\u001b[39;00m(\u001b[33m\"\u001b[39m\u001b[33mName cannot be empty\u001b[39m\u001b[33m\"\u001b[39m)\n\u001b[32m     16\u001b[39m     \u001b[38;5;28mself\u001b[39m.__name = new_name\n",
      "\u001b[31mValueError\u001b[39m: Name cannot be empty"
     ]
    }
   ],
   "source": [
    "p_gsd.set_name('')"
   ]
  },
  {
   "cell_type": "code",
   "execution_count": 109,
   "id": "32f1d649",
   "metadata": {},
   "outputs": [
    {
     "data": {
      "text/plain": [
       "['__class__',\n",
       " '__delattr__',\n",
       " '__dict__',\n",
       " '__dir__',\n",
       " '__doc__',\n",
       " '__eq__',\n",
       " '__format__',\n",
       " '__ge__',\n",
       " '__getattribute__',\n",
       " '__getstate__',\n",
       " '__gt__',\n",
       " '__hash__',\n",
       " '__init__',\n",
       " '__init_subclass__',\n",
       " '__le__',\n",
       " '__lt__',\n",
       " '__module__',\n",
       " '__ne__',\n",
       " '__new__',\n",
       " '__reduce__',\n",
       " '__reduce_ex__',\n",
       " '__repr__',\n",
       " '__setattr__',\n",
       " '__sizeof__',\n",
       " '__str__',\n",
       " '__subclasshook__',\n",
       " '__weakref__',\n",
       " 'delete_name',\n",
       " 'get_name',\n",
       " 'set_name']"
      ]
     },
     "execution_count": 109,
     "metadata": {},
     "output_type": "execute_result"
    }
   ],
   "source": [
    "dir(Person)"
   ]
  },
  {
   "cell_type": "code",
   "execution_count": null,
   "id": "602aa248",
   "metadata": {},
   "outputs": [],
   "source": [
    "'get_name', 'set_name', 'delete_name' # 1000 % standard # pythonic"
   ]
  },
  {
   "cell_type": "code",
   "execution_count": null,
   "id": "d953b577",
   "metadata": {},
   "outputs": [],
   "source": [
    "a = 2 # pythonic way"
   ]
  },
  {
   "cell_type": "markdown",
   "id": "8fd7c546",
   "metadata": {},
   "source": [
    "# Property decorator"
   ]
  },
  {
   "cell_type": "code",
   "execution_count": null,
   "id": "5466f634",
   "metadata": {},
   "outputs": [],
   "source": [
    "class Person:\n",
    "    def __init__(self, name, pno):\n",
    "        self.__name = name # Private attribute\n",
    "        self.__name1 = name # Private attribute\n",
    "        self.__name2 = name # Private attribute\n",
    "        self.__phone_numer = pno\n",
    "\n",
    "    @property\n",
    "    def name(self):\n",
    "        return self.__name\n",
    "    \n",
    "    def __str__(self):\n",
    "        return f\"person name is {self.__name}\"\n",
    "    \n",
    "    @name.setter\n",
    "    def name(self, new_name):\n",
    "        if not new_name:\n",
    "            raise ValueError(\"Name cannot be empty\")\n",
    "        self.__name = new_name\n",
    "\n",
    "    @name.deleter\n",
    "    def name(self):\n",
    "        del self.__name\n",
    "\n",
    "    @property\n",
    "    def phone_no(self):\n",
    "        pass\n",
    "\n",
    "    @phone_no.setter\n",
    "    def phone_no(self):\n",
    "        pass\n",
    "\n",
    "    @phone_no.deleter\n",
    "    def phone_no(self):\n",
    "        pass"
   ]
  },
  {
   "cell_type": "code",
   "execution_count": 112,
   "id": "19dd1abf",
   "metadata": {},
   "outputs": [],
   "source": [
    "p_property = Person(\"Monal\")"
   ]
  },
  {
   "cell_type": "code",
   "execution_count": 113,
   "id": "9a709b19",
   "metadata": {},
   "outputs": [
    {
     "data": {
      "text/plain": [
       "'Monal'"
      ]
     },
     "execution_count": 113,
     "metadata": {},
     "output_type": "execute_result"
    }
   ],
   "source": [
    "p_property.name"
   ]
  },
  {
   "cell_type": "code",
   "execution_count": 114,
   "id": "5000ed0b",
   "metadata": {},
   "outputs": [],
   "source": [
    "p_property.name = \"heartine\""
   ]
  },
  {
   "cell_type": "code",
   "execution_count": 115,
   "id": "74c76767",
   "metadata": {},
   "outputs": [
    {
     "data": {
      "text/plain": [
       "'heartine'"
      ]
     },
     "execution_count": 115,
     "metadata": {},
     "output_type": "execute_result"
    }
   ],
   "source": [
    "p_property.name"
   ]
  },
  {
   "cell_type": "code",
   "execution_count": 116,
   "id": "806fe864",
   "metadata": {},
   "outputs": [],
   "source": [
    "del p_property.name"
   ]
  },
  {
   "cell_type": "code",
   "execution_count": 117,
   "id": "2072ada2",
   "metadata": {},
   "outputs": [
    {
     "ename": "AttributeError",
     "evalue": "'Person' object has no attribute '_Person__name'",
     "output_type": "error",
     "traceback": [
      "\u001b[31m---------------------------------------------------------------------------\u001b[39m",
      "\u001b[31mAttributeError\u001b[39m                            Traceback (most recent call last)",
      "\u001b[36mCell\u001b[39m\u001b[36m \u001b[39m\u001b[32mIn[117]\u001b[39m\u001b[32m, line 1\u001b[39m\n\u001b[32m----> \u001b[39m\u001b[32m1\u001b[39m \u001b[43mp_property\u001b[49m\u001b[43m.\u001b[49m\u001b[43mname\u001b[49m\n",
      "\u001b[36mCell\u001b[39m\u001b[36m \u001b[39m\u001b[32mIn[111]\u001b[39m\u001b[32m, line 9\u001b[39m, in \u001b[36mPerson.name\u001b[39m\u001b[34m(self)\u001b[39m\n\u001b[32m      7\u001b[39m \u001b[38;5;129m@property\u001b[39m\n\u001b[32m      8\u001b[39m \u001b[38;5;28;01mdef\u001b[39;00m\u001b[38;5;250m \u001b[39m\u001b[34mname\u001b[39m(\u001b[38;5;28mself\u001b[39m):\n\u001b[32m----> \u001b[39m\u001b[32m9\u001b[39m     \u001b[38;5;28;01mreturn\u001b[39;00m \u001b[38;5;28;43mself\u001b[39;49m\u001b[43m.\u001b[49m\u001b[43m__name\u001b[49m\n",
      "\u001b[31mAttributeError\u001b[39m: 'Person' object has no attribute '_Person__name'"
     ]
    }
   ],
   "source": [
    "p_property.name"
   ]
  },
  {
   "cell_type": "code",
   "execution_count": null,
   "id": "b6160a12",
   "metadata": {},
   "outputs": [],
   "source": [
    "a = 2\n",
    "del a\n",
    "a = 34\n",
    "print(a)"
   ]
  },
  {
   "cell_type": "code",
   "execution_count": null,
   "id": "e2adce6e",
   "metadata": {},
   "outputs": [],
   "source": []
  }
 ],
 "metadata": {
  "kernelspec": {
   "display_name": "base",
   "language": "python",
   "name": "python3"
  },
  "language_info": {
   "codemirror_mode": {
    "name": "ipython",
    "version": 3
   },
   "file_extension": ".py",
   "mimetype": "text/x-python",
   "name": "python",
   "nbconvert_exporter": "python",
   "pygments_lexer": "ipython3",
   "version": "3.12.3"
  }
 },
 "nbformat": 4,
 "nbformat_minor": 5
}
