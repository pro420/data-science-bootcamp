{
 "cells": [
  {
   "cell_type": "markdown",
   "id": "9b0a5675",
   "metadata": {},
   "source": [
    "# module"
   ]
  },
  {
   "cell_type": "code",
   "execution_count": null,
   "id": "9a465596",
   "metadata": {},
   "outputs": [],
   "source": [
    "from dummy_test import print_hello"
   ]
  },
  {
   "cell_type": "code",
   "execution_count": null,
   "id": "30cf4aac",
   "metadata": {},
   "outputs": [],
   "source": [
    "print_hello()"
   ]
  },
  {
   "cell_type": "markdown",
   "id": "0a5f61e1",
   "metadata": {},
   "source": [
    "# Packages"
   ]
  },
  {
   "cell_type": "code",
   "execution_count": null,
   "id": "48702237",
   "metadata": {},
   "outputs": [],
   "source": [
    "from hospital.checkup import print_checkup"
   ]
  },
  {
   "cell_type": "code",
   "execution_count": null,
   "id": "41e02392",
   "metadata": {},
   "outputs": [],
   "source": [
    "print_checkup()"
   ]
  },
  {
   "cell_type": "code",
   "execution_count": null,
   "id": "6ab21ec5",
   "metadata": {},
   "outputs": [],
   "source": [
    "from hospital.admission.utils import add"
   ]
  },
  {
   "cell_type": "code",
   "execution_count": null,
   "id": "f900bf11",
   "metadata": {},
   "outputs": [],
   "source": [
    "add(1,2)"
   ]
  },
  {
   "cell_type": "code",
   "execution_count": null,
   "id": "5df3cce3",
   "metadata": {},
   "outputs": [],
   "source": [
    "from hospital.admission import utils"
   ]
  },
  {
   "cell_type": "code",
   "execution_count": null,
   "id": "f8ca9ae7",
   "metadata": {},
   "outputs": [],
   "source": [
    "utils.add(1,2)"
   ]
  },
  {
   "cell_type": "markdown",
   "id": "e6a9da26",
   "metadata": {},
   "source": [
    "# OOPS\n",
    "- Inheritance"
   ]
  },
  {
   "cell_type": "code",
   "execution_count": null,
   "id": "5a4e5426",
   "metadata": {},
   "outputs": [],
   "source": [
    "class Speciality():\n",
    "    def surgeon(self):\n",
    "        print(\"Surgeon Doctor.\")\n",
    "    def neuro(self):\n",
    "        print(\"Neuro Doctor.\")\n",
    "\n",
    "class GeneralHospital():\n",
    "    def opd(self):\n",
    "        print(\"General Medicine Doctors\")"
   ]
  },
  {
   "cell_type": "code",
   "execution_count": null,
   "id": "58e5ffbf",
   "metadata": {},
   "outputs": [],
   "source": [
    "genhosp = GeneralHospital()"
   ]
  },
  {
   "cell_type": "code",
   "execution_count": null,
   "id": "664a4e1a",
   "metadata": {},
   "outputs": [],
   "source": [
    "genhosp.opd()"
   ]
  },
  {
   "cell_type": "code",
   "execution_count": null,
   "id": "27afbae7",
   "metadata": {},
   "outputs": [],
   "source": [
    "genhosp.surgeon()"
   ]
  },
  {
   "cell_type": "code",
   "execution_count": null,
   "id": "1c15c396",
   "metadata": {},
   "outputs": [],
   "source": [
    "class Speciality():\n",
    "    def surgeon(self):\n",
    "        print(\"Surgeon Doctor.\")\n",
    "    def neuro(self):\n",
    "        print(\"Neuro Doctor.\")\n",
    "\n",
    "class GeneralHospital(Speciality):\n",
    "    def opd(self):\n",
    "        print(\"General Medicine Doctors\")"
   ]
  },
  {
   "cell_type": "code",
   "execution_count": null,
   "id": "1cceeb13",
   "metadata": {},
   "outputs": [],
   "source": [
    "genhosp = GeneralHospital()"
   ]
  },
  {
   "cell_type": "code",
   "execution_count": null,
   "id": "cb7d2c3c",
   "metadata": {},
   "outputs": [],
   "source": [
    "genhosp.opd()"
   ]
  },
  {
   "cell_type": "code",
   "execution_count": null,
   "id": "87f25b37",
   "metadata": {},
   "outputs": [],
   "source": [
    "genhosp.surgeon()"
   ]
  },
  {
   "cell_type": "code",
   "execution_count": null,
   "id": "f6e03347",
   "metadata": {},
   "outputs": [],
   "source": [
    "genhosp.neuro()"
   ]
  },
  {
   "cell_type": "code",
   "execution_count": null,
   "id": "b118f782",
   "metadata": {},
   "outputs": [],
   "source": [
    "class Speciality():\n",
    "    def surgeon(self):\n",
    "        print(\"Surgeon Doctor.\")\n",
    "    def neuro(self):\n",
    "        print(\"Neuro Doctor.\")\n",
    "    def radiologist(self):\n",
    "        print(\"Neuro Doctor.\")\n",
    "\n",
    "class GeneralHospital():\n",
    "    def opd(self):\n",
    "        print(\"General Medicine Doctors\")\n",
    "\n",
    "\n",
    "class MegaHospital(GeneralHospital, Speciality):\n",
    "    def _print(self):\n",
    "        print(\"This is MegaHospital\")\n",
    "\n",
    "\n",
    "class MiniHospital(GeneralHospital):\n",
    "    def _print(self):\n",
    "        print(\"This is MegaHospital\")\n",
    "\n"
   ]
  },
  {
   "cell_type": "code",
   "execution_count": null,
   "id": "9b2d9c30",
   "metadata": {},
   "outputs": [],
   "source": [
    "mh = MegaHospital()"
   ]
  },
  {
   "cell_type": "code",
   "execution_count": null,
   "id": "dad6a627",
   "metadata": {},
   "outputs": [],
   "source": [
    "mh._print()"
   ]
  },
  {
   "cell_type": "code",
   "execution_count": null,
   "id": "f0fe2d72",
   "metadata": {},
   "outputs": [],
   "source": [
    "mh.opd()\n",
    "mh.neuro()\n",
    "mh.surgeon()"
   ]
  },
  {
   "cell_type": "markdown",
   "id": "bd9a5637",
   "metadata": {},
   "source": [
    "# Super keyword"
   ]
  },
  {
   "cell_type": "code",
   "execution_count": 11,
   "id": "473d1f4b",
   "metadata": {},
   "outputs": [],
   "source": [
    "# Task is to allot manager and their team size\n",
    "\n",
    "class Employee:\n",
    "    def __init__(self, name, senior_status):\n",
    "        self.name = name\n",
    "        self.seniority = senior_status\n",
    "        print(\"Employee Name: \",self.name,\" status : \",self.seniority)\n",
    "        \n",
    "\n",
    "class Manager(Employee):\n",
    "    def __init__(self, name, senior_status, team_size):\n",
    "        super().__init__(name, senior_status)\n",
    "        self.team_size = team_size\n",
    "\n",
    "    def show(self):\n",
    "        print(\"Manages \", self.team_size,\" people\")"
   ]
  },
  {
   "cell_type": "code",
   "execution_count": 12,
   "id": "f7069e1f",
   "metadata": {},
   "outputs": [
    {
     "name": "stdout",
     "output_type": "stream",
     "text": [
      "Employee Name:  Monal  status :  Senior\n"
     ]
    }
   ],
   "source": [
    "m = Manager(\"Monal\", \"Senior\", \"100\")"
   ]
  },
  {
   "cell_type": "code",
   "execution_count": 13,
   "id": "bf7671ab",
   "metadata": {},
   "outputs": [
    {
     "name": "stdout",
     "output_type": "stream",
     "text": [
      "Manages  100  people\n"
     ]
    }
   ],
   "source": [
    "m.show()"
   ]
  },
  {
   "cell_type": "markdown",
   "id": "c140af07",
   "metadata": {},
   "source": [
    "# Polymorphism\n",
    "\n",
    "Same name, different behaviour"
   ]
  },
  {
   "cell_type": "code",
   "execution_count": 17,
   "id": "738b3284",
   "metadata": {},
   "outputs": [
    {
     "data": {
      "text/plain": [
       "2"
      ]
     },
     "execution_count": 17,
     "metadata": {},
     "output_type": "execute_result"
    }
   ],
   "source": [
    "1+1"
   ]
  },
  {
   "cell_type": "code",
   "execution_count": 18,
   "id": "32347b15",
   "metadata": {},
   "outputs": [
    {
     "data": {
      "text/plain": [
       "'11'"
      ]
     },
     "execution_count": 18,
     "metadata": {},
     "output_type": "execute_result"
    }
   ],
   "source": [
    "\"1\" + \"1\""
   ]
  },
  {
   "cell_type": "code",
   "execution_count": 19,
   "id": "10e0cb0e",
   "metadata": {},
   "outputs": [],
   "source": [
    "class TV:\n",
    "    def turn_on(self):\n",
    "        print(\"TV is now ON.\")\n",
    "\n",
    "class AC:\n",
    "    def turn_on(self):\n",
    "        print(\"AC is cooling the room.\")"
   ]
  },
  {
   "cell_type": "code",
   "execution_count": 20,
   "id": "d3ad0569",
   "metadata": {},
   "outputs": [],
   "source": [
    "tv = TV()\n",
    "ac = AC()"
   ]
  },
  {
   "cell_type": "code",
   "execution_count": 21,
   "id": "51b24bc2",
   "metadata": {},
   "outputs": [],
   "source": [
    "def activate(ele_object):\n",
    "    ele_object.turn_on()"
   ]
  },
  {
   "cell_type": "code",
   "execution_count": 22,
   "id": "24a32078",
   "metadata": {},
   "outputs": [
    {
     "name": "stdout",
     "output_type": "stream",
     "text": [
      "TV is now ON.\n"
     ]
    }
   ],
   "source": [
    "activate(tv)"
   ]
  },
  {
   "cell_type": "code",
   "execution_count": 23,
   "id": "24e0af5c",
   "metadata": {},
   "outputs": [
    {
     "name": "stdout",
     "output_type": "stream",
     "text": [
      "AC is cooling the room.\n"
     ]
    }
   ],
   "source": [
    "activate(ac)"
   ]
  },
  {
   "cell_type": "code",
   "execution_count": 24,
   "id": "64c9b59b",
   "metadata": {},
   "outputs": [],
   "source": [
    "class TV1990:\n",
    "    def turn_on(self):\n",
    "        print(\"1990 TV is now ON.\")\n",
    "\n",
    "class TV2000:\n",
    "    def turn_on(self):\n",
    "        print(\"1990 TV is now ON.\")\n",
    "\n",
    "class TV2015(TV1990):\n",
    "    def turn_on(self):\n",
    "        print(\"Latest TV is now ON.\")"
   ]
  },
  {
   "cell_type": "code",
   "execution_count": 27,
   "id": "110e8e2a",
   "metadata": {},
   "outputs": [
    {
     "name": "stdout",
     "output_type": "stream",
     "text": [
      "1990 TV is now ON.\n",
      "1990 TV is now ON.\n",
      "Latest TV is now ON.\n"
     ]
    }
   ],
   "source": [
    "for tv in (TV1990(), TV2000(), TV2015()):\n",
    "    tv.turn_on()"
   ]
  },
  {
   "cell_type": "code",
   "execution_count": 32,
   "id": "ec17f734",
   "metadata": {},
   "outputs": [],
   "source": [
    "class TV1990:\n",
    "    def turn_on(self):\n",
    "        print(\"turn on function\")\n",
    "\n",
    "    def screen(self):\n",
    "        print(\"black and white\")\n",
    "\n",
    "class TV2000(TV1990):\n",
    "    def screen(self):\n",
    "        print(\"Color\")"
   ]
  },
  {
   "cell_type": "code",
   "execution_count": 33,
   "id": "0d8102a2",
   "metadata": {},
   "outputs": [
    {
     "name": "stdout",
     "output_type": "stream",
     "text": [
      "turn on function\n"
     ]
    }
   ],
   "source": [
    "tv = TV2000()\n",
    "tv.turn_on()"
   ]
  },
  {
   "cell_type": "code",
   "execution_count": 34,
   "id": "840f38fc",
   "metadata": {},
   "outputs": [
    {
     "name": "stdout",
     "output_type": "stream",
     "text": [
      "Color\n"
     ]
    }
   ],
   "source": [
    "tv.screen()"
   ]
  },
  {
   "cell_type": "markdown",
   "id": "6e985610",
   "metadata": {},
   "source": [
    "# Encapsulation"
   ]
  },
  {
   "cell_type": "code",
   "execution_count": 73,
   "id": "c7215255",
   "metadata": {},
   "outputs": [],
   "source": [
    "class Bank:\n",
    "    def __init__(self, id, password):\n",
    "        self.id = id\n",
    "        self.__password = password\n",
    "        self.amount = 0\n",
    "\n",
    "    def deposit(self, amount):\n",
    "        if amount>0:\n",
    "            self.amount+=amount\n",
    "\n",
    "    def __get_password(self):\n",
    "        return self.__password\n",
    "\n",
    "    def check_user_valid(self):\n",
    "        print(\"We are validating user \", self.id, \" and their password \", self.__password)\n",
    "\n",
    "    def get_balance(self):\n",
    "        print(\"Balance is : \", self.amount)"
   ]
  },
  {
   "cell_type": "code",
   "execution_count": 74,
   "id": "e864affa",
   "metadata": {},
   "outputs": [],
   "source": [
    "monal_account = Bank(1, 1234567)"
   ]
  },
  {
   "cell_type": "code",
   "execution_count": 75,
   "id": "6294d6b8",
   "metadata": {},
   "outputs": [],
   "source": [
    "monal_account.deposit(10000)"
   ]
  },
  {
   "cell_type": "code",
   "execution_count": 76,
   "id": "e4b4ee84",
   "metadata": {},
   "outputs": [
    {
     "name": "stdout",
     "output_type": "stream",
     "text": [
      "Balance is :  10000\n"
     ]
    }
   ],
   "source": [
    "monal_account.get_balance()"
   ]
  },
  {
   "cell_type": "code",
   "execution_count": 77,
   "id": "881ffb38",
   "metadata": {},
   "outputs": [
    {
     "ename": "AttributeError",
     "evalue": "'Bank' object has no attribute 'password'",
     "output_type": "error",
     "traceback": [
      "\u001b[31m---------------------------------------------------------------------------\u001b[39m",
      "\u001b[31mAttributeError\u001b[39m                            Traceback (most recent call last)",
      "\u001b[36mCell\u001b[39m\u001b[36m \u001b[39m\u001b[32mIn[77]\u001b[39m\u001b[32m, line 1\u001b[39m\n\u001b[32m----> \u001b[39m\u001b[32m1\u001b[39m \u001b[43mmonal_account\u001b[49m\u001b[43m.\u001b[49m\u001b[43mpassword\u001b[49m\n",
      "\u001b[31mAttributeError\u001b[39m: 'Bank' object has no attribute 'password'"
     ]
    }
   ],
   "source": [
    "monal_account.password"
   ]
  },
  {
   "cell_type": "code",
   "execution_count": 78,
   "id": "397483a4",
   "metadata": {},
   "outputs": [
    {
     "ename": "AttributeError",
     "evalue": "'Bank' object has no attribute 'get_password'",
     "output_type": "error",
     "traceback": [
      "\u001b[31m---------------------------------------------------------------------------\u001b[39m",
      "\u001b[31mAttributeError\u001b[39m                            Traceback (most recent call last)",
      "\u001b[36mCell\u001b[39m\u001b[36m \u001b[39m\u001b[32mIn[78]\u001b[39m\u001b[32m, line 1\u001b[39m\n\u001b[32m----> \u001b[39m\u001b[32m1\u001b[39m \u001b[43mmonal_account\u001b[49m\u001b[43m.\u001b[49m\u001b[43mget_password\u001b[49m()\n",
      "\u001b[31mAttributeError\u001b[39m: 'Bank' object has no attribute 'get_password'"
     ]
    }
   ],
   "source": [
    "monal_account.get_password()"
   ]
  },
  {
   "cell_type": "code",
   "execution_count": 79,
   "id": "7cb715a0",
   "metadata": {},
   "outputs": [
    {
     "ename": "AttributeError",
     "evalue": "'Bank' object has no attribute '__password'",
     "output_type": "error",
     "traceback": [
      "\u001b[31m---------------------------------------------------------------------------\u001b[39m",
      "\u001b[31mAttributeError\u001b[39m                            Traceback (most recent call last)",
      "\u001b[36mCell\u001b[39m\u001b[36m \u001b[39m\u001b[32mIn[79]\u001b[39m\u001b[32m, line 1\u001b[39m\n\u001b[32m----> \u001b[39m\u001b[32m1\u001b[39m \u001b[43mmonal_account\u001b[49m\u001b[43m.\u001b[49m\u001b[43m__password\u001b[49m\n",
      "\u001b[31mAttributeError\u001b[39m: 'Bank' object has no attribute '__password'"
     ]
    }
   ],
   "source": [
    "monal_account.__password"
   ]
  },
  {
   "cell_type": "code",
   "execution_count": 80,
   "id": "f631e583",
   "metadata": {},
   "outputs": [
    {
     "name": "stdout",
     "output_type": "stream",
     "text": [
      "We are validating user  1  and their password  1234567\n"
     ]
    }
   ],
   "source": [
    "monal_account.check_user_valid()"
   ]
  },
  {
   "cell_type": "markdown",
   "id": "4e80a674",
   "metadata": {},
   "source": [
    "# Abstraction"
   ]
  },
  {
   "cell_type": "code",
   "execution_count": 89,
   "id": "e6db0572",
   "metadata": {},
   "outputs": [],
   "source": [
    "from abc import ABC, abstractmethod"
   ]
  },
  {
   "cell_type": "code",
   "execution_count": 90,
   "id": "68e4c274",
   "metadata": {},
   "outputs": [],
   "source": [
    "# Abstract Base Class\n",
    "class McDonalds(ABC):\n",
    "    \n",
    "    @abstractmethod\n",
    "    def mincapactity30(self):\n",
    "        pass\n",
    "    \n",
    "    @abstractmethod\n",
    "    def minparking10(self):\n",
    "        pass\n",
    "    \n",
    "    @abstractmethod\n",
    "    def minvegNonvegSections(self):\n",
    "        pass"
   ]
  },
  {
   "cell_type": "code",
   "execution_count": 93,
   "id": "d22dca67",
   "metadata": {},
   "outputs": [],
   "source": [
    "class Monal(McDonalds):\n",
    "    def mincapactity30(self):\n",
    "        print(\"We have seating capacity of 40.\")\n",
    "    def minparking10(self):\n",
    "        print(\"We have maximum parking capacity of 400.\")\n",
    "    def minvegNonvegSections(self):\n",
    "        print(\"We prepare veg and non-veg seperately.\")\n",
    "    def newburger(self):\n",
    "        print(\"Hey!!, this is a new burger.\")"
   ]
  },
  {
   "cell_type": "code",
   "execution_count": 94,
   "id": "5603d2ca",
   "metadata": {},
   "outputs": [],
   "source": [
    "mcd_new = Monal()"
   ]
  },
  {
   "cell_type": "code",
   "execution_count": 95,
   "id": "e4608bae",
   "metadata": {},
   "outputs": [
    {
     "name": "stdout",
     "output_type": "stream",
     "text": [
      "Hey!!, this is a new burger.\n"
     ]
    }
   ],
   "source": [
    "mcd_new.newburger()"
   ]
  },
  {
   "cell_type": "markdown",
   "id": "b2e2c5a4",
   "metadata": {},
   "source": [
    "# F-String"
   ]
  },
  {
   "cell_type": "markdown",
   "id": "169c9152",
   "metadata": {},
   "source": [
    "### Task : To print 2 X 1 = 2"
   ]
  },
  {
   "cell_type": "code",
   "execution_count": 97,
   "id": "6d5a78a0",
   "metadata": {},
   "outputs": [],
   "source": [
    "table_of = 2"
   ]
  },
  {
   "cell_type": "code",
   "execution_count": 98,
   "id": "941c10ee",
   "metadata": {},
   "outputs": [
    {
     "name": "stdout",
     "output_type": "stream",
     "text": [
      "2 X 1 = 2\n"
     ]
    }
   ],
   "source": [
    "test_string_1 = str(table_of) + \" X \" + str(1) + \" = \" + str(2)\n",
    "print(test_string_1)"
   ]
  },
  {
   "cell_type": "code",
   "execution_count": 99,
   "id": "c0d9c93b",
   "metadata": {},
   "outputs": [
    {
     "name": "stdout",
     "output_type": "stream",
     "text": [
      "2 X 1 = 2\n"
     ]
    }
   ],
   "source": [
    "test_string_2 = f\"{table_of} X 1 = 2\"\n",
    "print(test_string_2)"
   ]
  }
 ],
 "metadata": {
  "kernelspec": {
   "display_name": "python311",
   "language": "python",
   "name": "python3"
  },
  "language_info": {
   "codemirror_mode": {
    "name": "ipython",
    "version": 3
   },
   "file_extension": ".py",
   "mimetype": "text/x-python",
   "name": "python",
   "nbconvert_exporter": "python",
   "pygments_lexer": "ipython3",
   "version": "3.11.11"
  }
 },
 "nbformat": 4,
 "nbformat_minor": 5
}
