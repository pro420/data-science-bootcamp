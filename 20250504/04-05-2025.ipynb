{
 "cells": [
  {
   "cell_type": "code",
   "execution_count": 1,
   "id": "d94d4095",
   "metadata": {},
   "outputs": [],
   "source": [
    "class A:\n",
    "    def add(self, a, b):\n",
    "        print(f\"hello : a value is {a} & b value is {b}\")\n",
    "    \n",
    "    def add(self, a, b):\n",
    "        print(f\"hello : a value is {a} & b value is {b}. This is final add.\")"
   ]
  },
  {
   "cell_type": "code",
   "execution_count": 2,
   "id": "4ff18bb2",
   "metadata": {},
   "outputs": [],
   "source": [
    "a_obj = A()"
   ]
  },
  {
   "cell_type": "code",
   "execution_count": 4,
   "id": "686142ac",
   "metadata": {},
   "outputs": [
    {
     "name": "stdout",
     "output_type": "stream",
     "text": [
      "hello : a value is 1 & b value is 2. This is final add.\n"
     ]
    }
   ],
   "source": [
    "a_obj.add(1,2)"
   ]
  },
  {
   "cell_type": "code",
   "execution_count": 5,
   "id": "34894c80",
   "metadata": {},
   "outputs": [],
   "source": [
    "class A:\n",
    "    def add(self, a, b):\n",
    "        print(f\"hello : a value is {a} & b value is {b}\")\n",
    "    \n",
    "    def add(self, a, b, c):\n",
    "        print(f\"hello : a value is {a} & b value is {b} & c value is {c}. This is final add.\")"
   ]
  },
  {
   "cell_type": "code",
   "execution_count": 6,
   "id": "c26d971f",
   "metadata": {},
   "outputs": [],
   "source": [
    "a_obj_new = A()"
   ]
  },
  {
   "cell_type": "code",
   "execution_count": 8,
   "id": "b2daef98",
   "metadata": {},
   "outputs": [
    {
     "ename": "TypeError",
     "evalue": "A.add() missing 1 required positional argument: 'c'",
     "output_type": "error",
     "traceback": [
      "\u001b[31m---------------------------------------------------------------------------\u001b[39m",
      "\u001b[31mTypeError\u001b[39m                                 Traceback (most recent call last)",
      "\u001b[36mCell\u001b[39m\u001b[36m \u001b[39m\u001b[32mIn[8]\u001b[39m\u001b[32m, line 1\u001b[39m\n\u001b[32m----> \u001b[39m\u001b[32m1\u001b[39m \u001b[43ma_obj_new\u001b[49m\u001b[43m.\u001b[49m\u001b[43madd\u001b[49m\u001b[43m(\u001b[49m\u001b[32;43m1\u001b[39;49m\u001b[43m,\u001b[49m\u001b[32;43m2\u001b[39;49m\u001b[43m)\u001b[49m\n",
      "\u001b[31mTypeError\u001b[39m: A.add() missing 1 required positional argument: 'c'"
     ]
    }
   ],
   "source": [
    "a_obj_new.add(1,2)"
   ]
  },
  {
   "cell_type": "markdown",
   "id": "8a24eb30",
   "metadata": {},
   "source": [
    "# Inheritance : What if multiple parents have same method name, how to invoke the selected"
   ]
  },
  {
   "cell_type": "code",
   "execution_count": 9,
   "id": "507905dd",
   "metadata": {},
   "outputs": [],
   "source": [
    "class B:\n",
    "    def greet(self):\n",
    "        print(\"Hello from B\")\n",
    "\n",
    "class C:\n",
    "    def greet(self):\n",
    "        print(\"Hello from C\")\n",
    "\n",
    "class A(B):\n",
    "    def greet(self):\n",
    "        super().greet()\n",
    "        print(\"Hello from A\")"
   ]
  },
  {
   "cell_type": "code",
   "execution_count": 11,
   "id": "6432bec8",
   "metadata": {},
   "outputs": [],
   "source": [
    "cls_obj_1 = A()"
   ]
  },
  {
   "cell_type": "code",
   "execution_count": 12,
   "id": "fe8c3fd6",
   "metadata": {},
   "outputs": [
    {
     "name": "stdout",
     "output_type": "stream",
     "text": [
      "Hello from B\n",
      "Hello from A\n"
     ]
    }
   ],
   "source": [
    "cls_obj_1.greet()"
   ]
  },
  {
   "cell_type": "code",
   "execution_count": 22,
   "id": "8d6dd178",
   "metadata": {},
   "outputs": [],
   "source": [
    "class B:\n",
    "    def greet(self):\n",
    "        print(\"Hello from B\")\n",
    "\n",
    "class C:\n",
    "    def greet(self):\n",
    "        print(\"Hello from C\")\n",
    "\n",
    "class A(B, C):\n",
    "    def greet(self):\n",
    "        super().greet()\n",
    "        print(\"Hello from A\")"
   ]
  },
  {
   "cell_type": "code",
   "execution_count": 19,
   "id": "49c86cd8",
   "metadata": {},
   "outputs": [],
   "source": [
    "obj_1_new = A()"
   ]
  },
  {
   "cell_type": "code",
   "execution_count": 20,
   "id": "ed6f4f83",
   "metadata": {},
   "outputs": [
    {
     "name": "stdout",
     "output_type": "stream",
     "text": [
      "Hello from C\n",
      "Hello from A\n"
     ]
    }
   ],
   "source": [
    "obj_1_new.greet()"
   ]
  },
  {
   "cell_type": "code",
   "execution_count": 17,
   "id": "31312fa5",
   "metadata": {},
   "outputs": [
    {
     "name": "stdout",
     "output_type": "stream",
     "text": [
      "[<class '__main__.A'>, <class '__main__.B'>, <class '__main__.C'>, <class 'object'>]\n"
     ]
    }
   ],
   "source": [
    "print(A.mro())"
   ]
  },
  {
   "cell_type": "code",
   "execution_count": 23,
   "id": "d7764497",
   "metadata": {},
   "outputs": [
    {
     "name": "stdout",
     "output_type": "stream",
     "text": [
      "Hello from B\n"
     ]
    }
   ],
   "source": [
    "# obj_1_new class A object\n",
    "B.greet(obj_1_new)"
   ]
  },
  {
   "cell_type": "code",
   "execution_count": 24,
   "id": "25539e3e",
   "metadata": {},
   "outputs": [
    {
     "name": "stdout",
     "output_type": "stream",
     "text": [
      "Hello from C\n"
     ]
    }
   ],
   "source": [
    "C.greet(obj_1_new)"
   ]
  },
  {
   "cell_type": "code",
   "execution_count": 50,
   "id": "5f0d6ec1",
   "metadata": {},
   "outputs": [],
   "source": [
    "class B:\n",
    "    def greet(self):\n",
    "        print(\"Hello from B\")\n",
    "\n",
    "class C:\n",
    "    def greet(self):\n",
    "        print(\"Hello from C\")\n",
    "\n",
    "class A(C, B):\n",
    "    def __init__(self):\n",
    "        super().greet()"
   ]
  },
  {
   "cell_type": "code",
   "execution_count": 51,
   "id": "cec2a474",
   "metadata": {},
   "outputs": [
    {
     "name": "stdout",
     "output_type": "stream",
     "text": [
      "[<class '__main__.A'>, <class '__main__.C'>, <class '__main__.B'>, <class 'object'>]\n"
     ]
    }
   ],
   "source": [
    "print(A.mro())"
   ]
  },
  {
   "cell_type": "code",
   "execution_count": 52,
   "id": "55ae017b",
   "metadata": {},
   "outputs": [
    {
     "name": "stdout",
     "output_type": "stream",
     "text": [
      "Hello from C\n"
     ]
    }
   ],
   "source": [
    "obj_a = A()"
   ]
  },
  {
   "cell_type": "code",
   "execution_count": 53,
   "id": "14421960",
   "metadata": {},
   "outputs": [
    {
     "name": "stdout",
     "output_type": "stream",
     "text": [
      "Hello from C\n"
     ]
    }
   ],
   "source": [
    "obj_a.greet()"
   ]
  },
  {
   "cell_type": "code",
   "execution_count": null,
   "id": "b63671db",
   "metadata": {},
   "outputs": [],
   "source": [
    "# A --> B\n",
    "# A --> C\n",
    "# D --> B, C\n",
    "\n",
    "#         A\n",
    "#     B       C\n",
    "#         D"
   ]
  },
  {
   "cell_type": "code",
   "execution_count": 73,
   "id": "76ce06ef",
   "metadata": {},
   "outputs": [],
   "source": [
    "\n",
    "\n",
    "class B:\n",
    "    def greet(self):\n",
    "        print(\"Hello from B\")\n",
    "        # super().greet()\n",
    "\n",
    "class C:\n",
    "    def greet(self):\n",
    "        print(\"Hello from C\")\n",
    "        # super().greet()\n",
    "\n",
    "class D(B,C):\n",
    "    def greet(self):\n",
    "        print(\"Hello from D\")\n",
    "        super().greet()"
   ]
  },
  {
   "cell_type": "code",
   "execution_count": 74,
   "id": "ded5195e",
   "metadata": {},
   "outputs": [
    {
     "data": {
      "text/plain": [
       "[__main__.D, __main__.B, __main__.C, object]"
      ]
     },
     "execution_count": 74,
     "metadata": {},
     "output_type": "execute_result"
    }
   ],
   "source": [
    "D.mro()"
   ]
  },
  {
   "cell_type": "code",
   "execution_count": 75,
   "id": "fcbb3924",
   "metadata": {},
   "outputs": [],
   "source": [
    "obj_d = D()"
   ]
  },
  {
   "cell_type": "code",
   "execution_count": 76,
   "id": "47020615",
   "metadata": {},
   "outputs": [
    {
     "name": "stdout",
     "output_type": "stream",
     "text": [
      "Hello from D\n",
      "Hello from B\n"
     ]
    }
   ],
   "source": [
    "obj_d.greet()"
   ]
  },
  {
   "cell_type": "markdown",
   "id": "48271492",
   "metadata": {},
   "source": [
    "# Decorator"
   ]
  },
  {
   "cell_type": "code",
   "execution_count": 97,
   "id": "eac6ea11",
   "metadata": {},
   "outputs": [],
   "source": [
    "def my_decorator(func):\n",
    "    def wrapper(*args):\n",
    "        print(\"Before the function runs.\")\n",
    "        func(*args)\n",
    "        print(\"After the function runs.\")\n",
    "    return wrapper"
   ]
  },
  {
   "cell_type": "code",
   "execution_count": null,
   "id": "e3183f0b",
   "metadata": {},
   "outputs": [],
   "source": [
    "@my_decorator # \"syntactic sugar\" \n",
    "def say_hello():\n",
    "    print(\"Hello!\")"
   ]
  },
  {
   "cell_type": "code",
   "execution_count": null,
   "id": "8e608287",
   "metadata": {},
   "outputs": [],
   "source": [
    "# say_hello = my_decorator(say_hello)"
   ]
  },
  {
   "cell_type": "code",
   "execution_count": 80,
   "id": "91db6ec6",
   "metadata": {},
   "outputs": [
    {
     "name": "stdout",
     "output_type": "stream",
     "text": [
      "Before the function runs.\n",
      "Hello!\n",
      "After the function runs.\n"
     ]
    }
   ],
   "source": [
    "say_hello()"
   ]
  },
  {
   "cell_type": "markdown",
   "id": "040d0e3d",
   "metadata": {},
   "source": [
    "# Explanation"
   ]
  },
  {
   "cell_type": "code",
   "execution_count": 86,
   "id": "cc89d420",
   "metadata": {},
   "outputs": [],
   "source": [
    "def my_decorator(func):\n",
    "    def wrapper():\n",
    "        print(\"Before the function runs.\")\n",
    "        func()\n",
    "        print(\"After the function runs.\")\n",
    "    return wrapper"
   ]
  },
  {
   "cell_type": "code",
   "execution_count": 87,
   "id": "baf7cd28",
   "metadata": {},
   "outputs": [],
   "source": [
    "def say_hello():\n",
    "    print(\"Hello!\")"
   ]
  },
  {
   "cell_type": "code",
   "execution_count": 88,
   "id": "74b3d308",
   "metadata": {},
   "outputs": [],
   "source": [
    "say_hello = my_decorator(say_hello)"
   ]
  },
  {
   "cell_type": "code",
   "execution_count": 90,
   "id": "58b045f6",
   "metadata": {},
   "outputs": [
    {
     "name": "stdout",
     "output_type": "stream",
     "text": [
      "Before the function runs.\n",
      "Hello!\n",
      "After the function runs.\n"
     ]
    }
   ],
   "source": [
    "say_hello()"
   ]
  },
  {
   "cell_type": "code",
   "execution_count": 98,
   "id": "007d6abd",
   "metadata": {},
   "outputs": [],
   "source": [
    "@my_decorator\n",
    "def add(a,b):\n",
    "    print(a+b)"
   ]
  },
  {
   "cell_type": "code",
   "execution_count": 99,
   "id": "53d825d8",
   "metadata": {},
   "outputs": [
    {
     "name": "stdout",
     "output_type": "stream",
     "text": [
      "Before the function runs.\n",
      "3\n",
      "After the function runs.\n"
     ]
    }
   ],
   "source": [
    "add(1,2)"
   ]
  },
  {
   "cell_type": "code",
   "execution_count": null,
   "id": "f36e57f1",
   "metadata": {},
   "outputs": [],
   "source": []
  }
 ],
 "metadata": {
  "kernelspec": {
   "display_name": "python311",
   "language": "python",
   "name": "python3"
  },
  "language_info": {
   "codemirror_mode": {
    "name": "ipython",
    "version": 3
   },
   "file_extension": ".py",
   "mimetype": "text/x-python",
   "name": "python",
   "nbconvert_exporter": "python",
   "pygments_lexer": "ipython3",
   "version": "3.11.11"
  }
 },
 "nbformat": 4,
 "nbformat_minor": 5
}
