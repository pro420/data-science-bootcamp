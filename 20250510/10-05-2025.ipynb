{
 "cells": [
  {
   "cell_type": "markdown",
   "id": "c2d87d5d",
   "metadata": {},
   "source": [
    "# Time Module"
   ]
  },
  {
   "cell_type": "code",
   "execution_count": null,
   "id": "2383b82f",
   "metadata": {},
   "outputs": [],
   "source": [
    "\"2025-10-05\" # YYYY-DD-MM\n",
    "\"08:13 PM IST\"\n",
    "\"9:47 AM CST\"\n",
    "\"10:47 AM ET\"\n",
    "\"UTC\" # Universal Time Coordinated  -->  Jan 1, 1970\n",
    "\n",
    "\"2PM\" # --> 12 hours format\n",
    "\"14\" # --> 24 hours format"
   ]
  },
  {
   "cell_type": "code",
   "execution_count": 18,
   "id": "fdb68342",
   "metadata": {},
   "outputs": [],
   "source": [
    "import time"
   ]
  },
  {
   "cell_type": "code",
   "execution_count": null,
   "id": "adf776f0",
   "metadata": {},
   "outputs": [
    {
     "name": "stdout",
     "output_type": "stream",
     "text": [
      "1746888589.0703895\n"
     ]
    }
   ],
   "source": [
    "print(time.time())"
   ]
  },
  {
   "cell_type": "code",
   "execution_count": 3,
   "id": "cd08b893",
   "metadata": {},
   "outputs": [
    {
     "name": "stdout",
     "output_type": "stream",
     "text": [
      "Sat May 10 20:20:06 2025\n"
     ]
    }
   ],
   "source": [
    "print(time.ctime())"
   ]
  },
  {
   "cell_type": "code",
   "execution_count": 5,
   "id": "e27ff0f1",
   "metadata": {},
   "outputs": [],
   "source": [
    "t1 = time.time()"
   ]
  },
  {
   "cell_type": "code",
   "execution_count": 6,
   "id": "ab5f2d15",
   "metadata": {},
   "outputs": [
    {
     "name": "stdout",
     "output_type": "stream",
     "text": [
      "1746888848.6946728\n"
     ]
    }
   ],
   "source": [
    "print(t1)"
   ]
  },
  {
   "cell_type": "code",
   "execution_count": 8,
   "id": "e8450893",
   "metadata": {},
   "outputs": [
    {
     "name": "stdout",
     "output_type": "stream",
     "text": [
      "1746888882.948745\n"
     ]
    }
   ],
   "source": [
    "t2 = time.time()\n",
    "print(t2)"
   ]
  },
  {
   "cell_type": "code",
   "execution_count": 9,
   "id": "192789e7",
   "metadata": {},
   "outputs": [
    {
     "data": {
      "text/plain": [
       "34.254072189331055"
      ]
     },
     "execution_count": 9,
     "metadata": {},
     "output_type": "execute_result"
    }
   ],
   "source": [
    "t2-t1"
   ]
  },
  {
   "cell_type": "code",
   "execution_count": 11,
   "id": "6ae0cc3a",
   "metadata": {},
   "outputs": [
    {
     "name": "stdout",
     "output_type": "stream",
     "text": [
      "time.struct_time(tm_year=2025, tm_mon=5, tm_mday=10, tm_hour=20, tm_min=29, tm_sec=44, tm_wday=5, tm_yday=130, tm_isdst=0)\n"
     ]
    }
   ],
   "source": [
    "# tm_yday --> day of the year\n",
    "# tm_wday --> Week day\n",
    "print(time.localtime())"
   ]
  },
  {
   "cell_type": "code",
   "execution_count": 12,
   "id": "d62e8ee6",
   "metadata": {},
   "outputs": [
    {
     "name": "stdout",
     "output_type": "stream",
     "text": [
      "<class 'time.struct_time'>\n"
     ]
    }
   ],
   "source": [
    "print(type(time.localtime()))"
   ]
  },
  {
   "cell_type": "code",
   "execution_count": 19,
   "id": "0eea7dfb",
   "metadata": {},
   "outputs": [],
   "source": [
    "time_ = time.localtime()"
   ]
  },
  {
   "cell_type": "code",
   "execution_count": 20,
   "id": "7e11a48b",
   "metadata": {},
   "outputs": [
    {
     "data": {
      "text/plain": [
       "20"
      ]
     },
     "execution_count": 20,
     "metadata": {},
     "output_type": "execute_result"
    }
   ],
   "source": [
    "time_.tm_hour"
   ]
  },
  {
   "cell_type": "code",
   "execution_count": 21,
   "id": "a715efe5",
   "metadata": {},
   "outputs": [
    {
     "data": {
      "text/plain": [
       "33"
      ]
     },
     "execution_count": 21,
     "metadata": {},
     "output_type": "execute_result"
    }
   ],
   "source": [
    "time_.tm_min"
   ]
  },
  {
   "cell_type": "code",
   "execution_count": 22,
   "id": "be205776",
   "metadata": {},
   "outputs": [],
   "source": [
    "t3 = time.time()"
   ]
  },
  {
   "cell_type": "code",
   "execution_count": 25,
   "id": "91ffec70",
   "metadata": {},
   "outputs": [
    {
     "data": {
      "text/plain": [
       "0.1501510246594747"
      ]
     },
     "execution_count": 25,
     "metadata": {},
     "output_type": "execute_result"
    }
   ],
   "source": [
    "(t3-t1)/60/60"
   ]
  },
  {
   "cell_type": "markdown",
   "id": "d58d738b",
   "metadata": {},
   "source": [
    "# time.strftime(format, t)"
   ]
  },
  {
   "cell_type": "markdown",
   "id": "2d342e2b",
   "metadata": {},
   "source": [
    "```bash\n",
    "%M - minutes\n",
    "%m - month\n",
    "%d - date\n",
    "%Y - YYYY Year format\n",
    "%H - Hour\n",
    "%S - Seconds\n",
    "%y - YY year format\n",
    "```"
   ]
  },
  {
   "cell_type": "code",
   "execution_count": 34,
   "id": "a3b1df4a",
   "metadata": {},
   "outputs": [
    {
     "name": "stdout",
     "output_type": "stream",
     "text": [
      "2025-05-10 20:39:28\n"
     ]
    }
   ],
   "source": [
    "print(time.strftime(\"%Y-%m-%d %H:%M:%S\", time.localtime()))"
   ]
  },
  {
   "cell_type": "code",
   "execution_count": 35,
   "id": "4b166e7b",
   "metadata": {},
   "outputs": [
    {
     "name": "stdout",
     "output_type": "stream",
     "text": [
      "2025-05-10\n"
     ]
    }
   ],
   "source": [
    "print(time.strftime(\"%Y-%m-%d\", time.localtime()))"
   ]
  },
  {
   "cell_type": "code",
   "execution_count": 36,
   "id": "3665932f",
   "metadata": {},
   "outputs": [
    {
     "name": "stdout",
     "output_type": "stream",
     "text": [
      "25-05-10\n"
     ]
    }
   ],
   "source": [
    "print(time.strftime(\"%y-%m-%d\", time.localtime()))"
   ]
  },
  {
   "cell_type": "markdown",
   "id": "2776e6a4",
   "metadata": {},
   "source": [
    "# Fstring"
   ]
  },
  {
   "cell_type": "code",
   "execution_count": 38,
   "id": "a3ff8bbd",
   "metadata": {},
   "outputs": [
    {
     "name": "stdout",
     "output_type": "stream",
     "text": [
      "Hello how are you, Monal\n"
     ]
    }
   ],
   "source": [
    "name = \"Monal\"\n",
    "print(f\"Hello how are you, {name}\")"
   ]
  },
  {
   "cell_type": "code",
   "execution_count": 39,
   "id": "b24b3a9b",
   "metadata": {},
   "outputs": [],
   "source": [
    "pi = 3.1415926535"
   ]
  },
  {
   "cell_type": "code",
   "execution_count": 44,
   "id": "8aeb3b8b",
   "metadata": {},
   "outputs": [
    {
     "name": "stdout",
     "output_type": "stream",
     "text": [
      "The value of Pi is : 3.14\n"
     ]
    }
   ],
   "source": [
    "print(f\"The value of Pi is : {pi:.2f}\")"
   ]
  },
  {
   "cell_type": "code",
   "execution_count": 45,
   "id": "1e63cf8b",
   "metadata": {},
   "outputs": [
    {
     "name": "stdout",
     "output_type": "stream",
     "text": [
      "First person name is : Monal, second person name is : Shoban, third person name is : Pavan\n"
     ]
    }
   ],
   "source": [
    "name_1 = \"Monal\"\n",
    "name_2 = \"Shoban\"\n",
    "name_3 = \"Pavan\"\n",
    "## Via .format()\n",
    "\n",
    "print(f\"First person name is : {name_1}, second person name is : {name_2}, third person name is : {name_3}\")"
   ]
  },
  {
   "cell_type": "code",
   "execution_count": null,
   "id": "09db41fa",
   "metadata": {},
   "outputs": [
    {
     "name": "stdout",
     "output_type": "stream",
     "text": [
      "First person name is : Monal, second person name is : Shoban, third person name is : Pavan\n"
     ]
    }
   ],
   "source": [
    "print(\"First person name is : {a}, second person name is : {b}, third person name is : {c}\".format(a=\"Monal\", b=\"Shoban\", c=\"Pavan\"))"
   ]
  },
  {
   "cell_type": "code",
   "execution_count": 47,
   "id": "ddcebbed",
   "metadata": {},
   "outputs": [
    {
     "name": "stdout",
     "output_type": "stream",
     "text": [
      "First person name is : Monal, second person name is : Shoban, third person name is : Pavan\n"
     ]
    }
   ],
   "source": [
    "print(\"First person name is : {a}, second person name is : {b}, third person name is : {c}\".format(a=name_1, b=name_2, c=name_3))"
   ]
  },
  {
   "cell_type": "markdown",
   "id": "b31e4dda",
   "metadata": {},
   "source": [
    "# Decorators"
   ]
  },
  {
   "cell_type": "code",
   "execution_count": 48,
   "id": "58d1b5b8",
   "metadata": {},
   "outputs": [],
   "source": [
    "def research():\n",
    "    print(\"Start\")\n",
    "    time.sleep(5)\n",
    "    print(\"Complete\")"
   ]
  },
  {
   "cell_type": "code",
   "execution_count": 50,
   "id": "1b9249c4",
   "metadata": {},
   "outputs": [
    {
     "name": "stdout",
     "output_type": "stream",
     "text": [
      "Start\n",
      "Complete\n"
     ]
    }
   ],
   "source": [
    "research()"
   ]
  },
  {
   "cell_type": "markdown",
   "id": "45ba058b",
   "metadata": {},
   "source": [
    "# Flow of obj as argument"
   ]
  },
  {
   "cell_type": "code",
   "execution_count": 54,
   "id": "3ef1d193",
   "metadata": {},
   "outputs": [],
   "source": [
    "class A:\n",
    "    def print_hello(self):\n",
    "        print(\"Hello\")\n",
    "\n",
    "def show_hello(obj):\n",
    "    obj.print_hello()"
   ]
  },
  {
   "cell_type": "code",
   "execution_count": 55,
   "id": "4d11d261",
   "metadata": {},
   "outputs": [],
   "source": [
    "a = A()"
   ]
  },
  {
   "cell_type": "code",
   "execution_count": 59,
   "id": "68de095c",
   "metadata": {},
   "outputs": [
    {
     "name": "stdout",
     "output_type": "stream",
     "text": [
      "Hello\n"
     ]
    }
   ],
   "source": [
    "show_hello(a)"
   ]
  },
  {
   "cell_type": "markdown",
   "id": "ab1ac4e9",
   "metadata": {},
   "source": [
    "# decorator"
   ]
  },
  {
   "cell_type": "code",
   "execution_count": 70,
   "id": "164cd1dc",
   "metadata": {},
   "outputs": [],
   "source": [
    "def time_it(func):\n",
    "    def wrapper():\n",
    "        t1 = time.time()\n",
    "        print(f\"Time start is : {t1}\")\n",
    "        func()\n",
    "        t2 = time.time()\n",
    "        print(f\"Time start is : {t2}\")\n",
    "        t = t2-t1\n",
    "        print(f\"Time taken is : {t} seconds\")\n",
    "    return wrapper"
   ]
  },
  {
   "cell_type": "code",
   "execution_count": 71,
   "id": "1e05edf6",
   "metadata": {},
   "outputs": [],
   "source": [
    "research = time_it(research)"
   ]
  },
  {
   "cell_type": "code",
   "execution_count": 65,
   "id": "e5fb1e6e",
   "metadata": {},
   "outputs": [
    {
     "name": "stdout",
     "output_type": "stream",
     "text": [
      "Start\n",
      "Complete\n",
      "Time taken is : 5.001132011413574 seconds\n"
     ]
    }
   ],
   "source": [
    "research()"
   ]
  },
  {
   "cell_type": "markdown",
   "id": "1ad67474",
   "metadata": {},
   "source": [
    "# Python sugar"
   ]
  },
  {
   "cell_type": "code",
   "execution_count": 72,
   "id": "0390fee7",
   "metadata": {},
   "outputs": [],
   "source": [
    "# add = time_it(add)\n",
    "\n",
    "\n",
    "@time_it\n",
    "def add():\n",
    "    print(1+1)\n",
    "    time.sleep(10)\n",
    "    print(1+2)"
   ]
  },
  {
   "cell_type": "code",
   "execution_count": null,
   "id": "087db0d2",
   "metadata": {},
   "outputs": [
    {
     "name": "stdout",
     "output_type": "stream",
     "text": [
      "Time start is : 1746894680.9871974\n",
      "2\n",
      "3\n",
      "Time start is : 1746894690.9885683\n",
      "Time taken is : 10.001370906829834 seconds\n"
     ]
    }
   ],
   "source": [
    "add(1,2)"
   ]
  },
  {
   "cell_type": "code",
   "execution_count": 84,
   "id": "d213217a",
   "metadata": {},
   "outputs": [],
   "source": [
    "def log_time_it(func):\n",
    "    def wrapper(*args, **kwargs): # *args dtype is tuple\n",
    "        t1 = time.time()\n",
    "        func(*args, **kwargs)\n",
    "        t2 = time.time()\n",
    "        t = t2-t1\n",
    "        print(f\"Time taken is : {t} seconds\")\n",
    "    return wrapper"
   ]
  },
  {
   "cell_type": "code",
   "execution_count": 89,
   "id": "9207d0e3",
   "metadata": {},
   "outputs": [],
   "source": [
    "@log_time_it\n",
    "def add(a,b,c,d):\n",
    "    print(a+b+c)\n",
    "    print(a+b+c)\n",
    "    time.sleep(2)\n",
    "    print(a+b+c)\n",
    "    print(a+b+c)\n"
   ]
  },
  {
   "cell_type": "code",
   "execution_count": 90,
   "id": "dd7341ae",
   "metadata": {},
   "outputs": [
    {
     "name": "stdout",
     "output_type": "stream",
     "text": [
      "6\n",
      "6\n",
      "6\n",
      "6\n",
      "Time taken is : 2.001447916030884 seconds\n"
     ]
    }
   ],
   "source": [
    "add(1,2,3,4)"
   ]
  },
  {
   "cell_type": "markdown",
   "id": "3a32aa70",
   "metadata": {},
   "source": [
    "# ClassMethod"
   ]
  },
  {
   "cell_type": "code",
   "execution_count": 94,
   "id": "76518559",
   "metadata": {},
   "outputs": [],
   "source": [
    "class B:\n",
    "\n",
    "    a = 100 # class variable\n",
    "\n",
    "    def __init__(self):\n",
    "        self.a = 100 # instance variable\n",
    "\n",
    "    def hello(self):\n",
    "        print(\"hello world\")"
   ]
  },
  {
   "cell_type": "code",
   "execution_count": 95,
   "id": "74a67b33",
   "metadata": {},
   "outputs": [
    {
     "ename": "TypeError",
     "evalue": "B.hello() missing 1 required positional argument: 'self'",
     "output_type": "error",
     "traceback": [
      "\u001b[31m---------------------------------------------------------------------------\u001b[39m",
      "\u001b[31mTypeError\u001b[39m                                 Traceback (most recent call last)",
      "\u001b[36mCell\u001b[39m\u001b[36m \u001b[39m\u001b[32mIn[95]\u001b[39m\u001b[32m, line 1\u001b[39m\n\u001b[32m----> \u001b[39m\u001b[32m1\u001b[39m \u001b[43mB\u001b[49m\u001b[43m.\u001b[49m\u001b[43mhello\u001b[49m\u001b[43m(\u001b[49m\u001b[43m)\u001b[49m\n",
      "\u001b[31mTypeError\u001b[39m: B.hello() missing 1 required positional argument: 'self'"
     ]
    }
   ],
   "source": [
    "B.hello()"
   ]
  },
  {
   "cell_type": "code",
   "execution_count": 96,
   "id": "c1591585",
   "metadata": {},
   "outputs": [
    {
     "data": {
      "text/plain": [
       "100"
      ]
     },
     "execution_count": 96,
     "metadata": {},
     "output_type": "execute_result"
    }
   ],
   "source": [
    "B.a"
   ]
  },
  {
   "cell_type": "code",
   "execution_count": null,
   "id": "92af5da8",
   "metadata": {},
   "outputs": [],
   "source": [
    "class Memory:\n",
    "    total_memory = 128\n",
    "\n",
    "    @classmethod\n",
    "    def update_memory(cls, m):\n",
    "        cls.total_memory-=m\n",
    "\n",
    "    def check_memory(self):\n",
    "        print(Memory.total_memory)"
   ]
  },
  {
   "cell_type": "code",
   "execution_count": 133,
   "id": "0530d3a4",
   "metadata": {},
   "outputs": [
    {
     "data": {
      "text/plain": [
       "128"
      ]
     },
     "execution_count": 133,
     "metadata": {},
     "output_type": "execute_result"
    }
   ],
   "source": [
    "Memory.total_memory"
   ]
  },
  {
   "cell_type": "code",
   "execution_count": 134,
   "id": "4e5401a4",
   "metadata": {},
   "outputs": [],
   "source": [
    "Memory.update_memory(100)"
   ]
  },
  {
   "cell_type": "code",
   "execution_count": 135,
   "id": "5e17de6c",
   "metadata": {},
   "outputs": [
    {
     "data": {
      "text/plain": [
       "28"
      ]
     },
     "execution_count": 135,
     "metadata": {},
     "output_type": "execute_result"
    }
   ],
   "source": [
    "Memory.total_memory"
   ]
  },
  {
   "cell_type": "code",
   "execution_count": 136,
   "id": "fea8d661",
   "metadata": {},
   "outputs": [],
   "source": [
    "m1 = Memory()"
   ]
  },
  {
   "cell_type": "code",
   "execution_count": 137,
   "id": "d2bd432c",
   "metadata": {},
   "outputs": [
    {
     "name": "stdout",
     "output_type": "stream",
     "text": [
      "28\n"
     ]
    }
   ],
   "source": [
    "m1.check_memory()"
   ]
  },
  {
   "cell_type": "code",
   "execution_count": 138,
   "id": "9de93c92",
   "metadata": {},
   "outputs": [],
   "source": [
    "m2 = Memory()"
   ]
  },
  {
   "cell_type": "code",
   "execution_count": 139,
   "id": "767959b7",
   "metadata": {},
   "outputs": [
    {
     "name": "stdout",
     "output_type": "stream",
     "text": [
      "28\n"
     ]
    }
   ],
   "source": [
    "m2.check_memory()"
   ]
  },
  {
   "cell_type": "code",
   "execution_count": 112,
   "id": "b2708f8d",
   "metadata": {},
   "outputs": [],
   "source": [
    "# ALternate constructor"
   ]
  },
  {
   "cell_type": "code",
   "execution_count": null,
   "id": "ed254522",
   "metadata": {},
   "outputs": [],
   "source": [
    "class DummyA:\n",
    "    def __init__(self, name,age):\n",
    "        self.name = name\n",
    "        self.age = age\n",
    "\n",
    "    @classmethod\n",
    "    def from_fullname(cls, name): # \"Monal 30\"\n",
    "        name, age = name.split()\n",
    "        return cls(name, age)\n",
    "    \n",
    "    def print_data(self):\n",
    "        print(self.name)\n",
    "        print(self.age)"
   ]
  },
  {
   "cell_type": "code",
   "execution_count": 114,
   "id": "59deb4e3",
   "metadata": {},
   "outputs": [],
   "source": [
    "# DummyA(\"Monal\", \"30\")"
   ]
  },
  {
   "cell_type": "code",
   "execution_count": 116,
   "id": "5cce54dc",
   "metadata": {},
   "outputs": [],
   "source": [
    "obj_class_method = DummyA.from_fullname(\"Monal 30\")"
   ]
  },
  {
   "cell_type": "code",
   "execution_count": 117,
   "id": "612f6dd9",
   "metadata": {},
   "outputs": [
    {
     "name": "stdout",
     "output_type": "stream",
     "text": [
      "Monal\n",
      "30\n"
     ]
    }
   ],
   "source": [
    "obj_class_method.print_data()"
   ]
  },
  {
   "cell_type": "code",
   "execution_count": 118,
   "id": "c09f272d",
   "metadata": {},
   "outputs": [],
   "source": [
    "# Alternate constructor"
   ]
  },
  {
   "cell_type": "markdown",
   "id": "bc3f14a7",
   "metadata": {},
   "source": [
    "# Static Methods"
   ]
  },
  {
   "cell_type": "code",
   "execution_count": null,
   "id": "1cf94188",
   "metadata": {},
   "outputs": [],
   "source": [
    "# These methods does not depends on self or cls\n",
    "\n",
    "class Calculator:\n",
    "\n",
    "    @staticmethod\n",
    "    def add(a, b):\n",
    "        print(a+b)\n",
    "\n",
    "    @staticmethod\n",
    "    def multiply(a, b):\n",
    "        print(a*b)\n",
    "\n",
    "    def all(self, a, b):\n",
    "        print(Calculator.add(a,b))\n",
    "        print(\"doing something\")\n",
    "        print(Calculator.multiply(a,b))\n",
    "        "
   ]
  },
  {
   "cell_type": "code",
   "execution_count": 127,
   "id": "9ec73c90",
   "metadata": {},
   "outputs": [
    {
     "name": "stdout",
     "output_type": "stream",
     "text": [
      "3\n"
     ]
    }
   ],
   "source": [
    "Calculator.add(1,2)"
   ]
  },
  {
   "cell_type": "code",
   "execution_count": 128,
   "id": "99870eda",
   "metadata": {},
   "outputs": [],
   "source": [
    "c = Calculator()"
   ]
  },
  {
   "cell_type": "code",
   "execution_count": 129,
   "id": "013e9f13",
   "metadata": {},
   "outputs": [
    {
     "name": "stdout",
     "output_type": "stream",
     "text": [
      "3\n",
      "None\n",
      "doing something\n",
      "2\n",
      "None\n"
     ]
    }
   ],
   "source": [
    "c.all(1,2)"
   ]
  },
  {
   "cell_type": "code",
   "execution_count": 125,
   "id": "c6d1560c",
   "metadata": {},
   "outputs": [
    {
     "name": "stdout",
     "output_type": "stream",
     "text": [
      "3\n"
     ]
    }
   ],
   "source": [
    "c.add(1,2)"
   ]
  },
  {
   "cell_type": "code",
   "execution_count": 130,
   "id": "97ca6202",
   "metadata": {},
   "outputs": [
    {
     "ename": "TypeError",
     "evalue": "Calculator.all() missing 1 required positional argument: 'b'",
     "output_type": "error",
     "traceback": [
      "\u001b[31m---------------------------------------------------------------------------\u001b[39m",
      "\u001b[31mTypeError\u001b[39m                                 Traceback (most recent call last)",
      "\u001b[36mCell\u001b[39m\u001b[36m \u001b[39m\u001b[32mIn[130]\u001b[39m\u001b[32m, line 1\u001b[39m\n\u001b[32m----> \u001b[39m\u001b[32m1\u001b[39m \u001b[43mCalculator\u001b[49m\u001b[43m.\u001b[49m\u001b[43mall\u001b[49m\u001b[43m(\u001b[49m\u001b[32;43m1\u001b[39;49m\u001b[43m,\u001b[49m\u001b[32;43m2\u001b[39;49m\u001b[43m)\u001b[49m\n",
      "\u001b[31mTypeError\u001b[39m: Calculator.all() missing 1 required positional argument: 'b'"
     ]
    }
   ],
   "source": [
    "Calculator.all(1,2)"
   ]
  },
  {
   "cell_type": "code",
   "execution_count": 131,
   "id": "d02717f7",
   "metadata": {},
   "outputs": [],
   "source": [
    "# factory logic --> cls --> @classmethods\n",
    "# function grouped in a class --> @staticmethods\n",
    "# need instance state --> instance methods and variables "
   ]
  },
  {
   "cell_type": "code",
   "execution_count": null,
   "id": "0aa1af1b",
   "metadata": {},
   "outputs": [],
   "source": []
  }
 ],
 "metadata": {
  "kernelspec": {
   "display_name": "python311",
   "language": "python",
   "name": "python3"
  },
  "language_info": {
   "codemirror_mode": {
    "name": "ipython",
    "version": 3
   },
   "file_extension": ".py",
   "mimetype": "text/x-python",
   "name": "python",
   "nbconvert_exporter": "python",
   "pygments_lexer": "ipython3",
   "version": "3.11.11"
  }
 },
 "nbformat": 4,
 "nbformat_minor": 5
}
