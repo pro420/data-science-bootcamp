{
 "cells": [
  {
   "cell_type": "markdown",
   "id": "2525f531",
   "metadata": {},
   "source": [
    "# numpy math operations"
   ]
  },
  {
   "cell_type": "code",
   "execution_count": 1,
   "id": "c7738f20",
   "metadata": {},
   "outputs": [
    {
     "data": {
      "text/plain": [
       "[1, 2, 3, 4, 5, 6]"
      ]
     },
     "execution_count": 1,
     "metadata": {},
     "output_type": "execute_result"
    }
   ],
   "source": [
    "a = [1,2,3]\n",
    "b = [4,5,6]\n",
    "\n",
    "a + b"
   ]
  },
  {
   "cell_type": "code",
   "execution_count": 2,
   "id": "44749cc3",
   "metadata": {},
   "outputs": [],
   "source": [
    "import numpy as np"
   ]
  },
  {
   "cell_type": "code",
   "execution_count": 3,
   "id": "bc8d5808",
   "metadata": {},
   "outputs": [],
   "source": [
    "a = np.array([1, 2, 3])\n",
    "b = np.array([4, 5, 6])"
   ]
  },
  {
   "cell_type": "code",
   "execution_count": 9,
   "id": "3b44e52d",
   "metadata": {},
   "outputs": [
    {
     "name": "stdout",
     "output_type": "stream",
     "text": [
      "<class 'numpy.ndarray'>\n"
     ]
    }
   ],
   "source": [
    "print(type(a + b))"
   ]
  },
  {
   "cell_type": "code",
   "execution_count": null,
   "id": "b5202066",
   "metadata": {},
   "outputs": [],
   "source": [
    "print(a + b)"
   ]
  },
  {
   "cell_type": "code",
   "execution_count": 7,
   "id": "9b4d8217",
   "metadata": {},
   "outputs": [
    {
     "name": "stdout",
     "output_type": "stream",
     "text": [
      "[-3 -3 -3]\n",
      "[ 4 10 18]\n",
      "[0.25 0.4  0.5 ]\n"
     ]
    }
   ],
   "source": [
    "print(a-b)\n",
    "print(a*b)\n",
    "print(a/b)"
   ]
  },
  {
   "cell_type": "code",
   "execution_count": null,
   "id": "747d0992",
   "metadata": {},
   "outputs": [
    {
     "name": "stdout",
     "output_type": "stream",
     "text": [
      "<class 'numpy.ndarray'>\n",
      "[ True  True  True]\n",
      "[False False False]\n"
     ]
    }
   ],
   "source": [
    "# comparison\n",
    "\n",
    "print(a > b)\n",
    "print(a < b)\n",
    "print(a == b)"
   ]
  },
  {
   "cell_type": "code",
   "execution_count": 15,
   "id": "f7d60899",
   "metadata": {},
   "outputs": [
    {
     "name": "stdout",
     "output_type": "stream",
     "text": [
      "<class 'numpy.bool'>\n"
     ]
    }
   ],
   "source": [
    "ans = a > b\n",
    "print(type(ans[0]))"
   ]
  },
  {
   "cell_type": "code",
   "execution_count": 20,
   "id": "84b1d978",
   "metadata": {},
   "outputs": [
    {
     "name": "stdout",
     "output_type": "stream",
     "text": [
      "[False False  True]\n",
      "[ True False  True]\n",
      "[False  True False]\n"
     ]
    }
   ],
   "source": [
    "# logical operators\n",
    "\n",
    "# and , or , not\n",
    "\n",
    "x = np.array([True, False, True])\n",
    "y = np.array([False, False, True])\n",
    "\n",
    "print(np.logical_and(x, y))\n",
    "print(np.logical_or(x, y))\n",
    "print(np.logical_not(x))"
   ]
  },
  {
   "cell_type": "code",
   "execution_count": 22,
   "id": "f26bae7d",
   "metadata": {},
   "outputs": [
    {
     "name": "stdout",
     "output_type": "stream",
     "text": [
      "[0 0 1]\n",
      "[1 3 3]\n"
     ]
    }
   ],
   "source": [
    "# biwsise operators\n",
    "\n",
    "a = np.array([1, 2, 3])\n",
    "b = np.array([0, 1, 1])\n",
    "\n",
    "print(np.bitwise_and(a,b))\n",
    "print(np.bitwise_or(a,b))"
   ]
  },
  {
   "cell_type": "code",
   "execution_count": 26,
   "id": "ffd11a62",
   "metadata": {},
   "outputs": [
    {
     "name": "stdout",
     "output_type": "stream",
     "text": [
      "[1 6 2]\n",
      "[      1000 1280000000     810000]\n"
     ]
    }
   ],
   "source": [
    "# modulus and power\n",
    "\n",
    "a = np.array([10, 20, 30])\n",
    "b = np.array([3, 7, 4])\n",
    "\n",
    "print(np.mod(a, b))\n",
    "print(np.power(a, b))\n"
   ]
  },
  {
   "cell_type": "markdown",
   "id": "38a4cf2e",
   "metadata": {},
   "source": [
    "# scalar opertions"
   ]
  },
  {
   "cell_type": "code",
   "execution_count": 31,
   "id": "3ebc6b5f",
   "metadata": {},
   "outputs": [
    {
     "name": "stdout",
     "output_type": "stream",
     "text": [
      "[32. 50. 68. 86.]\n"
     ]
    }
   ],
   "source": [
    "celcius = np.array([0, 10, 20, 30])\n",
    "# to_farenheit = np.array([33.8, 33.8, 33.8, 33.8]) # broadcasting\n",
    "print(celcius * 9 / 5 + 32)"
   ]
  },
  {
   "cell_type": "code",
   "execution_count": 34,
   "id": "2f402a63",
   "metadata": {},
   "outputs": [
    {
     "ename": "TypeError",
     "evalue": "unsupported operand type(s) for /: 'list' and 'int'",
     "output_type": "error",
     "traceback": [
      "\u001b[31m---------------------------------------------------------------------------\u001b[39m",
      "\u001b[31mTypeError\u001b[39m                                 Traceback (most recent call last)",
      "\u001b[36mCell\u001b[39m\u001b[36m \u001b[39m\u001b[32mIn[34]\u001b[39m\u001b[32m, line 3\u001b[39m\n\u001b[32m      1\u001b[39m \u001b[38;5;66;03m# in python\u001b[39;00m\n\u001b[32m      2\u001b[39m celsius = [\u001b[32m0\u001b[39m, \u001b[32m10\u001b[39m, \u001b[32m20\u001b[39m, \u001b[32m30\u001b[39m]\n\u001b[32m----> \u001b[39m\u001b[32m3\u001b[39m fahrenheit = \u001b[43mcelsius\u001b[49m\u001b[43m \u001b[49m\u001b[43m*\u001b[49m\u001b[43m \u001b[49m\u001b[32;43m9\u001b[39;49m\u001b[43m \u001b[49m\u001b[43m/\u001b[49m\u001b[43m \u001b[49m\u001b[32;43m5\u001b[39;49m + \u001b[32m32\u001b[39m\n\u001b[32m      4\u001b[39m \u001b[38;5;28mprint\u001b[39m(fahrenheit)\n",
      "\u001b[31mTypeError\u001b[39m: unsupported operand type(s) for /: 'list' and 'int'"
     ]
    }
   ],
   "source": [
    "# in python\n",
    "celsius = [0, 10, 20, 30]\n",
    "fahrenheit = celsius * 9 / 5 + 32\n",
    "print(fahrenheit)"
   ]
  },
  {
   "cell_type": "markdown",
   "id": "ceadd78c",
   "metadata": {},
   "source": [
    "# Common maths functions"
   ]
  },
  {
   "cell_type": "code",
   "execution_count": null,
   "id": "d29967bc",
   "metadata": {},
   "outputs": [
    {
     "name": "stdout",
     "output_type": "stream",
     "text": [
      "[1.         1.41421356 1.73205081 2.        ]\n",
      "[ 2.71828183  7.3890561  20.08553692 54.59815003]\n",
      "[0.         0.69314718 1.09861229 1.38629436]\n",
      "[ 0.84147098  0.90929743  0.14112001 -0.7568025 ]\n"
     ]
    }
   ],
   "source": [
    "a = np.array([1, 2, 3, 4])\n",
    "\n",
    "print(np.sqrt(a))\n",
    "print(np.exp(a)) # e^1, e^2, where e = 2.718, pi = 3.14\n",
    "print(np.log(a))\n",
    "print(np.sin(a))"
   ]
  },
  {
   "cell_type": "code",
   "execution_count": 37,
   "id": "55c8e58a",
   "metadata": {},
   "outputs": [
    {
     "name": "stdout",
     "output_type": "stream",
     "text": [
      "[0.26894142 0.5        0.73105858]\n"
     ]
    }
   ],
   "source": [
    "# machine learning\n",
    "# activation function\n",
    "\n",
    "# sigmoid\n",
    "\n",
    "\n",
    "x = np.array([-1, 0, 1])\n",
    "sigmoid = 1 / (1 + np.exp(-x))\n",
    "print(sigmoid)"
   ]
  },
  {
   "cell_type": "code",
   "execution_count": 39,
   "id": "d5e40751",
   "metadata": {},
   "outputs": [],
   "source": [
    "# Aggregation functions"
   ]
  },
  {
   "cell_type": "code",
   "execution_count": 40,
   "id": "b1f6bb7b",
   "metadata": {},
   "outputs": [],
   "source": [
    "a = np.array([[1, 2, 3],\n",
    "              [4, 5, 6]])"
   ]
  },
  {
   "cell_type": "code",
   "execution_count": 44,
   "id": "2f42c877",
   "metadata": {},
   "outputs": [
    {
     "name": "stdout",
     "output_type": "stream",
     "text": [
      "21\n"
     ]
    }
   ],
   "source": [
    "print(np.sum(a))"
   ]
  },
  {
   "cell_type": "code",
   "execution_count": null,
   "id": "cd4ca454",
   "metadata": {},
   "outputs": [
    {
     "name": "stdout",
     "output_type": "stream",
     "text": [
      "[5 7 9]\n"
     ]
    }
   ],
   "source": [
    "print(np.sum(a, axis=0))\n",
    "# across all rows, fix the column"
   ]
  },
  {
   "cell_type": "code",
   "execution_count": 45,
   "id": "32dea24c",
   "metadata": {},
   "outputs": [
    {
     "name": "stdout",
     "output_type": "stream",
     "text": [
      "21\n",
      "3.5\n",
      "1.707825127659933\n",
      "1\n",
      "6\n"
     ]
    }
   ],
   "source": [
    "print(np.sum(a))\n",
    "print(np.mean(a)) # average\n",
    "print(np.std(a))\n",
    "print(np.min(a))\n",
    "print(np.max(a))"
   ]
  },
  {
   "cell_type": "markdown",
   "id": "60d6fdc0",
   "metadata": {},
   "source": [
    "# matrix operation"
   ]
  },
  {
   "cell_type": "code",
   "execution_count": null,
   "id": "4aa23774",
   "metadata": {},
   "outputs": [],
   "source": [
    "# element-wise multiplication"
   ]
  },
  {
   "cell_type": "code",
   "execution_count": 52,
   "id": "036e7209",
   "metadata": {},
   "outputs": [],
   "source": [
    "units = np.array([100, 200, 150])\n",
    "profit = np.array([10, 20, 30])"
   ]
  },
  {
   "cell_type": "code",
   "execution_count": 53,
   "id": "2e2569e4",
   "metadata": {},
   "outputs": [
    {
     "data": {
      "text/plain": [
       "array([1000, 4000, 4500])"
      ]
     },
     "execution_count": 53,
     "metadata": {},
     "output_type": "execute_result"
    }
   ],
   "source": [
    "units * profit"
   ]
  },
  {
   "cell_type": "markdown",
   "id": "11f199a5",
   "metadata": {},
   "source": [
    "# Dot product"
   ]
  },
  {
   "cell_type": "code",
   "execution_count": 55,
   "id": "14703c7e",
   "metadata": {},
   "outputs": [],
   "source": [
    "# sqft\n",
    "# bedroom\n",
    "# location 1 G, 0 B"
   ]
  },
  {
   "cell_type": "code",
   "execution_count": 67,
   "id": "8f7712fa",
   "metadata": {},
   "outputs": [],
   "source": [
    "house = np.array([[1200, 3, 1],\n",
    "                  [1200, 3, 0],\n",
    "                  [1000, 3, 0],\n",
    "                  [1000, 1, 1]])"
   ]
  },
  {
   "cell_type": "code",
   "execution_count": 68,
   "id": "28844379",
   "metadata": {},
   "outputs": [],
   "source": [
    "w = np.array([200, 10000, 50000])"
   ]
  },
  {
   "cell_type": "code",
   "execution_count": 69,
   "id": "d79e9726",
   "metadata": {},
   "outputs": [
    {
     "name": "stdout",
     "output_type": "stream",
     "text": [
      "(4, 3)\n",
      "(3,)\n"
     ]
    }
   ],
   "source": [
    "print(house.shape)\n",
    "print(w.shape)"
   ]
  },
  {
   "cell_type": "code",
   "execution_count": 70,
   "id": "e3979c9a",
   "metadata": {},
   "outputs": [
    {
     "name": "stdout",
     "output_type": "stream",
     "text": [
      "[320000 270000 230000 260000]\n"
     ]
    }
   ],
   "source": [
    "print(np.dot(house, w))"
   ]
  },
  {
   "cell_type": "code",
   "execution_count": 75,
   "id": "61f67e9e",
   "metadata": {},
   "outputs": [
    {
     "name": "stdout",
     "output_type": "stream",
     "text": [
      "[320000 270000 230000 260000]\n"
     ]
    }
   ],
   "source": [
    "print(np.sum(house * w, axis=1)) # multiplication + sum"
   ]
  },
  {
   "cell_type": "code",
   "execution_count": 77,
   "id": "71774faa",
   "metadata": {},
   "outputs": [],
   "source": [
    "A = np.array([[1, 2, 3, 4], [1, 2, 3, 4]])\n",
    "B = np.array([[1, 2, 3, 4], [1, 2, 3, 4]])"
   ]
  },
  {
   "cell_type": "code",
   "execution_count": 79,
   "id": "35f65b9b",
   "metadata": {},
   "outputs": [
    {
     "name": "stdout",
     "output_type": "stream",
     "text": [
      "(2, 4)\n",
      "(2, 4)\n"
     ]
    }
   ],
   "source": [
    "print(A.shape)\n",
    "print(B.shape)"
   ]
  },
  {
   "cell_type": "code",
   "execution_count": 80,
   "id": "62862a5d",
   "metadata": {},
   "outputs": [
    {
     "ename": "ValueError",
     "evalue": "shapes (2,4) and (2,4) not aligned: 4 (dim 1) != 2 (dim 0)",
     "output_type": "error",
     "traceback": [
      "\u001b[31m---------------------------------------------------------------------------\u001b[39m",
      "\u001b[31mValueError\u001b[39m                                Traceback (most recent call last)",
      "\u001b[36mCell\u001b[39m\u001b[36m \u001b[39m\u001b[32mIn[80]\u001b[39m\u001b[32m, line 1\u001b[39m\n\u001b[32m----> \u001b[39m\u001b[32m1\u001b[39m \u001b[38;5;28mprint\u001b[39m(\u001b[43mnp\u001b[49m\u001b[43m.\u001b[49m\u001b[43mdot\u001b[49m\u001b[43m(\u001b[49m\u001b[43mA\u001b[49m\u001b[43m,\u001b[49m\u001b[43m \u001b[49m\u001b[43mB\u001b[49m\u001b[43m)\u001b[49m)\n",
      "\u001b[31mValueError\u001b[39m: shapes (2,4) and (2,4) not aligned: 4 (dim 1) != 2 (dim 0)"
     ]
    }
   ],
   "source": [
    "print(np.dot(A, B))"
   ]
  },
  {
   "cell_type": "code",
   "execution_count": 81,
   "id": "03977c82",
   "metadata": {},
   "outputs": [
    {
     "name": "stdout",
     "output_type": "stream",
     "text": [
      "[[30 30]\n",
      " [30 30]]\n"
     ]
    }
   ],
   "source": [
    "print(np.dot(A, B.T))"
   ]
  },
  {
   "cell_type": "code",
   "execution_count": 83,
   "id": "2c5076ec",
   "metadata": {},
   "outputs": [
    {
     "name": "stdout",
     "output_type": "stream",
     "text": [
      "[[30 30]\n",
      " [30 30]]\n"
     ]
    }
   ],
   "source": [
    "print(A @ B.T)"
   ]
  },
  {
   "cell_type": "markdown",
   "id": "98e86921",
   "metadata": {},
   "source": [
    "# broadcasting"
   ]
  },
  {
   "cell_type": "code",
   "execution_count": 103,
   "id": "c30ca885",
   "metadata": {},
   "outputs": [],
   "source": [
    "a = np.array([1, 2, 3]) # (3,)\n",
    "b = np.array([[10], [20]]) # (2,1)"
   ]
  },
  {
   "cell_type": "code",
   "execution_count": 104,
   "id": "b5c28136",
   "metadata": {},
   "outputs": [
    {
     "name": "stdout",
     "output_type": "stream",
     "text": [
      "(3,)\n",
      "(2, 1)\n"
     ]
    }
   ],
   "source": [
    "print(a.shape)\n",
    "print(b.shape)"
   ]
  },
  {
   "cell_type": "code",
   "execution_count": 105,
   "id": "bfa690ef",
   "metadata": {},
   "outputs": [
    {
     "data": {
      "text/plain": [
       "array([[11, 12, 13],\n",
       "       [21, 22, 23]])"
      ]
     },
     "execution_count": 105,
     "metadata": {},
     "output_type": "execute_result"
    }
   ],
   "source": [
    "a + b\n",
    "\n",
    "# a --> (2,3) [[1, 2, 3], [1, 2, 3]]\n",
    "# b --> [[10, 10, 10], [20, 20, 20]]"
   ]
  },
  {
   "cell_type": "markdown",
   "id": "ae29c03e",
   "metadata": {},
   "source": [
    "# creating arrays from exisiting data"
   ]
  },
  {
   "cell_type": "code",
   "execution_count": 114,
   "id": "a6b8798b",
   "metadata": {},
   "outputs": [],
   "source": [
    "a = [1,2,3,4]\n",
    "b = ([[1,2], [2,3]])\n",
    "c = (10,20,30)"
   ]
  },
  {
   "cell_type": "code",
   "execution_count": 115,
   "id": "25a2fd11",
   "metadata": {},
   "outputs": [
    {
     "name": "stdout",
     "output_type": "stream",
     "text": [
      "[1 2 3 4] int64 <class 'list'>\n"
     ]
    }
   ],
   "source": [
    "a_npy = np.array(a)\n",
    "print(a_npy, a_npy.dtype, type(a))"
   ]
  },
  {
   "cell_type": "code",
   "execution_count": 116,
   "id": "ec5a1e79",
   "metadata": {},
   "outputs": [
    {
     "name": "stdout",
     "output_type": "stream",
     "text": [
      "[[1 2]\n",
      " [2 3]] int64 <class 'list'>\n"
     ]
    }
   ],
   "source": [
    "b_npy = np.array(b)\n",
    "print(b_npy, b_npy.dtype, type(b))"
   ]
  },
  {
   "cell_type": "code",
   "execution_count": 117,
   "id": "eedee450",
   "metadata": {},
   "outputs": [
    {
     "name": "stdout",
     "output_type": "stream",
     "text": [
      "[10 20 30] int64 <class 'tuple'>\n"
     ]
    }
   ],
   "source": [
    "c_npy = np.array(c)\n",
    "print(c_npy, c_npy.dtype, type(c))"
   ]
  },
  {
   "cell_type": "code",
   "execution_count": 118,
   "id": "15f31378",
   "metadata": {},
   "outputs": [],
   "source": [
    "# vstack\n",
    "\n",
    "a = np.array([[1,2]])\n",
    "b = np.array([[3,4]])"
   ]
  },
  {
   "cell_type": "code",
   "execution_count": 119,
   "id": "3bd3510a",
   "metadata": {},
   "outputs": [
    {
     "name": "stdout",
     "output_type": "stream",
     "text": [
      "[[1 2]\n",
      " [3 4]]\n"
     ]
    }
   ],
   "source": [
    "print(np.vstack((a,b)))"
   ]
  },
  {
   "cell_type": "code",
   "execution_count": 120,
   "id": "68cae142",
   "metadata": {},
   "outputs": [
    {
     "name": "stdout",
     "output_type": "stream",
     "text": [
      "[[1 2 3 4]]\n"
     ]
    }
   ],
   "source": [
    "print(np.hstack((a,b)))"
   ]
  },
  {
   "cell_type": "code",
   "execution_count": 121,
   "id": "eae2fc15",
   "metadata": {},
   "outputs": [
    {
     "name": "stdout",
     "output_type": "stream",
     "text": [
      "['hello_user' 'world_123']\n"
     ]
    }
   ],
   "source": [
    "# np.char.<function_name>()\n",
    "\n",
    "# 1. np.add()\n",
    "\n",
    "# \"hello\" + \"hello\"\n",
    "\n",
    "a = np.array(['hello', 'world'])\n",
    "b = np.array(['_user', '_123'])\n",
    "\n",
    "print(np.char.add(a, b))"
   ]
  },
  {
   "cell_type": "code",
   "execution_count": 123,
   "id": "c28a6971",
   "metadata": {},
   "outputs": [
    {
     "name": "stdout",
     "output_type": "stream",
     "text": [
      "['hellohello' 'worldworld']\n"
     ]
    }
   ],
   "source": [
    "# np.char.multiply()\n",
    "\n",
    "print(np.char.multiply(a, 2))"
   ]
  },
  {
   "cell_type": "code",
   "execution_count": 124,
   "id": "645cbe7a",
   "metadata": {},
   "outputs": [
    {
     "name": "stdout",
     "output_type": "stream",
     "text": [
      "['HELLO' 'WORLD']\n",
      "['hello' 'world']\n",
      "['Hello' 'World']\n"
     ]
    }
   ],
   "source": [
    "# np.char.upper() / lower() / capitalize()\n",
    "\n",
    "a = np.array(['hello', 'WORLD'])\n",
    "\n",
    "print(np.char.upper(a)) \n",
    "print(np.char.lower(a)) \n",
    "print(np.char.capitalize(a)) "
   ]
  },
  {
   "cell_type": "code",
   "execution_count": 128,
   "id": "d4664b84",
   "metadata": {},
   "outputs": [
    {
     "name": "stdout",
     "output_type": "stream",
     "text": [
      "['***hello***' '***WORLD***']\n"
     ]
    }
   ],
   "source": [
    "# np.char.center()\n",
    "\n",
    "print(np.char.center(a, 11, fillchar='*'))"
   ]
  },
  {
   "cell_type": "code",
   "execution_count": 129,
   "id": "bf166069",
   "metadata": {},
   "outputs": [],
   "source": [
    "a = np.array(['data_science', 'machine_learning'])"
   ]
  },
  {
   "cell_type": "code",
   "execution_count": 130,
   "id": "d70d4d3e",
   "metadata": {},
   "outputs": [
    {
     "name": "stdout",
     "output_type": "stream",
     "text": [
      "['data science' 'machine learning']\n"
     ]
    }
   ],
   "source": [
    "# np.char.replace()\n",
    "\n",
    "print(np.char.replace(a, '_', ' '))"
   ]
  },
  {
   "cell_type": "code",
   "execution_count": 131,
   "id": "35dd0fe7",
   "metadata": {},
   "outputs": [
    {
     "name": "stdout",
     "output_type": "stream",
     "text": [
      "[list(['data', 'science']) list(['machine', 'learning'])]\n"
     ]
    }
   ],
   "source": [
    "# np.char.split()\n",
    "\n",
    "print(np.char.split(a, sep='_'))"
   ]
  },
  {
   "cell_type": "code",
   "execution_count": 134,
   "id": "4c94e517",
   "metadata": {},
   "outputs": [
    {
     "name": "stdout",
     "output_type": "stream",
     "text": [
      "[-1  8]\n",
      "[2 2]\n",
      "[1 0]\n"
     ]
    }
   ],
   "source": [
    "# np.char.find() / np.char.count()\n",
    "\n",
    "print(np.char.find(a, 'learn')) \n",
    "print(np.char.count(a, 'a'))\n",
    "print(np.char.count(a, 'data'))"
   ]
  },
  {
   "cell_type": "markdown",
   "id": "2b8431fd",
   "metadata": {},
   "source": [
    "# statistical functions"
   ]
  },
  {
   "cell_type": "code",
   "execution_count": 135,
   "id": "227e82ae",
   "metadata": {},
   "outputs": [],
   "source": [
    "data = np.array([1, 2, 3, 4, 5, 6])"
   ]
  },
  {
   "cell_type": "code",
   "execution_count": 139,
   "id": "5543e344",
   "metadata": {},
   "outputs": [
    {
     "name": "stdout",
     "output_type": "stream",
     "text": [
      "Mean: 3.5\n",
      "Median: 3.5\n",
      "Standard Deviation: 1.707825127659933\n",
      "Variance: 2.9166666666666665\n",
      "Min: 1\n",
      "Max: 6\n"
     ]
    }
   ],
   "source": [
    "print(\"Mean:\", np.mean(data))\n",
    "print(\"Median:\", np.median(data))\n",
    "print(\"Standard Deviation:\", np.std(data))\n",
    "print(\"Variance:\", np.var(data))\n",
    "print(\"Min:\", np.min(data))\n",
    "print(\"Max:\", np.max(data))"
   ]
  },
  {
   "cell_type": "code",
   "execution_count": 140,
   "id": "54764d3b",
   "metadata": {},
   "outputs": [
    {
     "name": "stdout",
     "output_type": "stream",
     "text": [
      "Argmin: 0\n",
      "Argmax: 5\n"
     ]
    }
   ],
   "source": [
    "print(\"Argmin:\", np.argmin(data))\n",
    "print(\"Argmax:\", np.argmax(data))"
   ]
  },
  {
   "cell_type": "code",
   "execution_count": 142,
   "id": "b0bde444",
   "metadata": {},
   "outputs": [
    {
     "name": "stdout",
     "output_type": "stream",
     "text": [
      "[2.5 3.5 4.5]\n",
      "[2. 5.]\n"
     ]
    }
   ],
   "source": [
    "matrix = np.array([[1, 2, 3], \n",
    "                   [4, 5, 6]])\n",
    "\n",
    "print(np.mean(matrix, axis=0))\n",
    "print(np.mean(matrix, axis=1))"
   ]
  },
  {
   "cell_type": "code",
   "execution_count": 151,
   "id": "50254571",
   "metadata": {},
   "outputs": [
    {
     "name": "stdout",
     "output_type": "stream",
     "text": [
      "5.0\n",
      "9\n"
     ]
    }
   ],
   "source": [
    "data = np.array([1, 3, 5, 7, 9])\n",
    "print(np.percentile(data, 50)) # range 1 - 100\n",
    "print(np.quantile(data, 1)) # range 0 - 1"
   ]
  },
  {
   "cell_type": "markdown",
   "id": "92509fd5",
   "metadata": {},
   "source": [
    "# sort, search, counting functions"
   ]
  },
  {
   "cell_type": "code",
   "execution_count": 157,
   "id": "2f934258",
   "metadata": {},
   "outputs": [
    {
     "name": "stdout",
     "output_type": "stream",
     "text": [
      "Sorted: [1 1 1 1 2 3 5 6 6 8]\n",
      "Sorted indices: [3 2 5 4 7 0 8 1 9 6]\n",
      "Insert 4 position: 6\n",
      "Unique elements: [1 2 3 5 6 8]\n",
      "Count of each element: [0 4 1 1 0 1 2 0 1]\n"
     ]
    }
   ],
   "source": [
    "arr = np.array([3, 6, 1, 1, 1, 1, 8, 2, 5, 6])\n",
    "\n",
    "print(\"Sorted:\", np.sort(arr))\n",
    "print(\"Sorted indices:\", np.argsort(arr))\n",
    "print(\"Insert 4 position:\", np.searchsorted(np.sort(arr), 4))\n",
    "print(\"Unique elements:\", np.unique(arr))\n",
    "print(\"Count of each element:\", np.bincount(arr))\n",
    "\n",
    "# min - 1\n",
    "# max - 8\n",
    "# creates an array from 0 to max element (8)\n",
    "# 0, 1, 2, 3, 4, 5, 6, 7, 8 --> len(9)"
   ]
  },
  {
   "cell_type": "code",
   "execution_count": 158,
   "id": "0fe7d0d4",
   "metadata": {},
   "outputs": [
    {
     "name": "stdout",
     "output_type": "stream",
     "text": [
      "1\n",
      "2\n",
      "3\n",
      "4\n"
     ]
    }
   ],
   "source": [
    "arr = np.array([1, 2, 3, 4])\n",
    "\n",
    "for x in arr:\n",
    "    print(x)"
   ]
  },
  {
   "cell_type": "code",
   "execution_count": 159,
   "id": "756d3cf3",
   "metadata": {},
   "outputs": [
    {
     "name": "stdout",
     "output_type": "stream",
     "text": [
      "[1 2]\n",
      "[3 4]\n"
     ]
    }
   ],
   "source": [
    "arr_2d = np.array([[1, 2], [3, 4]])\n",
    "\n",
    "for x in arr_2d:\n",
    "    print(x)"
   ]
  },
  {
   "cell_type": "code",
   "execution_count": 162,
   "id": "f019f498",
   "metadata": {},
   "outputs": [
    {
     "name": "stdout",
     "output_type": "stream",
     "text": [
      "0\n",
      "1\n",
      "2\n",
      "3\n",
      "4\n",
      "5\n",
      "6\n",
      "7\n"
     ]
    }
   ],
   "source": [
    "arr = np.arange(8).reshape(2,2,2)\n",
    "\n",
    "for x in np.nditer(arr):\n",
    "    print(x)"
   ]
  },
  {
   "cell_type": "code",
   "execution_count": 171,
   "id": "bb72d63c",
   "metadata": {},
   "outputs": [],
   "source": [
    "a = np.array([1, 2, 3])"
   ]
  },
  {
   "cell_type": "code",
   "execution_count": 172,
   "id": "c41fd76d",
   "metadata": {},
   "outputs": [],
   "source": [
    "b = a"
   ]
  },
  {
   "cell_type": "code",
   "execution_count": 173,
   "id": "ef55cbdb",
   "metadata": {},
   "outputs": [
    {
     "name": "stdout",
     "output_type": "stream",
     "text": [
      "2182904262896\n",
      "2182904262896\n"
     ]
    }
   ],
   "source": [
    "print(id(a))\n",
    "print(id(b))"
   ]
  },
  {
   "cell_type": "code",
   "execution_count": 174,
   "id": "82cf1354",
   "metadata": {},
   "outputs": [],
   "source": [
    "b[0] = 100"
   ]
  },
  {
   "cell_type": "code",
   "execution_count": 175,
   "id": "edf1fd58",
   "metadata": {},
   "outputs": [
    {
     "name": "stdout",
     "output_type": "stream",
     "text": [
      "[100   2   3]\n"
     ]
    }
   ],
   "source": [
    "print(a)"
   ]
  },
  {
   "cell_type": "code",
   "execution_count": 179,
   "id": "373d9aa8",
   "metadata": {},
   "outputs": [],
   "source": [
    "a = np.array([1, 2, 3])"
   ]
  },
  {
   "cell_type": "code",
   "execution_count": 180,
   "id": "19e7f6eb",
   "metadata": {},
   "outputs": [],
   "source": [
    "b = a.copy()"
   ]
  },
  {
   "cell_type": "code",
   "execution_count": 181,
   "id": "b0382269",
   "metadata": {},
   "outputs": [
    {
     "name": "stdout",
     "output_type": "stream",
     "text": [
      "2182904263280\n",
      "2182904045296\n"
     ]
    }
   ],
   "source": [
    "print(id(a))\n",
    "print(id(b))"
   ]
  },
  {
   "cell_type": "code",
   "execution_count": 182,
   "id": "a9606ac5",
   "metadata": {},
   "outputs": [],
   "source": [
    "b[0] = 100"
   ]
  },
  {
   "cell_type": "code",
   "execution_count": 183,
   "id": "dd2e49ff",
   "metadata": {},
   "outputs": [
    {
     "name": "stdout",
     "output_type": "stream",
     "text": [
      "[1 2 3]\n"
     ]
    }
   ],
   "source": [
    "print(a)"
   ]
  },
  {
   "cell_type": "code",
   "execution_count": 184,
   "id": "994f5b56",
   "metadata": {},
   "outputs": [],
   "source": [
    "a = np.array([1, 2, 3])\n",
    "\n",
    "b = a.view()\n",
    "\n",
    "c = a.copy()"
   ]
  },
  {
   "cell_type": "code",
   "execution_count": 185,
   "id": "cd53847e",
   "metadata": {},
   "outputs": [
    {
     "name": "stdout",
     "output_type": "stream",
     "text": [
      "[10  2  3]\n"
     ]
    }
   ],
   "source": [
    "b[0] = 10\n",
    "print(a)"
   ]
  },
  {
   "cell_type": "code",
   "execution_count": 186,
   "id": "d1ad4561",
   "metadata": {},
   "outputs": [
    {
     "name": "stdout",
     "output_type": "stream",
     "text": [
      "[10  2  3]\n"
     ]
    }
   ],
   "source": [
    "c[0] = 20\n",
    "print(a)"
   ]
  },
  {
   "cell_type": "code",
   "execution_count": 199,
   "id": "dde75008",
   "metadata": {},
   "outputs": [
    {
     "name": "stdout",
     "output_type": "stream",
     "text": [
      "True\n"
     ]
    }
   ],
   "source": [
    "a = np.arange(5)\n",
    "b = a[1:4] # view\n",
    "print(np.shares_memory(a, b))"
   ]
  },
  {
   "cell_type": "code",
   "execution_count": 188,
   "id": "7baefb8a",
   "metadata": {},
   "outputs": [
    {
     "name": "stdout",
     "output_type": "stream",
     "text": [
      "False\n"
     ]
    }
   ],
   "source": [
    "a = np.arange(5)\n",
    "b = a[1:4].copy()\n",
    "print(np.shares_memory(a, b))"
   ]
  },
  {
   "cell_type": "code",
   "execution_count": 205,
   "id": "346dff92",
   "metadata": {},
   "outputs": [
    {
     "name": "stdout",
     "output_type": "stream",
     "text": [
      "[1 2 3 4]\n",
      "[1 2 3 4]\n"
     ]
    }
   ],
   "source": [
    "a = np.array([[1, 2], [3, 4]])\n",
    "print(a.ravel())\n",
    "print(a.flatten())"
   ]
  },
  {
   "cell_type": "code",
   "execution_count": null,
   "id": "660ddf6a",
   "metadata": {},
   "outputs": [],
   "source": []
  }
 ],
 "metadata": {
  "kernelspec": {
   "display_name": "base",
   "language": "python",
   "name": "python3"
  },
  "language_info": {
   "codemirror_mode": {
    "name": "ipython",
    "version": 3
   },
   "file_extension": ".py",
   "mimetype": "text/x-python",
   "name": "python",
   "nbconvert_exporter": "python",
   "pygments_lexer": "ipython3",
   "version": "3.12.3"
  }
 },
 "nbformat": 4,
 "nbformat_minor": 5
}
