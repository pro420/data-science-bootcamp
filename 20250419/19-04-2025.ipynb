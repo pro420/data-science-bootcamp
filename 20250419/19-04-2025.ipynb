{
 "cells": [
  {
   "cell_type": "code",
   "execution_count": null,
   "id": "dbbe41a5",
   "metadata": {},
   "outputs": [],
   "source": [
    "'''\n",
    "while condition :\n",
    "    do something\n",
    "'''"
   ]
  },
  {
   "cell_type": "code",
   "execution_count": 1,
   "id": "bd10fe58",
   "metadata": {},
   "outputs": [],
   "source": [
    "# print everything till 8, given values 0 - 100"
   ]
  },
  {
   "cell_type": "code",
   "execution_count": null,
   "id": "eac1aa44",
   "metadata": {},
   "outputs": [
    {
     "name": "stdout",
     "output_type": "stream",
     "text": [
      "0\n",
      "1\n",
      "2\n",
      "3\n",
      "4\n",
      "5\n",
      "6\n",
      "7\n",
      "8\n"
     ]
    }
   ],
   "source": [
    "for i in range(0, 101):\n",
    "    if i == 9:\n",
    "        break\n",
    "    print(i)"
   ]
  },
  {
   "cell_type": "code",
   "execution_count": 5,
   "id": "78e835ad",
   "metadata": {},
   "outputs": [
    {
     "name": "stdout",
     "output_type": "stream",
     "text": [
      "0\n",
      "1\n",
      "2\n",
      "3\n",
      "4\n",
      "5\n",
      "6\n",
      "7\n",
      "8\n"
     ]
    }
   ],
   "source": [
    "i = 0\n",
    "while i <= 8:\n",
    "    print(i)\n",
    "    i+=1\n",
    "    "
   ]
  },
  {
   "cell_type": "code",
   "execution_count": null,
   "id": "e6dce894",
   "metadata": {},
   "outputs": [],
   "source": [
    "while True:\n",
    "    name = input(\"Please enter your name : \")\n",
    "    if name == \"Riyan\":\n",
    "        break\n",
    "    print(name)\n",
    "\n",
    "print(\"hello\")"
   ]
  },
  {
   "cell_type": "code",
   "execution_count": 1,
   "id": "518e298a",
   "metadata": {},
   "outputs": [
    {
     "name": "stdout",
     "output_type": "stream",
     "text": [
      "\n",
      "monal\n",
      "Riyan\n",
      "hello\n"
     ]
    }
   ],
   "source": [
    "a = True\n",
    "while a:\n",
    "    name = input(\"Please enter your name : \")\n",
    "    if name == \"Riyan\":\n",
    "        a = False\n",
    "    print(name)\n",
    "\n",
    "print(\"hello\")"
   ]
  },
  {
   "cell_type": "code",
   "execution_count": 2,
   "id": "b7dff3da",
   "metadata": {},
   "outputs": [
    {
     "name": "stdout",
     "output_type": "stream",
     "text": [
      "1\n",
      "2\n",
      "3\n",
      "4\n",
      "5\n",
      "7\n",
      "8\n",
      "9\n"
     ]
    }
   ],
   "source": [
    "a = [1,2,3,4,5,7,8,9]\n",
    "\n",
    "for i in a:\n",
    "    print(i)"
   ]
  },
  {
   "cell_type": "code",
   "execution_count": 13,
   "id": "376da12e",
   "metadata": {},
   "outputs": [],
   "source": [
    "def add():\n",
    "    a = int(input(\"Enter a value : \"))\n",
    "    b = int(input(\"Enter a value : \"))\n",
    "    print(a + b)"
   ]
  },
  {
   "cell_type": "code",
   "execution_count": null,
   "id": "bd28c12a",
   "metadata": {},
   "outputs": [
    {
     "name": "stdout",
     "output_type": "stream",
     "text": [
      "18\n"
     ]
    }
   ],
   "source": [
    "for i in range(0,3):\n",
    "    add()"
   ]
  },
  {
   "cell_type": "code",
   "execution_count": null,
   "id": "5c02acb8",
   "metadata": {},
   "outputs": [],
   "source": [
    "for i in range(0,3):\n",
    "    add()"
   ]
  },
  {
   "cell_type": "code",
   "execution_count": 11,
   "id": "53d1adad",
   "metadata": {},
   "outputs": [
    {
     "name": "stdout",
     "output_type": "stream",
     "text": [
      "hello\n"
     ]
    }
   ],
   "source": [
    "print(\"hello\") # Function"
   ]
  },
  {
   "cell_type": "code",
   "execution_count": 1,
   "id": "8b783467",
   "metadata": {},
   "outputs": [
    {
     "ename": "NameError",
     "evalue": "name 'a' is not defined",
     "output_type": "error",
     "traceback": [
      "\u001b[31m---------------------------------------------------------------------------\u001b[39m",
      "\u001b[31mNameError\u001b[39m                                 Traceback (most recent call last)",
      "\u001b[36mCell\u001b[39m\u001b[36m \u001b[39m\u001b[32mIn[1]\u001b[39m\u001b[32m, line 4\u001b[39m\n\u001b[32m      1\u001b[39m \u001b[38;5;28;01mdef\u001b[39;00m\u001b[38;5;250m \u001b[39m\u001b[34madd\u001b[39m(a,b):\n\u001b[32m      2\u001b[39m     \u001b[38;5;28mprint\u001b[39m(a+b)\n\u001b[32m----> \u001b[39m\u001b[32m4\u001b[39m \u001b[38;5;28mprint\u001b[39m(\u001b[43ma\u001b[49m)\n",
      "\u001b[31mNameError\u001b[39m: name 'a' is not defined"
     ]
    }
   ],
   "source": [
    "def add(a,b):\n",
    "    print(a+b)\n",
    "\n",
    "print(a)"
   ]
  },
  {
   "cell_type": "code",
   "execution_count": 6,
   "id": "7ed0cdc7",
   "metadata": {},
   "outputs": [
    {
     "name": "stdout",
     "output_type": "stream",
     "text": [
      "12\n"
     ]
    }
   ],
   "source": [
    "add(10,2)"
   ]
  },
  {
   "cell_type": "code",
   "execution_count": 3,
   "id": "e0626ff5",
   "metadata": {},
   "outputs": [
    {
     "ename": "NameError",
     "evalue": "name 'a' is not defined",
     "output_type": "error",
     "traceback": [
      "\u001b[31m---------------------------------------------------------------------------\u001b[39m",
      "\u001b[31mNameError\u001b[39m                                 Traceback (most recent call last)",
      "\u001b[36mCell\u001b[39m\u001b[36m \u001b[39m\u001b[32mIn[3]\u001b[39m\u001b[32m, line 1\u001b[39m\n\u001b[32m----> \u001b[39m\u001b[32m1\u001b[39m \u001b[38;5;28mprint\u001b[39m(\u001b[43ma\u001b[49m)\n",
      "\u001b[31mNameError\u001b[39m: name 'a' is not defined"
     ]
    }
   ],
   "source": [
    "print(a)"
   ]
  },
  {
   "cell_type": "code",
   "execution_count": 17,
   "id": "00c331fe",
   "metadata": {},
   "outputs": [
    {
     "name": "stdout",
     "output_type": "stream",
     "text": [
      "234233\n"
     ]
    }
   ],
   "source": [
    "add(1,234232)"
   ]
  },
  {
   "cell_type": "code",
   "execution_count": 7,
   "id": "34eab2bd",
   "metadata": {},
   "outputs": [],
   "source": [
    "# default arguments"
   ]
  },
  {
   "cell_type": "code",
   "execution_count": null,
   "id": "ffbeb531",
   "metadata": {},
   "outputs": [],
   "source": [
    "def add(a=0, b=0):\n",
    "    print(a)\n",
    "    print(b)\n",
    "    print(a+b)"
   ]
  },
  {
   "cell_type": "code",
   "execution_count": 13,
   "id": "16da4634",
   "metadata": {},
   "outputs": [
    {
     "name": "stdout",
     "output_type": "stream",
     "text": [
      "0\n",
      "0\n",
      "0\n"
     ]
    }
   ],
   "source": [
    "add()"
   ]
  },
  {
   "cell_type": "code",
   "execution_count": 14,
   "id": "5a6b1e3c",
   "metadata": {},
   "outputs": [
    {
     "name": "stdout",
     "output_type": "stream",
     "text": [
      "5\n",
      "0\n",
      "5\n"
     ]
    }
   ],
   "source": [
    "add(5)"
   ]
  },
  {
   "cell_type": "code",
   "execution_count": 15,
   "id": "7c4d6bb4",
   "metadata": {},
   "outputs": [
    {
     "name": "stdout",
     "output_type": "stream",
     "text": [
      "5\n",
      "6\n",
      "11\n"
     ]
    }
   ],
   "source": [
    "add(5,6)"
   ]
  },
  {
   "cell_type": "code",
   "execution_count": 17,
   "id": "c363b8e4",
   "metadata": {},
   "outputs": [
    {
     "name": "stdout",
     "output_type": "stream",
     "text": [
      "10\n",
      "5\n",
      "15\n"
     ]
    }
   ],
   "source": [
    "a = 5\n",
    "add(10, a)"
   ]
  },
  {
   "cell_type": "code",
   "execution_count": 19,
   "id": "9b8ebbd9",
   "metadata": {},
   "outputs": [
    {
     "name": "stdout",
     "output_type": "stream",
     "text": [
      "0\n"
     ]
    }
   ],
   "source": [
    "a = 0\n",
    "print(a)"
   ]
  },
  {
   "cell_type": "code",
   "execution_count": 20,
   "id": "75d6763e",
   "metadata": {},
   "outputs": [
    {
     "name": "stdout",
     "output_type": "stream",
     "text": [
      "5\n"
     ]
    }
   ],
   "source": [
    "a = 5\n",
    "print(5)"
   ]
  },
  {
   "cell_type": "code",
   "execution_count": null,
   "id": "ca526b73",
   "metadata": {},
   "outputs": [],
   "source": [
    "def add(a=0, b=0):\n",
    "    print(a)\n",
    "    print(b)\n",
    "    print(a+b)"
   ]
  },
  {
   "cell_type": "code",
   "execution_count": 23,
   "id": "f56c5d56",
   "metadata": {},
   "outputs": [
    {
     "name": "stdout",
     "output_type": "stream",
     "text": [
      "3\n",
      "3\n",
      "6\n"
     ]
    }
   ],
   "source": [
    "add(a=3, b=3)"
   ]
  },
  {
   "cell_type": "code",
   "execution_count": null,
   "id": "dfe3bc09",
   "metadata": {},
   "outputs": [],
   "source": [
    "add(b=3)"
   ]
  },
  {
   "cell_type": "code",
   "execution_count": 24,
   "id": "f3a9c73e",
   "metadata": {},
   "outputs": [
    {
     "name": "stdout",
     "output_type": "stream",
     "text": [
      "hello\n",
      "\n",
      "\n",
      "\n",
      "hello\n"
     ]
    }
   ],
   "source": [
    "print(\"hello\", end=\"\\n\\n\\n\\n\")\n",
    "print(\"hello\")"
   ]
  },
  {
   "cell_type": "code",
   "execution_count": 30,
   "id": "dcf0b622",
   "metadata": {},
   "outputs": [],
   "source": [
    "def add_multiple_value(*args):\n",
    "    print(type(args))\n",
    "    sum = 0\n",
    "    for val in args:\n",
    "        sum+=val\n",
    "    print(sum)"
   ]
  },
  {
   "cell_type": "code",
   "execution_count": 31,
   "id": "a3d335a2",
   "metadata": {},
   "outputs": [
    {
     "name": "stdout",
     "output_type": "stream",
     "text": [
      "<class 'tuple'>\n",
      "15\n"
     ]
    }
   ],
   "source": [
    "add_multiple_value(1,2,3,4,5)"
   ]
  },
  {
   "cell_type": "code",
   "execution_count": 49,
   "id": "ad8e1634",
   "metadata": {},
   "outputs": [],
   "source": [
    "def greet_names(greeting, *args):\n",
    "    for i in args:\n",
    "        print(greeting, i)\n",
    "    print(len(args))\n",
    "    print(args[0])\n",
    "    print(args[1])\n",
    "    print(args[2])"
   ]
  },
  {
   "cell_type": "code",
   "execution_count": 50,
   "id": "8f30ad73",
   "metadata": {},
   "outputs": [
    {
     "name": "stdout",
     "output_type": "stream",
     "text": [
      "hello how are you !! krish\n",
      "hello how are you !! mohit\n",
      "hello how are you !! mohammad\n",
      "3\n",
      "krish\n",
      "mohit\n",
      "mohammad\n"
     ]
    }
   ],
   "source": [
    "greet_names(\"hello how are you !!\", \"krish\", \"mohit\", \"mohammad\")"
   ]
  },
  {
   "cell_type": "code",
   "execution_count": 61,
   "id": "88edfab3",
   "metadata": {},
   "outputs": [
    {
     "name": "stdout",
     "output_type": "stream",
     "text": [
      "<class 'dict'>\n",
      "{'a': 2, 'b': 3, 'c': 4, 'd': 5, 'e': 6}\n",
      "9\n",
      "12\n"
     ]
    }
   ],
   "source": [
    "def add(**kwargs):\n",
    "    print(type(kwargs))\n",
    "    print(kwargs)\n",
    "    print(kwargs[\"a\"] +kwargs[\"c\"] +kwargs[\"b\"])\n",
    "    print(kwargs.get(\"c\") + kwargs.get(\"b\") + kwargs.get(\"d\"))\n",
    "\n",
    "add(a=2, b=3, c=4, d=5, e=6)"
   ]
  },
  {
   "cell_type": "code",
   "execution_count": 62,
   "id": "e7e214e3",
   "metadata": {},
   "outputs": [
    {
     "name": "stdout",
     "output_type": "stream",
     "text": [
      "<class 'tuple'>\n",
      "<class 'dict'>\n",
      "(1, 2)\n",
      "{'c': 4, 'd': 5, 'e': 6}\n"
     ]
    }
   ],
   "source": [
    "def add(*args, **kwargs):\n",
    "    print(type(args))\n",
    "    print(type(kwargs))\n",
    "    print(args)\n",
    "    print(kwargs)\n",
    "\n",
    "add(1,2, c=4, d=5, e=6)"
   ]
  },
  {
   "cell_type": "code",
   "execution_count": 63,
   "id": "aa57fb81",
   "metadata": {},
   "outputs": [
    {
     "data": {
      "text/plain": [
       "36"
      ]
     },
     "execution_count": 63,
     "metadata": {},
     "output_type": "execute_result"
    }
   ],
   "source": [
    "a = [1,2,3,4,5,6,7,8]\n",
    "sum(a)"
   ]
  },
  {
   "cell_type": "code",
   "execution_count": 69,
   "id": "079f6a03",
   "metadata": {},
   "outputs": [],
   "source": [
    "def add(a,b):\n",
    "    c = a+b\n",
    "    return c"
   ]
  },
  {
   "cell_type": "code",
   "execution_count": 70,
   "id": "4ba09031",
   "metadata": {},
   "outputs": [
    {
     "name": "stdout",
     "output_type": "stream",
     "text": [
      "Function calling\n",
      "3\n",
      "Function executed successfully.\n"
     ]
    }
   ],
   "source": [
    "print(\"Function calling\")\n",
    "d = add(1,2)\n",
    "print(d)\n",
    "print(\"Function executed successfully.\")\n"
   ]
  },
  {
   "cell_type": "code",
   "execution_count": 73,
   "id": "1c2b96af",
   "metadata": {},
   "outputs": [
    {
     "name": "stdout",
     "output_type": "stream",
     "text": [
      "0\n",
      "0\n",
      "5\n",
      "5\n",
      "10\n",
      "0\n",
      "0\n"
     ]
    }
   ],
   "source": [
    "a = 0\n",
    "b = 0\n",
    "print(a)\n",
    "print(b)\n",
    "def add(a=1, b=1):\n",
    "    c = a+b\n",
    "    print(a)\n",
    "    print(b)\n",
    "    print(c)\n",
    "add(5,5)\n",
    "print(a)\n",
    "print(b)\n"
   ]
  },
  {
   "cell_type": "markdown",
   "id": "84921e75",
   "metadata": {},
   "source": [
    "# problem statment solution"
   ]
  },
  {
   "cell_type": "code",
   "execution_count": 112,
   "id": "118dd214",
   "metadata": {},
   "outputs": [],
   "source": [
    "id = 1\n",
    "patient_info = {}"
   ]
  },
  {
   "cell_type": "code",
   "execution_count": 113,
   "id": "b1a115ed",
   "metadata": {},
   "outputs": [],
   "source": [
    "def calculate_bmi(weight_kg, height_cm):\n",
    "    bmi = weight_kg / ((height_cm/100)**2)\n",
    "    return bmi"
   ]
  },
  {
   "cell_type": "code",
   "execution_count": 114,
   "id": "6091f38f",
   "metadata": {},
   "outputs": [],
   "source": [
    "def patient_admission(f_name, l_name, date_ddmmyy, weight_kg, height_cm, country_lower_case):\n",
    "    global id\n",
    "    global patient_info\n",
    "\n",
    "    patient_info[id] = {}\n",
    "\n",
    "    patient_info[id][\"f_name\"] = f_name\n",
    "    patient_info[id][\"l_name\"] = l_name\n",
    "    patient_info[id][\"date_ddmmyy\"] = date_ddmmyy\n",
    "    patient_info[id][\"weight_kg\"] = weight_kg\n",
    "    patient_info[id][\"height_cm\"] = height_cm\n",
    "    patient_info[id][\"country\"] = country_lower_case\n",
    "    patient_info[id][\"temp_ind\"] = None\n",
    "    patient_info[id][\"temp_others\"] = None\n",
    "    patient_info[id][\"bmi\"] = calculate_bmi(weight_kg, height_cm)\n",
    "\n",
    "    if country_lower_case == \"india\":\n",
    "        patient_info[id][\"temp_ind\"] = float(input(\"Enter patient temperature in celcius : \"))\n",
    "    else :\n",
    "        patient_info[id][\"temp_others\"] = float(input(\"Enter patient temperature in fahrenheit: \"))\n",
    "\n",
    "    # increamenet the id\n",
    "    id+=1"
   ]
  },
  {
   "cell_type": "code",
   "execution_count": 132,
   "id": "02ea9c9e",
   "metadata": {},
   "outputs": [],
   "source": [
    "def get_patient_details_for_opd(patient_id):\n",
    "    temp = None\n",
    "\n",
    "    if patient_info[patient_id][\"temp_ind\"] is not None:\n",
    "        temp = patient_info[patient_id][\"temp_ind\"]\n",
    "    else :\n",
    "        temp = patient_info[patient_id][\"temp_others\"]\n",
    "\n",
    "    print(\"Patient_id\", list(patient_info.keys())[patient_id-1], \" Patient full_name is : \", patient_info[patient_id][\"f_name\"] + \" \" + patient_info[patient_id][\"l_name\"], \"Patient temperate is : \", temp, \"Patient BMI is : \", patient_info[patient_id][\"bmi\"])"
   ]
  },
  {
   "cell_type": "code",
   "execution_count": 128,
   "id": "7b367568",
   "metadata": {},
   "outputs": [
    {
     "data": {
      "text/plain": [
       "dict_keys([1, 2])"
      ]
     },
     "execution_count": 128,
     "metadata": {},
     "output_type": "execute_result"
    }
   ],
   "source": [
    "patient_info.keys()"
   ]
  },
  {
   "cell_type": "code",
   "execution_count": 118,
   "id": "859d1353",
   "metadata": {},
   "outputs": [],
   "source": [
    "f_name = input(\"Enter full name : \")\n",
    "l_name = input(\"Enter last name : \")\n",
    "date_ddmmyy = input(\"Enter date in ddmmyy format : \")\n",
    "weight_kg = float(input(\"Enter weight in kg : \"))\n",
    "height_cm = float(input(\"Enter height in cm : \"))\n",
    "country_lower_case = input(\"Enter country in lowercase : \")\n",
    "\n",
    "patient_admission(f_name, l_name, date_ddmmyy, weight_kg, height_cm, country_lower_case)"
   ]
  },
  {
   "cell_type": "code",
   "execution_count": 133,
   "id": "313d935d",
   "metadata": {},
   "outputs": [
    {
     "name": "stdout",
     "output_type": "stream",
     "text": [
      "Patient_id 2  Patient full_name is :  enjoy hello Patient temperate is :  41.0 Patient BMI is :  20.0\n"
     ]
    }
   ],
   "source": [
    "get_patient_details_for_opd(2)"
   ]
  },
  {
   "cell_type": "code",
   "execution_count": 134,
   "id": "07b62c10",
   "metadata": {},
   "outputs": [
    {
     "name": "stdout",
     "output_type": "stream",
     "text": [
      "Patient_id 1  Patient full_name is :  monal kumar Patient temperate is :  34.0 Patient BMI is :  24.691358024691358\n"
     ]
    }
   ],
   "source": [
    "get_patient_details_for_opd(1)"
   ]
  },
  {
   "cell_type": "code",
   "execution_count": 140,
   "id": "2ca4b5a6",
   "metadata": {},
   "outputs": [],
   "source": [
    "# 3,1\n",
    "# 2,3\n",
    "# 1,5\n",
    "# 0,7"
   ]
  },
  {
   "cell_type": "code",
   "execution_count": 141,
   "id": "59299be7",
   "metadata": {},
   "outputs": [
    {
     "name": "stdout",
     "output_type": "stream",
     "text": [
      "    *\n",
      "   ***\n",
      "  *****\n",
      " *******\n"
     ]
    }
   ],
   "source": [
    "star_i = 1\n",
    "for i in range(3, -1, -1):\n",
    "    print(\" \"*i, star_i*\"*\")\n",
    "    star_i+=2"
   ]
  },
  {
   "cell_type": "code",
   "execution_count": null,
   "id": "1d07b0f2",
   "metadata": {},
   "outputs": [],
   "source": []
  }
 ],
 "metadata": {
  "kernelspec": {
   "display_name": "base",
   "language": "python",
   "name": "python3"
  },
  "language_info": {
   "codemirror_mode": {
    "name": "ipython",
    "version": 3
   },
   "file_extension": ".py",
   "mimetype": "text/x-python",
   "name": "python",
   "nbconvert_exporter": "python",
   "pygments_lexer": "ipython3",
   "version": "3.12.3"
  }
 },
 "nbformat": 4,
 "nbformat_minor": 5
}
