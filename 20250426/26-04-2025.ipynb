{
 "cells": [
  {
   "cell_type": "code",
   "execution_count": 1,
   "id": "1476d8e1",
   "metadata": {},
   "outputs": [
    {
     "ename": "TypeError",
     "evalue": "unsupported operand type(s) for +: 'int' and 'str'",
     "output_type": "error",
     "traceback": [
      "\u001b[31m---------------------------------------------------------------------------\u001b[39m",
      "\u001b[31mTypeError\u001b[39m                                 Traceback (most recent call last)",
      "\u001b[36mCell\u001b[39m\u001b[36m \u001b[39m\u001b[32mIn[1]\u001b[39m\u001b[32m, line 1\u001b[39m\n\u001b[32m----> \u001b[39m\u001b[32m1\u001b[39m \u001b[32;43m1\u001b[39;49m\u001b[43m \u001b[49m\u001b[43m+\u001b[49m\u001b[43m \u001b[49m\u001b[33;43m\"\u001b[39;49m\u001b[33;43m1\u001b[39;49m\u001b[33;43m\"\u001b[39;49m\n",
      "\u001b[31mTypeError\u001b[39m: unsupported operand type(s) for +: 'int' and 'str'"
     ]
    }
   ],
   "source": [
    "1 + \"1\""
   ]
  },
  {
   "cell_type": "code",
   "execution_count": 3,
   "id": "f2294796",
   "metadata": {},
   "outputs": [
    {
     "name": "stdout",
     "output_type": "stream",
     "text": [
      "1\n",
      "2\n",
      "3\n",
      "4\n"
     ]
    },
    {
     "ename": "ValueError",
     "evalue": "invalid literal for int() with base 10: 'hello'",
     "output_type": "error",
     "traceback": [
      "\u001b[31m---------------------------------------------------------------------------\u001b[39m",
      "\u001b[31mValueError\u001b[39m                                Traceback (most recent call last)",
      "\u001b[36mCell\u001b[39m\u001b[36m \u001b[39m\u001b[32mIn[3]\u001b[39m\u001b[32m, line 3\u001b[39m\n\u001b[32m      1\u001b[39m \u001b[38;5;28;01mfor\u001b[39;00m i \u001b[38;5;129;01min\u001b[39;00m \u001b[38;5;28mrange\u001b[39m(\u001b[32m5\u001b[39m):\n\u001b[32m      2\u001b[39m     a = \u001b[38;5;28minput\u001b[39m(\u001b[33m\"\u001b[39m\u001b[33mEnter a number\u001b[39m\u001b[33m\"\u001b[39m)\n\u001b[32m----> \u001b[39m\u001b[32m3\u001b[39m     a = \u001b[38;5;28;43mint\u001b[39;49m\u001b[43m(\u001b[49m\u001b[43ma\u001b[49m\u001b[43m)\u001b[49m\n\u001b[32m      4\u001b[39m     \u001b[38;5;28mprint\u001b[39m(a)\n\u001b[32m      6\u001b[39m \u001b[38;5;28mprint\u001b[39m(\u001b[33m\"\u001b[39m\u001b[33mhello - how are you.\u001b[39m\u001b[33m\"\u001b[39m)\n",
      "\u001b[31mValueError\u001b[39m: invalid literal for int() with base 10: 'hello'"
     ]
    }
   ],
   "source": [
    "for i in range(5):\n",
    "    a = input(\"Enter a number\")\n",
    "    a = int(a)\n",
    "    print(a)\n",
    "\n",
    "print(\"hello - how are you.\")"
   ]
  },
  {
   "cell_type": "code",
   "execution_count": 4,
   "id": "2affb040",
   "metadata": {},
   "outputs": [
    {
     "ename": "ZeroDivisionError",
     "evalue": "division by zero",
     "output_type": "error",
     "traceback": [
      "\u001b[31m---------------------------------------------------------------------------\u001b[39m",
      "\u001b[31mZeroDivisionError\u001b[39m                         Traceback (most recent call last)",
      "\u001b[36mCell\u001b[39m\u001b[36m \u001b[39m\u001b[32mIn[4]\u001b[39m\u001b[32m, line 1\u001b[39m\n\u001b[32m----> \u001b[39m\u001b[32m1\u001b[39m \u001b[32;43m1\u001b[39;49m\u001b[43m/\u001b[49m\u001b[32;43m0\u001b[39;49m\n",
      "\u001b[31mZeroDivisionError\u001b[39m: division by zero"
     ]
    }
   ],
   "source": [
    "1/0"
   ]
  },
  {
   "cell_type": "code",
   "execution_count": 75,
   "id": "1f09c4d9",
   "metadata": {},
   "outputs": [
    {
     "ename": "SyntaxError",
     "evalue": "'(' was never closed (799277466.py, line 1)",
     "output_type": "error",
     "traceback": [
      "  \u001b[36mCell\u001b[39m\u001b[36m \u001b[39m\u001b[32mIn[75]\u001b[39m\u001b[32m, line 1\u001b[39m\n\u001b[31m    \u001b[39m\u001b[31mint(1\u001b[39m\n       ^\n\u001b[31mSyntaxError\u001b[39m\u001b[31m:\u001b[39m '(' was never closed\n"
     ]
    }
   ],
   "source": [
    "int(1\n",
    "    \n",
    "print(\"hello\")"
   ]
  },
  {
   "cell_type": "markdown",
   "id": "6a811ae3",
   "metadata": {},
   "source": [
    "# Try-Except"
   ]
  },
  {
   "cell_type": "code",
   "execution_count": 9,
   "id": "1caec227",
   "metadata": {},
   "outputs": [
    {
     "name": "stdout",
     "output_type": "stream",
     "text": [
      "1\n",
      "2\n",
      "3\n",
      "4\n",
      "Issue with the program\n",
      "Hello world\n"
     ]
    }
   ],
   "source": [
    "try :\n",
    "    for i in range(5):\n",
    "        a = input(\"Enter a number\")\n",
    "        a = int(a)\n",
    "        print(a)\n",
    "except ValueError:\n",
    "    print(\"Issue with the program\")\n",
    "\n",
    "print(\"Hello world\")"
   ]
  },
  {
   "cell_type": "code",
   "execution_count": 16,
   "id": "2b7de052",
   "metadata": {},
   "outputs": [
    {
     "name": "stdout",
     "output_type": "stream",
     "text": [
      "0.29411764705882354\n",
      "Issue with the program\n",
      "Hello world\n"
     ]
    }
   ],
   "source": [
    "try :\n",
    "    a = input(\"Enter a value : \")\n",
    "    a = int(a)\n",
    "    b = input(\"Enter a value to convert: \")\n",
    "    print(10/a)\n",
    "    int(b)\n",
    "except (ValueError):\n",
    "    print(\"Issue with the program\")\n",
    "\n",
    "print(\"Hello world\")"
   ]
  },
  {
   "cell_type": "code",
   "execution_count": 22,
   "id": "8b87cc49",
   "metadata": {},
   "outputs": [
    {
     "name": "stdout",
     "output_type": "stream",
     "text": [
      "We have encountered error.\n",
      "Hello world\n"
     ]
    }
   ],
   "source": [
    "try : \n",
    "    a = 0\n",
    "    a = int(a)\n",
    "    b = \"abc\"\n",
    "    print(10/a)\n",
    "    int(b)\n",
    "except (ValueError, ZeroDivisionError):\n",
    "    print(\"We have encountered error.\")\n",
    "\n",
    "print(\"Hello world\")"
   ]
  },
  {
   "cell_type": "code",
   "execution_count": 23,
   "id": "4f5d5e8f",
   "metadata": {},
   "outputs": [
    {
     "ename": "ZeroDivisionError",
     "evalue": "division by zero",
     "output_type": "error",
     "traceback": [
      "\u001b[31m---------------------------------------------------------------------------\u001b[39m",
      "\u001b[31mZeroDivisionError\u001b[39m                         Traceback (most recent call last)",
      "\u001b[36mCell\u001b[39m\u001b[36m \u001b[39m\u001b[32mIn[23]\u001b[39m\u001b[32m, line 4\u001b[39m\n\u001b[32m      2\u001b[39m a = \u001b[38;5;28mint\u001b[39m(a)\n\u001b[32m      3\u001b[39m b = \u001b[33m\"\u001b[39m\u001b[33mabc\u001b[39m\u001b[33m\"\u001b[39m\n\u001b[32m----> \u001b[39m\u001b[32m4\u001b[39m \u001b[38;5;28mprint\u001b[39m(\u001b[32;43m10\u001b[39;49m\u001b[43m/\u001b[49m\u001b[43ma\u001b[49m)\n\u001b[32m      5\u001b[39m \u001b[38;5;28mint\u001b[39m(b)\n\u001b[32m      8\u001b[39m \u001b[38;5;28mprint\u001b[39m(\u001b[33m\"\u001b[39m\u001b[33mHello world\u001b[39m\u001b[33m\"\u001b[39m)\n",
      "\u001b[31mZeroDivisionError\u001b[39m: division by zero"
     ]
    }
   ],
   "source": [
    "\n",
    "a = 0\n",
    "a = int(a)\n",
    "b = \"abc\"\n",
    "print(10/a)\n",
    "int(b)\n",
    "\n",
    "\n",
    "print(\"Hello world\")"
   ]
  },
  {
   "cell_type": "code",
   "execution_count": null,
   "id": "685d522c",
   "metadata": {},
   "outputs": [
    {
     "name": "stdout",
     "output_type": "stream",
     "text": [
      "We have encountered error.\n",
      "Hello world\n"
     ]
    }
   ],
   "source": [
    "try : \n",
    "    a = 0\n",
    "    a = int(a)\n",
    "    b = \"abc\"\n",
    "    print(10/a)\n",
    "    int(b)\n",
    "# except (ValueError, ZeroDivisionError)\n",
    "except:\n",
    "    print(\"We have encountered error.\")\n",
    "\n",
    "print(\"Hello world\")"
   ]
  },
  {
   "cell_type": "code",
   "execution_count": 37,
   "id": "f7ca948d",
   "metadata": {},
   "outputs": [
    {
     "name": "stdout",
     "output_type": "stream",
     "text": [
      "We have encountered error :  division by zero\n",
      "Hello world\n",
      "Hello world\n",
      "Hello world\n",
      "Hello world\n"
     ]
    }
   ],
   "source": [
    "try : \n",
    "    a = 0\n",
    "    a = int(a)\n",
    "    b = \"1\"\n",
    "    print(10/a)\n",
    "    int(b)\n",
    "# except (ValueError, ZeroDivisionError)\n",
    "except Exception as e:\n",
    "    print(\"We have encountered error : \", e)\n",
    "\n",
    "print(\"Hello world\")\n",
    "print(\"Hello world\")\n",
    "print(\"Hello world\")\n",
    "print(\"Hello world\")"
   ]
  },
  {
   "cell_type": "code",
   "execution_count": 73,
   "id": "e89d5cf3",
   "metadata": {},
   "outputs": [],
   "source": [
    "import os as hello"
   ]
  },
  {
   "cell_type": "code",
   "execution_count": 29,
   "id": "69231d9e",
   "metadata": {},
   "outputs": [
    {
     "data": {
      "text/plain": [
       "['26-04-2025.ipynb']"
      ]
     },
     "execution_count": 29,
     "metadata": {},
     "output_type": "execute_result"
    }
   ],
   "source": [
    "hello.listdir()"
   ]
  },
  {
   "cell_type": "code",
   "execution_count": 74,
   "id": "b9bf66eb",
   "metadata": {},
   "outputs": [
    {
     "name": "stdout",
     "output_type": "stream",
     "text": [
      "User is trying to divide number by 0\n"
     ]
    }
   ],
   "source": [
    "try : \n",
    "    a = 0\n",
    "    a = int(a)\n",
    "    b = \"1\"\n",
    "    print(10/a)\n",
    "    int(b)\n",
    "except ValueError:\n",
    "    print(\"User is trying to convert alpha-character to integer\")\n",
    "except ZeroDivisionError:\n",
    "    print(\"User is trying to divide number by 0\")\n",
    "except Exception as e:\n",
    "    print(\"We have encountered error : \", e)"
   ]
  },
  {
   "cell_type": "code",
   "execution_count": 39,
   "id": "bab13128",
   "metadata": {},
   "outputs": [
    {
     "name": "stdout",
     "output_type": "stream",
     "text": [
      "We have encountered error :  division by zero\n"
     ]
    }
   ],
   "source": [
    "try : \n",
    "    a = 0\n",
    "    a = int(a)\n",
    "    b = \"1\"\n",
    "    print(10/a)\n",
    "    int(b)\n",
    "except Exception as e:\n",
    "    print(\"We have encountered error : \", e)"
   ]
  },
  {
   "cell_type": "code",
   "execution_count": 41,
   "id": "0862ff07",
   "metadata": {},
   "outputs": [
    {
     "name": "stdout",
     "output_type": "stream",
     "text": [
      "We have encountered error :  division by zero\n",
      "Input section executed successfully\n"
     ]
    }
   ],
   "source": [
    "# input by user\n",
    "try : \n",
    "    a = 0\n",
    "    a = int(a)\n",
    "    b = \"1\"\n",
    "    print(10/a)\n",
    "    int(b)\n",
    "except Exception as e:\n",
    "    print(\"We have encountered error : \", e)\n",
    "finally:\n",
    "    print(\"Input section executed successfully\")\n",
    "\n",
    "# calculate\n",
    "def add():\n",
    "    pass"
   ]
  },
  {
   "cell_type": "code",
   "execution_count": 43,
   "id": "87e27730",
   "metadata": {},
   "outputs": [
    {
     "name": "stdout",
     "output_type": "stream",
     "text": [
      "1.0\n",
      "No error encountered\n",
      "Input section executed successfully\n"
     ]
    }
   ],
   "source": [
    "try : \n",
    "    a = 10\n",
    "    a = int(a)\n",
    "    b = \"1\"\n",
    "    print(10/a)\n",
    "    int(b)\n",
    "except Exception as e:\n",
    "    print(\"We have encountered error : \", e)\n",
    "else :\n",
    "    print(\"No error encountered\")\n",
    "finally:\n",
    "    print(\"Input section executed successfully\")"
   ]
  },
  {
   "cell_type": "code",
   "execution_count": 46,
   "id": "d82f112a",
   "metadata": {},
   "outputs": [
    {
     "name": "stdout",
     "output_type": "stream",
     "text": [
      "division by zero\n",
      "Code executed successfully.\n"
     ]
    }
   ],
   "source": [
    "try : \n",
    "    a = input(\"Enter a value : \")\n",
    "    a = int(a)\n",
    "    a = 100/a\n",
    "except Exception as e:\n",
    "    print(e)\n",
    "else:\n",
    "    print(\"Result of operation is : \", a)\n",
    "finally:\n",
    "    print(\"Code executed successfully.\")"
   ]
  },
  {
   "cell_type": "code",
   "execution_count": null,
   "id": "b06041ec",
   "metadata": {},
   "outputs": [],
   "source": [
    "def take_input():\n",
    "    try : \n",
    "        a = input(\"Enter a value : \")\n",
    "        a = int(a)\n",
    "        a = 100/a\n",
    "    except Exception as e:\n",
    "        print(e)\n",
    "    else:\n",
    "        print(\"Result of operation is : \", a)\n",
    "    finally:\n",
    "        print(\"Code executed successfully.\")"
   ]
  },
  {
   "cell_type": "code",
   "execution_count": 48,
   "id": "493f7c59",
   "metadata": {},
   "outputs": [
    {
     "name": "stdout",
     "output_type": "stream",
     "text": [
      "Result of operation is :  8.333333333333334\n",
      "Code executed successfully.\n"
     ]
    }
   ],
   "source": [
    "take_input()"
   ]
  },
  {
   "cell_type": "code",
   "execution_count": 61,
   "id": "be042f9f",
   "metadata": {},
   "outputs": [],
   "source": [
    "def take_age(age):\n",
    "    try : \n",
    "        age_int = int(age)\n",
    "        if age_int<0 or age_int>100:\n",
    "            raise ValueError(\"Age is not in range, please try with a valid age\")\n",
    "        else:\n",
    "            print(age_int)\n",
    "    except Exception as e:\n",
    "        print(e)\n",
    "    finally:\n",
    "        print(\"Code executed successfully.\")"
   ]
  },
  {
   "cell_type": "code",
   "execution_count": 62,
   "id": "9efd31b7",
   "metadata": {},
   "outputs": [
    {
     "name": "stdout",
     "output_type": "stream",
     "text": [
      "Age is not in range, please try with a valid age\n",
      "Code executed successfully.\n"
     ]
    }
   ],
   "source": [
    "take_age(-1)"
   ]
  },
  {
   "cell_type": "code",
   "execution_count": 63,
   "id": "b2de386c",
   "metadata": {},
   "outputs": [
    {
     "name": "stdout",
     "output_type": "stream",
     "text": [
      "Age is not in range, please try with a valid age\n",
      "Code executed successfully.\n"
     ]
    }
   ],
   "source": [
    "take_age(200)"
   ]
  },
  {
   "cell_type": "code",
   "execution_count": 60,
   "id": "b303c4e8",
   "metadata": {},
   "outputs": [
    {
     "ename": "ValueError",
     "evalue": "invalid literal for int() with base 10: 'abc'",
     "output_type": "error",
     "traceback": [
      "\u001b[31m---------------------------------------------------------------------------\u001b[39m",
      "\u001b[31mValueError\u001b[39m                                Traceback (most recent call last)",
      "\u001b[36mCell\u001b[39m\u001b[36m \u001b[39m\u001b[32mIn[60]\u001b[39m\u001b[32m, line 1\u001b[39m\n\u001b[32m----> \u001b[39m\u001b[32m1\u001b[39m \u001b[38;5;28;43mint\u001b[39;49m\u001b[43m(\u001b[49m\u001b[33;43m\"\u001b[39;49m\u001b[33;43mabc\u001b[39;49m\u001b[33;43m\"\u001b[39;49m\u001b[43m)\u001b[49m\n",
      "\u001b[31mValueError\u001b[39m: invalid literal for int() with base 10: 'abc'"
     ]
    }
   ],
   "source": [
    "int(\"abc\")"
   ]
  },
  {
   "cell_type": "code",
   "execution_count": null,
   "id": "53f78f39",
   "metadata": {},
   "outputs": [],
   "source": [
    "# leave(2, 26-26) > raise ValueError"
   ]
  },
  {
   "cell_type": "code",
   "execution_count": 69,
   "id": "a4def03c",
   "metadata": {},
   "outputs": [],
   "source": [
    "# break, continue, change the flow of the loop"
   ]
  },
  {
   "cell_type": "code",
   "execution_count": 70,
   "id": "70db694f",
   "metadata": {},
   "outputs": [],
   "source": [
    "def take_age(age):\n",
    "    age_int = int(age)\n",
    "    if age_int<0 or age_int>100:\n",
    "        # raise ValueError(\"Age is not in range, please try with a valid age\")\n",
    "        raise ValueError(\"Error\")\n",
    "    else:\n",
    "        print(age_int)\n",
    "   "
   ]
  },
  {
   "cell_type": "code",
   "execution_count": 72,
   "id": "cb06527f",
   "metadata": {},
   "outputs": [
    {
     "ename": "ValueError",
     "evalue": "Error",
     "output_type": "error",
     "traceback": [
      "\u001b[31m---------------------------------------------------------------------------\u001b[39m",
      "\u001b[31mValueError\u001b[39m                                Traceback (most recent call last)",
      "\u001b[36mCell\u001b[39m\u001b[36m \u001b[39m\u001b[32mIn[72]\u001b[39m\u001b[32m, line 1\u001b[39m\n\u001b[32m----> \u001b[39m\u001b[32m1\u001b[39m \u001b[43mtake_age\u001b[49m\u001b[43m(\u001b[49m\u001b[43m-\u001b[49m\u001b[32;43m1\u001b[39;49m\u001b[43m)\u001b[49m\n",
      "\u001b[36mCell\u001b[39m\u001b[36m \u001b[39m\u001b[32mIn[70]\u001b[39m\u001b[32m, line 5\u001b[39m, in \u001b[36mtake_age\u001b[39m\u001b[34m(age)\u001b[39m\n\u001b[32m      2\u001b[39m age_int = \u001b[38;5;28mint\u001b[39m(age)\n\u001b[32m      3\u001b[39m \u001b[38;5;28;01mif\u001b[39;00m age_int<\u001b[32m0\u001b[39m \u001b[38;5;129;01mor\u001b[39;00m age_int>\u001b[32m100\u001b[39m:\n\u001b[32m      4\u001b[39m     \u001b[38;5;66;03m# raise ValueError(\"Age is not in range, please try with a valid age\")\u001b[39;00m\n\u001b[32m----> \u001b[39m\u001b[32m5\u001b[39m     \u001b[38;5;28;01mraise\u001b[39;00m \u001b[38;5;167;01mValueError\u001b[39;00m(\u001b[33m\"\u001b[39m\u001b[33mError\u001b[39m\u001b[33m\"\u001b[39m)\n\u001b[32m      6\u001b[39m \u001b[38;5;28;01melse\u001b[39;00m:\n\u001b[32m      7\u001b[39m     \u001b[38;5;28mprint\u001b[39m(age_int)\n",
      "\u001b[31mValueError\u001b[39m: Error"
     ]
    }
   ],
   "source": [
    "take_age(-1)"
   ]
  },
  {
   "cell_type": "markdown",
   "id": "f4b1b4e4",
   "metadata": {},
   "source": [
    "# OOPs"
   ]
  },
  {
   "cell_type": "code",
   "execution_count": 3,
   "id": "d9677961",
   "metadata": {},
   "outputs": [
    {
     "name": "stdout",
     "output_type": "stream",
     "text": [
      "<class 'int'>\n"
     ]
    }
   ],
   "source": [
    "print(type(1))"
   ]
  },
  {
   "cell_type": "code",
   "execution_count": null,
   "id": "64b8ea83",
   "metadata": {},
   "outputs": [],
   "source": []
  }
 ],
 "metadata": {
  "kernelspec": {
   "display_name": "base",
   "language": "python",
   "name": "python3"
  },
  "language_info": {
   "codemirror_mode": {
    "name": "ipython",
    "version": 3
   },
   "file_extension": ".py",
   "mimetype": "text/x-python",
   "name": "python",
   "nbconvert_exporter": "python",
   "pygments_lexer": "ipython3",
   "version": "3.12.3"
  }
 },
 "nbformat": 4,
 "nbformat_minor": 5
}
