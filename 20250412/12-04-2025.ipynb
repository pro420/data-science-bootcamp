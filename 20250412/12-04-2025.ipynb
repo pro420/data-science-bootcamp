{
 "cells": [
  {
   "cell_type": "code",
   "execution_count": 1,
   "id": "8fae5f7f",
   "metadata": {},
   "outputs": [
    {
     "name": "stdout",
     "output_type": "stream",
     "text": [
      "['monal', 'india', 9406456789]\n",
      "<class 'str'>\n"
     ]
    }
   ],
   "source": [
    "info = input(\"Enter user detail : \")\n",
    "print(info)\n",
    "print(type(info))"
   ]
  },
  {
   "cell_type": "code",
   "execution_count": 2,
   "id": "acf83651",
   "metadata": {},
   "outputs": [
    {
     "name": "stdout",
     "output_type": "stream",
     "text": [
      "['[', \"'\", 'm', 'o', 'n', 'a', 'l', \"'\", ',', ' ', \"'\", 'i', 'n', 'd', 'i', 'a', \"'\", ',', ' ', '9', '4', '0', '6', '4', '5', '6', '7', '8', '9', ']']\n",
      "<class 'list'>\n"
     ]
    }
   ],
   "source": [
    "info = list(input(\"Enter user detail : \"))\n",
    "print(info)\n",
    "print(type(info))"
   ]
  },
  {
   "cell_type": "code",
   "execution_count": 3,
   "id": "0a115347",
   "metadata": {},
   "outputs": [],
   "source": [
    "import ast"
   ]
  },
  {
   "cell_type": "code",
   "execution_count": 6,
   "id": "1a2db04f",
   "metadata": {},
   "outputs": [
    {
     "name": "stdout",
     "output_type": "stream",
     "text": [
      "['monal', 'india', 9406456789]\n",
      "<class 'str'>\n",
      "['monal', 'india', 9406456789]\n",
      "<class 'list'>\n"
     ]
    }
   ],
   "source": [
    "info = input(\"Enter user detail : \")\n",
    "print(info)\n",
    "print(type(info))\n",
    "info = ast.literal_eval(info)\n",
    "print(info)\n",
    "print(type(info))"
   ]
  },
  {
   "cell_type": "code",
   "execution_count": 7,
   "id": "cc9ed5e6",
   "metadata": {},
   "outputs": [
    {
     "name": "stdout",
     "output_type": "stream",
     "text": [
      "['monal', 'india', 9406456789]\n",
      "<class 'list'>\n"
     ]
    }
   ],
   "source": [
    "info = \"['monal', 'india', 9406456789]\"\n",
    "info = ast.literal_eval(info)\n",
    "print(info)\n",
    "print(type(info))"
   ]
  },
  {
   "cell_type": "code",
   "execution_count": 11,
   "id": "d47b8fbc",
   "metadata": {},
   "outputs": [
    {
     "name": "stdout",
     "output_type": "stream",
     "text": [
      "2.6756\n",
      "<class 'float'>\n"
     ]
    },
    {
     "data": {
      "text/plain": [
       "4.6756"
      ]
     },
     "execution_count": 11,
     "metadata": {},
     "output_type": "execute_result"
    }
   ],
   "source": [
    "a = \"2.6756\"\n",
    "a = ast.literal_eval(a)\n",
    "print(a)\n",
    "print(type(a))\n",
    "a+2"
   ]
  },
  {
   "cell_type": "code",
   "execution_count": null,
   "id": "b8e90b3f",
   "metadata": {},
   "outputs": [],
   "source": [
    "a = \"2\"\n",
    "a = int(a)"
   ]
  },
  {
   "cell_type": "code",
   "execution_count": null,
   "id": "7f66683a",
   "metadata": {},
   "outputs": [],
   "source": [
    "a = \"[2]\"\n",
    "a = ast.literal_eval(a)\n",
    "print(a)"
   ]
  },
  {
   "cell_type": "code",
   "execution_count": 12,
   "id": "e7cf6719",
   "metadata": {},
   "outputs": [],
   "source": [
    "a = 3"
   ]
  },
  {
   "cell_type": "code",
   "execution_count": 13,
   "id": "8ee0e010",
   "metadata": {},
   "outputs": [
    {
     "name": "stdout",
     "output_type": "stream",
     "text": [
      "3\n"
     ]
    }
   ],
   "source": [
    "print(a)"
   ]
  },
  {
   "cell_type": "code",
   "execution_count": 15,
   "id": "d5417b8d",
   "metadata": {},
   "outputs": [
    {
     "data": {
      "text/plain": [
       "'0x7ffc78a759f8'"
      ]
     },
     "execution_count": 15,
     "metadata": {},
     "output_type": "execute_result"
    }
   ],
   "source": [
    "hex(id(a))"
   ]
  },
  {
   "cell_type": "code",
   "execution_count": 16,
   "id": "4d59648c",
   "metadata": {},
   "outputs": [
    {
     "data": {
      "text/plain": [
       "'0x7ffc78a759f8'"
      ]
     },
     "execution_count": 16,
     "metadata": {},
     "output_type": "execute_result"
    }
   ],
   "source": [
    "a = 3\n",
    "hex(id(a))"
   ]
  },
  {
   "cell_type": "code",
   "execution_count": 17,
   "id": "aeee6b6a",
   "metadata": {},
   "outputs": [
    {
     "data": {
      "text/plain": [
       "'0x7ffc78a75a18'"
      ]
     },
     "execution_count": 17,
     "metadata": {},
     "output_type": "execute_result"
    }
   ],
   "source": [
    "a = a+1\n",
    "hex(id(a))"
   ]
  },
  {
   "cell_type": "code",
   "execution_count": 18,
   "id": "6c7cde55",
   "metadata": {},
   "outputs": [
    {
     "data": {
      "text/plain": [
       "'0x2ae3a47df40'"
      ]
     },
     "execution_count": 18,
     "metadata": {},
     "output_type": "execute_result"
    }
   ],
   "source": [
    "a = [1,2]\n",
    "hex(id(a))"
   ]
  },
  {
   "cell_type": "code",
   "execution_count": 19,
   "id": "009c3ce8",
   "metadata": {},
   "outputs": [
    {
     "data": {
      "text/plain": [
       "'0x2ae3a47df40'"
      ]
     },
     "execution_count": 19,
     "metadata": {},
     "output_type": "execute_result"
    }
   ],
   "source": [
    "a.append(3)\n",
    "hex(id(a))"
   ]
  },
  {
   "cell_type": "code",
   "execution_count": 20,
   "id": "13bfeb75",
   "metadata": {},
   "outputs": [
    {
     "name": "stdout",
     "output_type": "stream",
     "text": [
      "[1, 2, 3]\n"
     ]
    }
   ],
   "source": [
    "print(a)"
   ]
  },
  {
   "cell_type": "code",
   "execution_count": 21,
   "id": "b54113b9",
   "metadata": {},
   "outputs": [
    {
     "name": "stdout",
     "output_type": "stream",
     "text": [
      "['hello', 'name', 'id']\n"
     ]
    }
   ],
   "source": [
    "a = [\"bio\", \"name\", \"id\"]\n",
    "a[0] = \"hello\"\n",
    "print(a)"
   ]
  },
  {
   "cell_type": "code",
   "execution_count": 26,
   "id": "c08c9730",
   "metadata": {},
   "outputs": [
    {
     "data": {
      "text/plain": [
       "'0x2ae3a514ef0'"
      ]
     },
     "execution_count": 26,
     "metadata": {},
     "output_type": "execute_result"
    }
   ],
   "source": [
    "a = (\"bio\", \"name\", \"id\", [1,2])\n",
    "# a[0] = \"hello\"\n",
    "type(a)\n",
    "hex(id(a))"
   ]
  },
  {
   "cell_type": "code",
   "execution_count": 29,
   "id": "3081934a",
   "metadata": {},
   "outputs": [
    {
     "data": {
      "text/plain": [
       "'0x2ae3a514fe0'"
      ]
     },
     "execution_count": 29,
     "metadata": {},
     "output_type": "execute_result"
    }
   ],
   "source": [
    "a = (\"bio\", \"name\", \"id\", [1,2], \"hello\")\n",
    "type(a)\n",
    "hex(id(a))"
   ]
  },
  {
   "cell_type": "code",
   "execution_count": 28,
   "id": "bd3258bd",
   "metadata": {},
   "outputs": [
    {
     "name": "stdout",
     "output_type": "stream",
     "text": [
      "['bio', 'name', 'id', [1, 2]]\n",
      "<class 'list'>\n"
     ]
    },
    {
     "data": {
      "text/plain": [
       "'0x2ae3a520280'"
      ]
     },
     "execution_count": 28,
     "metadata": {},
     "output_type": "execute_result"
    }
   ],
   "source": [
    "b = list(a)\n",
    "print(b)\n",
    "print(type(b))\n",
    "hex(id(b))"
   ]
  },
  {
   "cell_type": "code",
   "execution_count": 32,
   "id": "8deeacee",
   "metadata": {},
   "outputs": [
    {
     "name": "stdout",
     "output_type": "stream",
     "text": [
      "[2, 1, 3, 5, 6]\n",
      "[2, 1, 3, 5, 6, 10]\n"
     ]
    }
   ],
   "source": [
    "# Ordered\n",
    "a = [2,1,3,5,6]\n",
    "print(a)\n",
    "a.append(10)\n",
    "print(a)"
   ]
  },
  {
   "cell_type": "code",
   "execution_count": 40,
   "id": "558dabf4",
   "metadata": {},
   "outputs": [
    {
     "name": "stdout",
     "output_type": "stream",
     "text": [
      "{0, 'add', 2, 3, 1, 5, 6}\n"
     ]
    }
   ],
   "source": [
    "# Un-Ordered (Sets)\n",
    "a = {2,1,3,5,6,2,2,2,2, \"add\"}\n",
    "a.add(0)\n",
    "print(a)"
   ]
  },
  {
   "cell_type": "markdown",
   "id": "24eb1003",
   "metadata": {},
   "source": [
    "# More funcitons of list and set"
   ]
  },
  {
   "cell_type": "code",
   "execution_count": 49,
   "id": "a22bdc6c",
   "metadata": {},
   "outputs": [
    {
     "name": "stdout",
     "output_type": "stream",
     "text": [
      "[0, 1, 2, 3, 33, 453, 'add', 445455]\n"
     ]
    }
   ],
   "source": [
    "# This code will remoce duplicate from list using set\n",
    "\n",
    "a = [1,2,3,445455,33,33,33,453,0,0,0,0, \"add\"]\n",
    "\n",
    "# method 1\n",
    "a = set(a)\n",
    "a = list(a)\n",
    "\n",
    "# method 2\n",
    "a = list(set(a))\n",
    "\n",
    "print(a)"
   ]
  },
  {
   "cell_type": "code",
   "execution_count": 51,
   "id": "5b4925ee",
   "metadata": {},
   "outputs": [
    {
     "name": "stdout",
     "output_type": "stream",
     "text": [
      "2947319267136\n",
      "[1, 2, 3, 'hello', 'hi']\n",
      "2947325273600\n"
     ]
    }
   ],
   "source": [
    "# extend (List)\n",
    "\n",
    "a = [1,2,3]\n",
    "print(id(a))\n",
    "b = [\"hello\", \"hi\"]\n",
    "a = a + b\n",
    "print(a)\n",
    "print(id(a))"
   ]
  },
  {
   "cell_type": "code",
   "execution_count": 52,
   "id": "7d88b5c1",
   "metadata": {},
   "outputs": [
    {
     "data": {
      "text/plain": [
       "'hihello'"
      ]
     },
     "execution_count": 52,
     "metadata": {},
     "output_type": "execute_result"
    }
   ],
   "source": [
    "\"hi\" + \"hello\""
   ]
  },
  {
   "cell_type": "code",
   "execution_count": 53,
   "id": "73e1f8d5",
   "metadata": {},
   "outputs": [
    {
     "data": {
      "text/plain": [
       "3"
      ]
     },
     "execution_count": 53,
     "metadata": {},
     "output_type": "execute_result"
    }
   ],
   "source": [
    "1 + 2"
   ]
  },
  {
   "cell_type": "code",
   "execution_count": 54,
   "id": "60c83455",
   "metadata": {},
   "outputs": [
    {
     "data": {
      "text/plain": [
       "['hello', 'hi', 1, 2, 3]"
      ]
     },
     "execution_count": 54,
     "metadata": {},
     "output_type": "execute_result"
    }
   ],
   "source": [
    "[\"hello\", \"hi\"] + [1,2,3]"
   ]
  },
  {
   "cell_type": "code",
   "execution_count": 56,
   "id": "8b3e55e7",
   "metadata": {},
   "outputs": [
    {
     "name": "stdout",
     "output_type": "stream",
     "text": [
      "2947320030400\n",
      "[1, 2, 3, ['hello', 'hi']]\n",
      "2947320030400\n"
     ]
    }
   ],
   "source": [
    "# wrong\n",
    "a = [1,2,3]\n",
    "print(id(a))\n",
    "b = [\"hello\", \"hi\"]\n",
    "a.append(b)\n",
    "print(a)\n",
    "print(id(a))"
   ]
  },
  {
   "cell_type": "code",
   "execution_count": 58,
   "id": "886fa583",
   "metadata": {},
   "outputs": [
    {
     "name": "stdout",
     "output_type": "stream",
     "text": [
      "2947325567744\n",
      "2947325567744\n",
      "[1, 2, 3, 'hello', 'hi']\n"
     ]
    }
   ],
   "source": [
    "a = [1,2,3]\n",
    "b = [\"hello\", \"hi\"]\n",
    "print(id(a))\n",
    "a.extend(b)\n",
    "print(id(a))\n",
    "print(a)"
   ]
  },
  {
   "cell_type": "code",
   "execution_count": 60,
   "id": "8fb8520c",
   "metadata": {},
   "outputs": [
    {
     "name": "stdout",
     "output_type": "stream",
     "text": [
      "2947325367840\n",
      "2947325367840\n",
      "{1, 2, 3, 'hi', 'hello'}\n"
     ]
    }
   ],
   "source": [
    "a = {1,2,3}\n",
    "b = {\"hello\", \"hi\"}\n",
    "print(id(a))\n",
    "a.update(b)\n",
    "print(id(a))\n",
    "print(a)"
   ]
  },
  {
   "cell_type": "code",
   "execution_count": 61,
   "id": "ef511a2e",
   "metadata": {},
   "outputs": [],
   "source": [
    "a = {1.1 : 0}"
   ]
  },
  {
   "cell_type": "code",
   "execution_count": 71,
   "id": "ab535be0",
   "metadata": {},
   "outputs": [],
   "source": [
    "# Task is to store employee details\n",
    "\n",
    "# lets store employee details using their id\n",
    "\n",
    "emp_details = {\n",
    "               1 : [\"monal\", \"india\"], \n",
    "               2 : [\"lucas\", \"brazil\"],\n",
    "               3 : [\"ashar\", \"Saudi arabia\", 2],\n",
    "               4 : [\"riyan\", \"india\"]\n",
    "               }"
   ]
  },
  {
   "cell_type": "code",
   "execution_count": 76,
   "id": "c4c88714",
   "metadata": {},
   "outputs": [],
   "source": [
    "emp_details[4] = [\"riyan\", \"india\"]"
   ]
  },
  {
   "cell_type": "code",
   "execution_count": 77,
   "id": "7b9723ad",
   "metadata": {},
   "outputs": [
    {
     "name": "stdout",
     "output_type": "stream",
     "text": [
      "{1: ['monal', 'india'], 2: ['lucas', 'brazil'], 3: ['ashar', 'Saudi arabia', 2], 4: ['riyan', 'india']}\n"
     ]
    }
   ],
   "source": [
    "print(emp_details)"
   ]
  },
  {
   "cell_type": "code",
   "execution_count": 78,
   "id": "b7b4c5a9",
   "metadata": {},
   "outputs": [
    {
     "data": {
      "text/plain": [
       "'riyan'"
      ]
     },
     "execution_count": 78,
     "metadata": {},
     "output_type": "execute_result"
    }
   ],
   "source": [
    "emp_details[4][0]"
   ]
  },
  {
   "cell_type": "code",
   "execution_count": 79,
   "id": "05f0abc2",
   "metadata": {},
   "outputs": [],
   "source": [
    "emp_details[4][0] = \"Riyan\""
   ]
  },
  {
   "cell_type": "code",
   "execution_count": 80,
   "id": "516cc060",
   "metadata": {},
   "outputs": [
    {
     "data": {
      "text/plain": [
       "{1: ['monal', 'india'],\n",
       " 2: ['lucas', 'brazil'],\n",
       " 3: ['ashar', 'Saudi arabia', 2],\n",
       " 4: ['Riyan', 'india']}"
      ]
     },
     "execution_count": 80,
     "metadata": {},
     "output_type": "execute_result"
    }
   ],
   "source": [
    "emp_details"
   ]
  },
  {
   "cell_type": "code",
   "execution_count": 90,
   "id": "584e3942",
   "metadata": {},
   "outputs": [],
   "source": [
    "emp_details = {\n",
    "            \"001\" : {\n",
    "                \"name\" : \"monal\",\n",
    "                \"ph.no\" : 1234567890,\n",
    "                \"address\" : \"india\",\n",
    "                \"mentor_details\" : {\n",
    "                    \"begineer_courses\" : [\"Data science and genai\"],\n",
    "                    \"advance_course\" : [\"Computer vision\"]\n",
    "                }\n",
    "            },\n",
    "            \"002\" : {\n",
    "                \"name\" : \"krish\",\n",
    "                \"ph.no\" : 1234567890,\n",
    "                \"address\" : \"india\",\n",
    "                \"mentor_details\" : {\n",
    "                    \"begineer_courses\" : [\"everything\"],\n",
    "                    \"advance_course\" : [\"everything\"]\n",
    "                }\n",
    "            },\n",
    "            \"003\" : {\n",
    "                \"name\" : \"mayank\",\n",
    "                \"ph.no\" : 1234567890,\n",
    "                \"address\" : \"india\",\n",
    "                \"mentor_details\" : {\n",
    "                    \"begineer_courses\" : [\"data science\"],\n",
    "                    \"advance_course\" : [\"data engineering\"]\n",
    "                },\n",
    "                \"dummy\" : (\"M\", \"T\", \"W\")\n",
    "            }\n",
    "    }"
   ]
  },
  {
   "cell_type": "code",
   "execution_count": 89,
   "id": "17b067de",
   "metadata": {},
   "outputs": [
    {
     "data": {
      "text/plain": [
       "['everything']"
      ]
     },
     "execution_count": 89,
     "metadata": {},
     "output_type": "execute_result"
    }
   ],
   "source": [
    "emp_details[\"002\"][\"mentor_details\"][\"advance_course\"]"
   ]
  },
  {
   "cell_type": "code",
   "execution_count": 94,
   "id": "04bdac67",
   "metadata": {},
   "outputs": [
    {
     "ename": "KeyError",
     "evalue": "'dummy'",
     "output_type": "error",
     "traceback": [
      "\u001b[31m---------------------------------------------------------------------------\u001b[39m",
      "\u001b[31mKeyError\u001b[39m                                  Traceback (most recent call last)",
      "\u001b[36mCell\u001b[39m\u001b[36m \u001b[39m\u001b[32mIn[94]\u001b[39m\u001b[32m, line 1\u001b[39m\n\u001b[32m----> \u001b[39m\u001b[32m1\u001b[39m \u001b[43memp_details\u001b[49m\u001b[43m[\u001b[49m\u001b[33;43m\"\u001b[39;49m\u001b[33;43m001\u001b[39;49m\u001b[33;43m\"\u001b[39;49m\u001b[43m]\u001b[49m\u001b[43m[\u001b[49m\u001b[33;43m\"\u001b[39;49m\u001b[33;43mdummy\u001b[39;49m\u001b[33;43m\"\u001b[39;49m\u001b[43m]\u001b[49m\n",
      "\u001b[31mKeyError\u001b[39m: 'dummy'"
     ]
    }
   ],
   "source": [
    "emp_details[\"001\"][\"dummy\"]"
   ]
  },
  {
   "cell_type": "code",
   "execution_count": 95,
   "id": "56118e50",
   "metadata": {},
   "outputs": [],
   "source": [
    "emp_details = {\n",
    "            \"001\" : [1,2,3]\n",
    "}"
   ]
  },
  {
   "cell_type": "code",
   "execution_count": 96,
   "id": "96f19a31",
   "metadata": {},
   "outputs": [
    {
     "name": "stdout",
     "output_type": "stream",
     "text": [
      "{'001': [1, 2, 3]}\n"
     ]
    }
   ],
   "source": [
    "print(emp_details)"
   ]
  },
  {
   "cell_type": "code",
   "execution_count": 97,
   "id": "bf4583e2",
   "metadata": {},
   "outputs": [],
   "source": [
    "emp_details[\"003\"] = []"
   ]
  },
  {
   "cell_type": "code",
   "execution_count": 98,
   "id": "fbd5e4c8",
   "metadata": {},
   "outputs": [
    {
     "name": "stdout",
     "output_type": "stream",
     "text": [
      "{'001': [1, 2, 3], '003': []}\n"
     ]
    }
   ],
   "source": [
    "print(emp_details)"
   ]
  },
  {
   "cell_type": "code",
   "execution_count": 99,
   "id": "96b6dac9",
   "metadata": {},
   "outputs": [],
   "source": [
    "emp_details[\"003\"] = [1,2,3,4,5]"
   ]
  },
  {
   "cell_type": "code",
   "execution_count": 100,
   "id": "58ba6e0d",
   "metadata": {},
   "outputs": [
    {
     "name": "stdout",
     "output_type": "stream",
     "text": [
      "{'001': [1, 2, 3], '003': [1, 2, 3, 4, 5]}\n"
     ]
    }
   ],
   "source": [
    "print(emp_details)"
   ]
  },
  {
   "cell_type": "code",
   "execution_count": 105,
   "id": "420be1e4",
   "metadata": {},
   "outputs": [
    {
     "data": {
      "text/plain": [
       "dict_keys(['001', '003'])"
      ]
     },
     "execution_count": 105,
     "metadata": {},
     "output_type": "execute_result"
    }
   ],
   "source": [
    "emp_details.keys()"
   ]
  },
  {
   "cell_type": "code",
   "execution_count": 106,
   "id": "342ace1a",
   "metadata": {},
   "outputs": [
    {
     "data": {
      "text/plain": [
       "dict_keys"
      ]
     },
     "execution_count": 106,
     "metadata": {},
     "output_type": "execute_result"
    }
   ],
   "source": [
    "type(emp_details.keys())"
   ]
  },
  {
   "cell_type": "code",
   "execution_count": 107,
   "id": "f535c5fd",
   "metadata": {},
   "outputs": [
    {
     "data": {
      "text/plain": [
       "['001', '003']"
      ]
     },
     "execution_count": 107,
     "metadata": {},
     "output_type": "execute_result"
    }
   ],
   "source": [
    "list(emp_details.keys())"
   ]
  },
  {
   "cell_type": "code",
   "execution_count": 104,
   "id": "4c8ca877",
   "metadata": {},
   "outputs": [
    {
     "data": {
      "text/plain": [
       "dict_values([[1, 2, 3], [1, 2, 3, 4, 5]])"
      ]
     },
     "execution_count": 104,
     "metadata": {},
     "output_type": "execute_result"
    }
   ],
   "source": [
    "emp_details.values()"
   ]
  },
  {
   "cell_type": "markdown",
   "id": "fb8a7659",
   "metadata": {},
   "source": [
    "# Loops"
   ]
  },
  {
   "cell_type": "code",
   "execution_count": 108,
   "id": "05451b0a",
   "metadata": {},
   "outputs": [
    {
     "data": {
      "text/plain": [
       "2"
      ]
     },
     "execution_count": 108,
     "metadata": {},
     "output_type": "execute_result"
    }
   ],
   "source": [
    "2*1"
   ]
  },
  {
   "cell_type": "code",
   "execution_count": 109,
   "id": "e7605322",
   "metadata": {},
   "outputs": [
    {
     "data": {
      "text/plain": [
       "4"
      ]
     },
     "execution_count": 109,
     "metadata": {},
     "output_type": "execute_result"
    }
   ],
   "source": [
    "2*2"
   ]
  },
  {
   "cell_type": "code",
   "execution_count": 110,
   "id": "7f9a43f1",
   "metadata": {},
   "outputs": [
    {
     "data": {
      "text/plain": [
       "6"
      ]
     },
     "execution_count": 110,
     "metadata": {},
     "output_type": "execute_result"
    }
   ],
   "source": [
    "2*3"
   ]
  },
  {
   "cell_type": "markdown",
   "id": "a97f6ccd",
   "metadata": {},
   "source": [
    "# List demo Only"
   ]
  },
  {
   "cell_type": "code",
   "execution_count": 117,
   "id": "36ee7709",
   "metadata": {},
   "outputs": [
    {
     "name": "stdout",
     "output_type": "stream",
     "text": [
      "2 X 1 = 2\n",
      "2 X 2 = 4\n",
      "2 X 3 = 6\n",
      "2 X 4 = 8\n",
      "2 X 5 = 10\n",
      "2 X 6 = 12\n",
      "2 X 7 = 14\n",
      "2 X 8 = 16\n",
      "2 X 9 = 18\n",
      "2 X 10 = 20\n",
      "2 X 11 = 22\n",
      "2 X 12 = 24\n",
      "2 X 13 = 26\n",
      "2 X 14 = 28\n",
      "2 X 15 = 30\n",
      "2 X 16 = 32\n",
      "2 X 17 = 34\n",
      "2 X 18 = 36\n",
      "2 X 19 = 38\n",
      "2 X 20 = 40\n",
      "2 X 21 = 42\n",
      "2 X 22 = 44\n",
      "2 X 23 = 46\n",
      "2 X 24 = 48\n",
      "2 X 25 = 50\n",
      "2 X 26 = 52\n",
      "2 X 27 = 54\n",
      "2 X 28 = 56\n",
      "2 X 29 = 58\n",
      "2 X 30 = 60\n",
      "2 X 31 = 62\n",
      "2 X 32 = 64\n",
      "2 X 33 = 66\n",
      "2 X 34 = 68\n",
      "2 X 35 = 70\n",
      "2 X 36 = 72\n",
      "2 X 37 = 74\n",
      "2 X 38 = 76\n",
      "2 X 39 = 78\n",
      "2 X 40 = 80\n",
      "2 X 41 = 82\n",
      "2 X 42 = 84\n",
      "2 X 43 = 86\n",
      "2 X 44 = 88\n",
      "2 X 45 = 90\n",
      "2 X 46 = 92\n",
      "2 X 47 = 94\n",
      "2 X 48 = 96\n",
      "2 X 49 = 98\n",
      "2 X 50 = 100\n",
      "2 X 51 = 102\n",
      "2 X 52 = 104\n",
      "2 X 53 = 106\n",
      "2 X 54 = 108\n",
      "2 X 55 = 110\n",
      "2 X 56 = 112\n",
      "2 X 57 = 114\n",
      "2 X 58 = 116\n",
      "2 X 59 = 118\n",
      "2 X 60 = 120\n",
      "2 X 61 = 122\n",
      "2 X 62 = 124\n",
      "2 X 63 = 126\n",
      "2 X 64 = 128\n",
      "2 X 65 = 130\n",
      "2 X 66 = 132\n",
      "2 X 67 = 134\n",
      "2 X 68 = 136\n",
      "2 X 69 = 138\n",
      "2 X 70 = 140\n",
      "2 X 71 = 142\n",
      "2 X 72 = 144\n",
      "2 X 73 = 146\n",
      "2 X 74 = 148\n",
      "2 X 75 = 150\n",
      "2 X 76 = 152\n",
      "2 X 77 = 154\n",
      "2 X 78 = 156\n",
      "2 X 79 = 158\n",
      "2 X 80 = 160\n",
      "2 X 81 = 162\n",
      "2 X 82 = 164\n",
      "2 X 83 = 166\n",
      "2 X 84 = 168\n",
      "2 X 85 = 170\n",
      "2 X 86 = 172\n",
      "2 X 87 = 174\n",
      "2 X 88 = 176\n",
      "2 X 89 = 178\n",
      "2 X 90 = 180\n",
      "2 X 91 = 182\n",
      "2 X 92 = 184\n",
      "2 X 93 = 186\n",
      "2 X 94 = 188\n",
      "2 X 95 = 190\n",
      "2 X 96 = 192\n",
      "2 X 97 = 194\n",
      "2 X 98 = 196\n",
      "2 X 99 = 198\n"
     ]
    }
   ],
   "source": [
    "for i in range(1,100):\n",
    "    print(\"2\", \"X\", i, \"=\", 2*i)"
   ]
  },
  {
   "cell_type": "code",
   "execution_count": null,
   "id": "92af5b2e",
   "metadata": {},
   "outputs": [],
   "source": []
  }
 ],
 "metadata": {
  "kernelspec": {
   "display_name": "base",
   "language": "python",
   "name": "python3"
  },
  "language_info": {
   "codemirror_mode": {
    "name": "ipython",
    "version": 3
   },
   "file_extension": ".py",
   "mimetype": "text/x-python",
   "name": "python",
   "nbconvert_exporter": "python",
   "pygments_lexer": "ipython3",
   "version": "3.12.3"
  }
 },
 "nbformat": 4,
 "nbformat_minor": 5
}
