{
 "cells": [
  {
   "cell_type": "markdown",
   "id": "80ab6580",
   "metadata": {},
   "source": [
    "![assignment](./assignment.jpg)"
   ]
  },
  {
   "cell_type": "code",
   "execution_count": null,
   "id": "66a9c306",
   "metadata": {},
   "outputs": [
    {
     "name": "stdout",
     "output_type": "stream",
     "text": [
      "Go home.\n"
     ]
    }
   ],
   "source": [
    "money = int(input(\"Enter the current balance : \"))\n",
    "time = int(input(\"Enter time(24hrs format) : \"))\n",
    "\n",
    "if money >= 200:\n",
    "    if time < 19:\n",
    "        print(\"go to theme park\")\n",
    "    else : \n",
    "        print(\"Go home.\")\n",
    "else :\n",
    "    if time > 19:\n",
    "        print(\"go to icecream parlour.\")\n",
    "    else :\n",
    "        print(\"Go to beach\")"
   ]
  },
  {
   "cell_type": "code",
   "execution_count": null,
   "id": "e77d9af9",
   "metadata": {},
   "outputs": [],
   "source": [
    "# condition1 = \"fruit\"\n",
    "# condition2 = \"apple\""
   ]
  },
  {
   "cell_type": "markdown",
   "id": "d81a98e4",
   "metadata": {},
   "source": [
    "### Not recommended"
   ]
  },
  {
   "cell_type": "code",
   "execution_count": null,
   "id": "17787864",
   "metadata": {},
   "outputs": [],
   "source": [
    "answer1 = input(\"write the item you want to buy : \")\n",
    "answer2 = input(\"write the fruit you want to buy : \")\n",
    "\n",
    "if answer1 == \"fruit\":\n",
    "    \n",
    "    if answer2 == \"apple\":\n",
    "        print(\"Task completed\")\n",
    "    else:\n",
    "        print(\"Task not completed\")\n",
    "else:\n",
    "    print(\"Item not available.\")"
   ]
  },
  {
   "cell_type": "markdown",
   "id": "f67c22fa",
   "metadata": {},
   "source": [
    "## Recommended"
   ]
  },
  {
   "cell_type": "code",
   "execution_count": 11,
   "id": "d95396eb",
   "metadata": {},
   "outputs": [
    {
     "name": "stdout",
     "output_type": "stream",
     "text": [
      "Item not available.\n"
     ]
    }
   ],
   "source": [
    "answer1 = input(\"write the item you want to buy : \")\n",
    "\n",
    "if answer1 == \"fruit\":\n",
    "    answer2 = input(\"write the fruit you want to buy : \")\n",
    "    if answer2 == \"apple\":\n",
    "        print(\"Task completed\")\n",
    "    else:\n",
    "        print(\"Task not completed\")\n",
    "else:\n",
    "    print(\"Item not available.\")"
   ]
  },
  {
   "cell_type": "markdown",
   "id": "662540a4",
   "metadata": {},
   "source": [
    "# Advanced data types"
   ]
  },
  {
   "cell_type": "code",
   "execution_count": 13,
   "id": "127e8c31",
   "metadata": {},
   "outputs": [],
   "source": [
    "name1 = 'abc'\n",
    "mobile_no1 = \"3232323232\"\n",
    "\n",
    "name2 = 'abc'\n",
    "mobile_no2 = \"3232323232\""
   ]
  },
  {
   "cell_type": "markdown",
   "id": "c603be8b",
   "metadata": {},
   "source": [
    "### List"
   ]
  },
  {
   "cell_type": "code",
   "execution_count": 30,
   "id": "f3474d65",
   "metadata": {},
   "outputs": [],
   "source": [
    "names = []"
   ]
  },
  {
   "cell_type": "code",
   "execution_count": 32,
   "id": "ec3f8959",
   "metadata": {},
   "outputs": [],
   "source": [
    "names.append('abc')"
   ]
  },
  {
   "cell_type": "code",
   "execution_count": 31,
   "id": "0ee5dbff",
   "metadata": {},
   "outputs": [
    {
     "name": "stdout",
     "output_type": "stream",
     "text": [
      "[]\n"
     ]
    }
   ],
   "source": [
    "print(names)"
   ]
  },
  {
   "cell_type": "code",
   "execution_count": 34,
   "id": "e702cf6e",
   "metadata": {},
   "outputs": [],
   "source": [
    "a = [0,1,3,4, \"monal\", \"ashar\", \"heartine\", \"enjoy\", \"nikhil\"]"
   ]
  },
  {
   "cell_type": "code",
   "execution_count": 36,
   "id": "ac79c92a",
   "metadata": {},
   "outputs": [
    {
     "data": {
      "text/plain": [
       "9"
      ]
     },
     "execution_count": 36,
     "metadata": {},
     "output_type": "execute_result"
    }
   ],
   "source": [
    "len(a) # Total number of elements"
   ]
  },
  {
   "cell_type": "code",
   "execution_count": 37,
   "id": "ea18478d",
   "metadata": {},
   "outputs": [
    {
     "data": {
      "text/plain": [
       "0"
      ]
     },
     "execution_count": 37,
     "metadata": {},
     "output_type": "execute_result"
    }
   ],
   "source": [
    "a[0]"
   ]
  },
  {
   "cell_type": "code",
   "execution_count": 38,
   "id": "0874b9f1",
   "metadata": {},
   "outputs": [
    {
     "data": {
      "text/plain": [
       "'monal'"
      ]
     },
     "execution_count": 38,
     "metadata": {},
     "output_type": "execute_result"
    }
   ],
   "source": [
    "a[4]"
   ]
  },
  {
   "cell_type": "code",
   "execution_count": 43,
   "id": "010c1fd6",
   "metadata": {},
   "outputs": [
    {
     "data": {
      "text/plain": [
       "'monal'"
      ]
     },
     "execution_count": 43,
     "metadata": {},
     "output_type": "execute_result"
    }
   ],
   "source": [
    "a[4]"
   ]
  },
  {
   "cell_type": "code",
   "execution_count": 48,
   "id": "92518551",
   "metadata": {},
   "outputs": [
    {
     "data": {
      "text/plain": [
       "9"
      ]
     },
     "execution_count": 48,
     "metadata": {},
     "output_type": "execute_result"
    }
   ],
   "source": [
    "len(a)"
   ]
  },
  {
   "cell_type": "code",
   "execution_count": 49,
   "id": "10cb5a6b",
   "metadata": {},
   "outputs": [
    {
     "data": {
      "text/plain": [
       "'nikhil'"
      ]
     },
     "execution_count": 49,
     "metadata": {},
     "output_type": "execute_result"
    }
   ],
   "source": [
    "a[8]"
   ]
  },
  {
   "cell_type": "code",
   "execution_count": 50,
   "id": "a6118d5c",
   "metadata": {},
   "outputs": [
    {
     "data": {
      "text/plain": [
       "'nikhil'"
      ]
     },
     "execution_count": 50,
     "metadata": {},
     "output_type": "execute_result"
    }
   ],
   "source": [
    "a[-1]"
   ]
  },
  {
   "cell_type": "code",
   "execution_count": 60,
   "id": "22fe3b96",
   "metadata": {},
   "outputs": [
    {
     "data": {
      "text/plain": [
       "[0, 1, 3, 4, 'monal', 'ashar']"
      ]
     },
     "execution_count": 60,
     "metadata": {},
     "output_type": "execute_result"
    }
   ],
   "source": [
    "a[0:6]"
   ]
  },
  {
   "cell_type": "code",
   "execution_count": 61,
   "id": "e7cab393",
   "metadata": {},
   "outputs": [
    {
     "data": {
      "text/plain": [
       "['ashar']"
      ]
     },
     "execution_count": 61,
     "metadata": {},
     "output_type": "execute_result"
    }
   ],
   "source": [
    "a[5:6]"
   ]
  },
  {
   "cell_type": "code",
   "execution_count": 62,
   "id": "5773a5de",
   "metadata": {},
   "outputs": [
    {
     "data": {
      "text/plain": [
       "[]"
      ]
     },
     "execution_count": 62,
     "metadata": {},
     "output_type": "execute_result"
    }
   ],
   "source": [
    "a[-1:-3]"
   ]
  },
  {
   "cell_type": "code",
   "execution_count": 63,
   "id": "555710ab",
   "metadata": {},
   "outputs": [
    {
     "data": {
      "text/plain": [
       "['heartine', 'enjoy']"
      ]
     },
     "execution_count": 63,
     "metadata": {},
     "output_type": "execute_result"
    }
   ],
   "source": [
    "a[-3:-1]"
   ]
  },
  {
   "cell_type": "code",
   "execution_count": 66,
   "id": "3b301c3b",
   "metadata": {},
   "outputs": [
    {
     "data": {
      "text/plain": [
       "[3, 4, 'monal', 'ashar', 'heartine', 'enjoy']"
      ]
     },
     "execution_count": 66,
     "metadata": {},
     "output_type": "execute_result"
    }
   ],
   "source": [
    "a[-7:-1]"
   ]
  },
  {
   "cell_type": "code",
   "execution_count": 68,
   "id": "3082d239",
   "metadata": {},
   "outputs": [
    {
     "data": {
      "text/plain": [
       "[3, 4, 'monal', 'ashar', 'heartine', 'enjoy', 'nikhil']"
      ]
     },
     "execution_count": 68,
     "metadata": {},
     "output_type": "execute_result"
    }
   ],
   "source": [
    "a[-7:]"
   ]
  },
  {
   "cell_type": "code",
   "execution_count": 69,
   "id": "38a37a34",
   "metadata": {},
   "outputs": [
    {
     "data": {
      "text/plain": [
       "[0, 1, 3, 4, 'monal', 'ashar', 'heartine', 'enjoy', 'nikhil']"
      ]
     },
     "execution_count": 69,
     "metadata": {},
     "output_type": "execute_result"
    }
   ],
   "source": [
    "a[0:]"
   ]
  },
  {
   "cell_type": "code",
   "execution_count": null,
   "id": "a9096992",
   "metadata": {},
   "outputs": [
    {
     "data": {
      "text/plain": [
       "[0, 1, 3, 4, 'monal', 'ashar', 'heartine', 'enjoy']"
      ]
     },
     "execution_count": 73,
     "metadata": {},
     "output_type": "execute_result"
    }
   ],
   "source": [
    "a[0:-1]"
   ]
  },
  {
   "cell_type": "code",
   "execution_count": 75,
   "id": "6988b914",
   "metadata": {},
   "outputs": [
    {
     "data": {
      "text/plain": [
       "9"
      ]
     },
     "execution_count": 75,
     "metadata": {},
     "output_type": "execute_result"
    }
   ],
   "source": [
    "len(a)"
   ]
  },
  {
   "cell_type": "code",
   "execution_count": 80,
   "id": "a0778c10",
   "metadata": {},
   "outputs": [
    {
     "data": {
      "text/plain": [
       "[0, 1, 3, 4, 'monal', 'ashar', 'heartine', 'enjoy']"
      ]
     },
     "execution_count": 80,
     "metadata": {},
     "output_type": "execute_result"
    }
   ],
   "source": [
    "#a[start:total_number_of_elements]\n",
    "a[0:8]"
   ]
  },
  {
   "cell_type": "code",
   "execution_count": 81,
   "id": "a7c7eb54",
   "metadata": {},
   "outputs": [
    {
     "data": {
      "text/plain": [
       "[0, 1, 3, 4, 'monal', 'ashar', 'heartine', 'enjoy', 'nikhil']"
      ]
     },
     "execution_count": 81,
     "metadata": {},
     "output_type": "execute_result"
    }
   ],
   "source": [
    "a[0:9]"
   ]
  },
  {
   "cell_type": "code",
   "execution_count": 82,
   "id": "836333f3",
   "metadata": {},
   "outputs": [
    {
     "data": {
      "text/plain": [
       "[0, 1, 3, 4, 'monal', 'ashar', 'heartine', 'enjoy', 'nikhil']"
      ]
     },
     "execution_count": 82,
     "metadata": {},
     "output_type": "execute_result"
    }
   ],
   "source": [
    "a[0:]"
   ]
  },
  {
   "cell_type": "code",
   "execution_count": 84,
   "id": "8804ac80",
   "metadata": {},
   "outputs": [
    {
     "data": {
      "text/plain": [
       "[0, 1, 3, 4, 'monal', 'ashar', 'heartine', 'enjoy', 'nikhil']"
      ]
     },
     "execution_count": 84,
     "metadata": {},
     "output_type": "execute_result"
    }
   ],
   "source": [
    "a[0:len(a)]"
   ]
  },
  {
   "cell_type": "code",
   "execution_count": 85,
   "id": "e0502c0f",
   "metadata": {},
   "outputs": [
    {
     "data": {
      "text/plain": [
       "[0, 1, 3, 4, 'monal', 'ashar', 'heartine', 'enjoy', 'nikhil']"
      ]
     },
     "execution_count": 85,
     "metadata": {},
     "output_type": "execute_result"
    }
   ],
   "source": [
    "a[:]"
   ]
  },
  {
   "cell_type": "code",
   "execution_count": 91,
   "id": "37a2524d",
   "metadata": {},
   "outputs": [],
   "source": [
    "names=[]\n",
    "places=[]"
   ]
  },
  {
   "cell_type": "code",
   "execution_count": 97,
   "id": "2aa9aa33",
   "metadata": {},
   "outputs": [],
   "source": [
    "name = input(\"Enter name : \")\n",
    "place = input(\"Enter place : \")\n",
    "\n",
    "names.append(name)\n",
    "places.append(place)"
   ]
  },
  {
   "cell_type": "code",
   "execution_count": 98,
   "id": "ac6a3bf3",
   "metadata": {},
   "outputs": [
    {
     "name": "stdout",
     "output_type": "stream",
     "text": [
      "['riyan', 'nikhil', 'monal', 'vinay', 'ashar']\n",
      "['pune', 'firozavad', 'india', 'bengaluru', 'saudi arabia']\n"
     ]
    }
   ],
   "source": [
    "print(names)\n",
    "print(places)"
   ]
  },
  {
   "cell_type": "code",
   "execution_count": null,
   "id": "d6c1e9a0",
   "metadata": {},
   "outputs": [
    {
     "name": "stdout",
     "output_type": "stream",
     "text": [
      "monal\n",
      "india\n"
     ]
    }
   ],
   "source": [
    "i = int(input(\"Enter the user id to the patient info : \"))\n",
    "print(names[i])\n",
    "print(places[i])"
   ]
  },
  {
   "cell_type": "code",
   "execution_count": null,
   "id": "93353c1a",
   "metadata": {},
   "outputs": [
    {
     "ename": "TypeError",
     "evalue": "list indices must be integers or slices, not str",
     "output_type": "error",
     "traceback": [
      "\u001b[31m---------------------------------------------------------------------------\u001b[39m",
      "\u001b[31mTypeError\u001b[39m                                 Traceback (most recent call last)",
      "\u001b[36mCell\u001b[39m\u001b[36m \u001b[39m\u001b[32mIn[101]\u001b[39m\u001b[32m, line 1\u001b[39m\n\u001b[32m----> \u001b[39m\u001b[32m1\u001b[39m \u001b[43mnames\u001b[49m\u001b[43m[\u001b[49m\u001b[33;43m'\u001b[39;49m\u001b[33;43m0\u001b[39;49m\u001b[33;43m'\u001b[39;49m\u001b[43m]\u001b[49m\n",
      "\u001b[31mTypeError\u001b[39m: list indices must be integers or slices, not str"
     ]
    }
   ],
   "source": [
    "names['0']"
   ]
  },
  {
   "cell_type": "code",
   "execution_count": 102,
   "id": "f42fd1a7",
   "metadata": {},
   "outputs": [],
   "source": [
    "a = []"
   ]
  },
  {
   "cell_type": "code",
   "execution_count": 104,
   "id": "e78d4d6a",
   "metadata": {},
   "outputs": [],
   "source": [
    "val = 1"
   ]
  },
  {
   "cell_type": "code",
   "execution_count": 105,
   "id": "ba413ba3",
   "metadata": {},
   "outputs": [],
   "source": [
    "a.append(val)"
   ]
  },
  {
   "cell_type": "code",
   "execution_count": 106,
   "id": "854b594d",
   "metadata": {},
   "outputs": [
    {
     "name": "stdout",
     "output_type": "stream",
     "text": [
      "[1, 1]\n"
     ]
    }
   ],
   "source": [
    "print(a)"
   ]
  },
  {
   "cell_type": "code",
   "execution_count": 108,
   "id": "34b4d3af",
   "metadata": {},
   "outputs": [],
   "source": [
    "a.append([1,2])"
   ]
  },
  {
   "cell_type": "code",
   "execution_count": 109,
   "id": "3c8f28a1",
   "metadata": {},
   "outputs": [
    {
     "name": "stdout",
     "output_type": "stream",
     "text": [
      "[1, 1, [1, 2]]\n"
     ]
    }
   ],
   "source": [
    "print(a)"
   ]
  },
  {
   "cell_type": "code",
   "execution_count": 110,
   "id": "18a31004",
   "metadata": {},
   "outputs": [
    {
     "data": {
      "text/plain": [
       "3"
      ]
     },
     "execution_count": 110,
     "metadata": {},
     "output_type": "execute_result"
    }
   ],
   "source": [
    "len(a)"
   ]
  },
  {
   "cell_type": "code",
   "execution_count": null,
   "id": "82d48977",
   "metadata": {},
   "outputs": [
    {
     "data": {
      "text/plain": [
       "[1, 2]"
      ]
     },
     "execution_count": 113,
     "metadata": {},
     "output_type": "execute_result"
    }
   ],
   "source": [
    "a[2]\n",
    "# a[2] ---> [1,2]"
   ]
  },
  {
   "cell_type": "code",
   "execution_count": 115,
   "id": "ae68f049",
   "metadata": {},
   "outputs": [
    {
     "data": {
      "text/plain": [
       "2"
      ]
     },
     "execution_count": 115,
     "metadata": {},
     "output_type": "execute_result"
    }
   ],
   "source": [
    "a[2][1]"
   ]
  },
  {
   "cell_type": "code",
   "execution_count": 116,
   "id": "d8021b56",
   "metadata": {},
   "outputs": [
    {
     "data": {
      "text/plain": [
       "2"
      ]
     },
     "execution_count": 116,
     "metadata": {},
     "output_type": "execute_result"
    }
   ],
   "source": [
    "a = [1,2]\n",
    "len(a)"
   ]
  },
  {
   "cell_type": "code",
   "execution_count": 117,
   "id": "7ec53a69",
   "metadata": {},
   "outputs": [
    {
     "data": {
      "text/plain": [
       "3"
      ]
     },
     "execution_count": 117,
     "metadata": {},
     "output_type": "execute_result"
    }
   ],
   "source": [
    "a = [1,2,[1,2]]\n",
    "len(a)"
   ]
  },
  {
   "cell_type": "code",
   "execution_count": 118,
   "id": "a365ca3e",
   "metadata": {},
   "outputs": [
    {
     "data": {
      "text/plain": [
       "1"
      ]
     },
     "execution_count": 118,
     "metadata": {},
     "output_type": "execute_result"
    }
   ],
   "source": [
    "a = [[1,2]]\n",
    "len(a)"
   ]
  },
  {
   "cell_type": "code",
   "execution_count": 119,
   "id": "ac5ef4e6",
   "metadata": {},
   "outputs": [],
   "source": [
    "a = [[0,[0,1,2]]]"
   ]
  },
  {
   "cell_type": "code",
   "execution_count": 120,
   "id": "435d1fae",
   "metadata": {},
   "outputs": [
    {
     "data": {
      "text/plain": [
       "[0, [0, 1, 2]]"
      ]
     },
     "execution_count": 120,
     "metadata": {},
     "output_type": "execute_result"
    }
   ],
   "source": [
    "a[0]"
   ]
  },
  {
   "cell_type": "code",
   "execution_count": 121,
   "id": "e20e20e0",
   "metadata": {},
   "outputs": [
    {
     "data": {
      "text/plain": [
       "[0, 1, 2]"
      ]
     },
     "execution_count": 121,
     "metadata": {},
     "output_type": "execute_result"
    }
   ],
   "source": [
    "a[0][1]"
   ]
  },
  {
   "cell_type": "code",
   "execution_count": 122,
   "id": "8cc42b74",
   "metadata": {},
   "outputs": [
    {
     "data": {
      "text/plain": [
       "2"
      ]
     },
     "execution_count": 122,
     "metadata": {},
     "output_type": "execute_result"
    }
   ],
   "source": [
    "a[0][1][2]"
   ]
  },
  {
   "cell_type": "code",
   "execution_count": null,
   "id": "700b7383",
   "metadata": {},
   "outputs": [],
   "source": [
    "a = [[0,[0,1,2]], abc]"
   ]
  },
  {
   "cell_type": "code",
   "execution_count": null,
   "id": "d086f144",
   "metadata": {},
   "outputs": [],
   "source": [
    "a = [1,2]"
   ]
  },
  {
   "cell_type": "code",
   "execution_count": 127,
   "id": "4cc5395f",
   "metadata": {},
   "outputs": [
    {
     "name": "stdout",
     "output_type": "stream",
     "text": [
      "<class 'int'>\n"
     ]
    }
   ],
   "source": [
    "a = int(input(\"enter details\"))\n",
    "print(type(a))"
   ]
  },
  {
   "cell_type": "code",
   "execution_count": 132,
   "id": "a9712cb9",
   "metadata": {},
   "outputs": [
    {
     "name": "stdout",
     "output_type": "stream",
     "text": [
      "<class 'list'>\n"
     ]
    }
   ],
   "source": [
    "a = list(input(\"enter details\"))\n",
    "print(type(a))"
   ]
  },
  {
   "cell_type": "code",
   "execution_count": 133,
   "id": "86b29c0e",
   "metadata": {},
   "outputs": [
    {
     "name": "stdout",
     "output_type": "stream",
     "text": [
      "['[', '1', ',', '2', ',', '3', ']']\n"
     ]
    }
   ],
   "source": [
    "print(a)"
   ]
  },
  {
   "cell_type": "code",
   "execution_count": null,
   "id": "fb9f4208",
   "metadata": {},
   "outputs": [],
   "source": []
  }
 ],
 "metadata": {
  "kernelspec": {
   "display_name": "base",
   "language": "python",
   "name": "python3"
  },
  "language_info": {
   "codemirror_mode": {
    "name": "ipython",
    "version": 3
   },
   "file_extension": ".py",
   "mimetype": "text/x-python",
   "name": "python",
   "nbconvert_exporter": "python",
   "pygments_lexer": "ipython3",
   "version": "3.12.3"
  }
 },
 "nbformat": 4,
 "nbformat_minor": 5
}
