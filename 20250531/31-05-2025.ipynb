{
 "cells": [
  {
   "cell_type": "markdown",
   "id": "8e67c793",
   "metadata": {},
   "source": [
    "# np.zeros()"
   ]
  },
  {
   "cell_type": "code",
   "execution_count": 2,
   "id": "9c3e3add",
   "metadata": {},
   "outputs": [],
   "source": [
    "### np.zeros()\n",
    "\n",
    "import numpy as np"
   ]
  },
  {
   "cell_type": "code",
   "execution_count": 3,
   "id": "b3a303ac",
   "metadata": {},
   "outputs": [
    {
     "data": {
      "text/plain": [
       "array([0., 0., 0., 0., 0.])"
      ]
     },
     "execution_count": 3,
     "metadata": {},
     "output_type": "execute_result"
    }
   ],
   "source": [
    "np.zeros(5)"
   ]
  },
  {
   "cell_type": "code",
   "execution_count": 5,
   "id": "1ba023c6",
   "metadata": {},
   "outputs": [
    {
     "data": {
      "text/plain": [
       "array([[0., 0., 0., 0., 0.],\n",
       "       [0., 0., 0., 0., 0.],\n",
       "       [0., 0., 0., 0., 0.],\n",
       "       [0., 0., 0., 0., 0.],\n",
       "       [0., 0., 0., 0., 0.]])"
      ]
     },
     "execution_count": 5,
     "metadata": {},
     "output_type": "execute_result"
    }
   ],
   "source": [
    "np.zeros((5, 5))"
   ]
  },
  {
   "cell_type": "code",
   "execution_count": 6,
   "id": "0e388ba6",
   "metadata": {},
   "outputs": [
    {
     "data": {
      "text/plain": [
       "(5, 5)"
      ]
     },
     "execution_count": 6,
     "metadata": {},
     "output_type": "execute_result"
    }
   ],
   "source": [
    "np.zeros((5, 5)).shape"
   ]
  },
  {
   "cell_type": "code",
   "execution_count": 7,
   "id": "9e42d3c7",
   "metadata": {},
   "outputs": [
    {
     "data": {
      "text/plain": [
       "2"
      ]
     },
     "execution_count": 7,
     "metadata": {},
     "output_type": "execute_result"
    }
   ],
   "source": [
    "np.zeros((5, 5)).ndim"
   ]
  },
  {
   "cell_type": "markdown",
   "id": "77612b1e",
   "metadata": {},
   "source": [
    "# np.ones()"
   ]
  },
  {
   "cell_type": "code",
   "execution_count": 9,
   "id": "b8e229fd",
   "metadata": {},
   "outputs": [
    {
     "data": {
      "text/plain": [
       "array([[1., 1., 1., 1., 1.],\n",
       "       [1., 1., 1., 1., 1.],\n",
       "       [1., 1., 1., 1., 1.],\n",
       "       [1., 1., 1., 1., 1.],\n",
       "       [1., 1., 1., 1., 1.]])"
      ]
     },
     "execution_count": 9,
     "metadata": {},
     "output_type": "execute_result"
    }
   ],
   "source": [
    "np.ones((5,5))"
   ]
  },
  {
   "cell_type": "code",
   "execution_count": 10,
   "id": "21331fb1",
   "metadata": {},
   "outputs": [
    {
     "data": {
      "text/plain": [
       "array([[1, 1, 1, 1, 1],\n",
       "       [1, 1, 1, 1, 1],\n",
       "       [1, 1, 1, 1, 1],\n",
       "       [1, 1, 1, 1, 1],\n",
       "       [1, 1, 1, 1, 1]], dtype=int8)"
      ]
     },
     "execution_count": 10,
     "metadata": {},
     "output_type": "execute_result"
    }
   ],
   "source": [
    "np.ones((5,5), dtype=np.int8)"
   ]
  },
  {
   "cell_type": "markdown",
   "id": "80fa10c3",
   "metadata": {},
   "source": [
    "# np.full()"
   ]
  },
  {
   "cell_type": "code",
   "execution_count": null,
   "id": "7dcdd4ec",
   "metadata": {},
   "outputs": [],
   "source": [
    "# list of size 10, all filled with value 5"
   ]
  },
  {
   "cell_type": "code",
   "execution_count": 11,
   "id": "1921ffbc",
   "metadata": {},
   "outputs": [
    {
     "data": {
      "text/plain": [
       "array([[0, 0, 0, 0, 0],\n",
       "       [0, 0, 0, 0, 0],\n",
       "       [0, 0, 0, 0, 0],\n",
       "       [0, 0, 0, 0, 0],\n",
       "       [0, 0, 0, 0, 0]])"
      ]
     },
     "execution_count": 11,
     "metadata": {},
     "output_type": "execute_result"
    }
   ],
   "source": [
    "np.full((5,5), 0)"
   ]
  },
  {
   "cell_type": "code",
   "execution_count": 12,
   "id": "90530627",
   "metadata": {},
   "outputs": [
    {
     "data": {
      "text/plain": [
       "array([[100, 100, 100, 100, 100],\n",
       "       [100, 100, 100, 100, 100],\n",
       "       [100, 100, 100, 100, 100],\n",
       "       [100, 100, 100, 100, 100],\n",
       "       [100, 100, 100, 100, 100]])"
      ]
     },
     "execution_count": 12,
     "metadata": {},
     "output_type": "execute_result"
    }
   ],
   "source": [
    "np.full((5,5), 100)"
   ]
  },
  {
   "cell_type": "code",
   "execution_count": 14,
   "id": "c7f08a7d",
   "metadata": {},
   "outputs": [
    {
     "data": {
      "text/plain": [
       "array([5, 5, 5, 5, 5, 5, 5, 5, 5, 5])"
      ]
     },
     "execution_count": 14,
     "metadata": {},
     "output_type": "execute_result"
    }
   ],
   "source": [
    "np.full(10, 5)\n",
    "# np.full(shape, fill_value)"
   ]
  },
  {
   "cell_type": "markdown",
   "id": "a201f50e",
   "metadata": {},
   "source": [
    "# np.eye(n)"
   ]
  },
  {
   "cell_type": "code",
   "execution_count": 27,
   "id": "1d23f79a",
   "metadata": {},
   "outputs": [
    {
     "data": {
      "text/plain": [
       "array([[0., 0., 0., 0., 1., 0.],\n",
       "       [0., 0., 0., 0., 0., 1.],\n",
       "       [0., 0., 0., 0., 0., 0.],\n",
       "       [0., 0., 0., 0., 0., 0.],\n",
       "       [0., 0., 0., 0., 0., 0.],\n",
       "       [0., 0., 0., 0., 0., 0.]])"
      ]
     },
     "execution_count": 27,
     "metadata": {},
     "output_type": "execute_result"
    }
   ],
   "source": [
    "np.eye(6, 6, 4)"
   ]
  },
  {
   "cell_type": "markdown",
   "id": "77750ce6",
   "metadata": {},
   "source": [
    "# np.empty(shape)"
   ]
  },
  {
   "cell_type": "code",
   "execution_count": 29,
   "id": "64f67427",
   "metadata": {},
   "outputs": [],
   "source": [
    "a = np.full((5,5), 0)"
   ]
  },
  {
   "cell_type": "code",
   "execution_count": 30,
   "id": "10a15402",
   "metadata": {},
   "outputs": [
    {
     "name": "stdout",
     "output_type": "stream",
     "text": [
      "[[0 0 0 0 0]\n",
      " [0 0 0 0 0]\n",
      " [0 0 0 0 0]\n",
      " [0 0 0 0 0]\n",
      " [0 0 0 0 0]]\n"
     ]
    }
   ],
   "source": [
    "print(a)"
   ]
  },
  {
   "cell_type": "markdown",
   "id": "a8d5e3cb",
   "metadata": {},
   "source": [
    "# np.empty(shape)"
   ]
  },
  {
   "cell_type": "code",
   "execution_count": 31,
   "id": "47bbb311",
   "metadata": {},
   "outputs": [
    {
     "data": {
      "text/plain": [
       "array([[4.67296746e-307, 1.69121096e-306, 1.24610859e-306,\n",
       "        1.33511562e-306, 1.33511969e-306],\n",
       "       [6.23037996e-307, 6.23053954e-307, 9.34609790e-307,\n",
       "        8.45593934e-307, 9.34600963e-307],\n",
       "       [9.34598925e-307, 1.42418715e-306, 1.95819401e-306,\n",
       "        1.37961370e-306, 6.23054633e-307],\n",
       "       [9.34598926e-307, 6.89804132e-307, 9.34598926e-307,\n",
       "        8.01091099e-307, 1.24610927e-306],\n",
       "       [2.22522597e-306, 8.90109671e-307, 1.24610994e-306,\n",
       "        8.34445137e-308, 3.91792476e-317]])"
      ]
     },
     "execution_count": 31,
     "metadata": {},
     "output_type": "execute_result"
    }
   ],
   "source": [
    "np.empty((5,5))"
   ]
  },
  {
   "cell_type": "code",
   "execution_count": 33,
   "id": "c555ab89",
   "metadata": {},
   "outputs": [
    {
     "data": {
      "text/plain": [
       "array([[1, 1, 1, 1, 1],\n",
       "       [1, 1, 1, 1, 1],\n",
       "       [1, 1, 1, 1, 1],\n",
       "       [1, 1, 1, 1, 1],\n",
       "       [1, 1, 1, 1, 1]], dtype=int8)"
      ]
     },
     "execution_count": 33,
     "metadata": {},
     "output_type": "execute_result"
    }
   ],
   "source": [
    "np.empty((5,5), dtype=np.int8)"
   ]
  },
  {
   "cell_type": "code",
   "execution_count": 34,
   "id": "9b59563e",
   "metadata": {},
   "outputs": [
    {
     "data": {
      "text/plain": [
       "array([[23925768161198179, 32370111954616435, 30399722694049884,\n",
       "        30962698416881756, 30962724186030185],\n",
       "       [25895916907069540, 25896118771056716, 28429470870863987,\n",
       "        27866439313522733, 28429415035764843],\n",
       "       [28429402150535283, 31525639780892770, 33214455279779961,\n",
       "        31244151918821477, 25896127360729202],\n",
       "       [28429402152435824, 26740517931057270, 28429402152435824,\n",
       "        27584955746091126, 30399726988689525],\n",
       "       [34058953224355941, 28148004483825764, 30399731283918943,\n",
       "        12948278431776879,           7929968]])"
      ]
     },
     "execution_count": 34,
     "metadata": {},
     "output_type": "execute_result"
    }
   ],
   "source": [
    "np.empty((5,5), dtype=int)"
   ]
  },
  {
   "cell_type": "code",
   "execution_count": 35,
   "id": "f0d36e06",
   "metadata": {},
   "outputs": [],
   "source": [
    "import time"
   ]
  },
  {
   "cell_type": "markdown",
   "id": "05e84314",
   "metadata": {},
   "source": [
    "perf_counter() is used to get high-resolution time counter."
   ]
  },
  {
   "cell_type": "code",
   "execution_count": 37,
   "id": "d0e597bb",
   "metadata": {},
   "outputs": [
    {
     "name": "stdout",
     "output_type": "stream",
     "text": [
      "4.750000016429112e-05\n"
     ]
    }
   ],
   "source": [
    "start_e = time.perf_counter()\n",
    "np.empty((5, 5))\n",
    "end_e = time.perf_counter()\n",
    "total_e = end_e - start_e\n",
    "print(total_e)"
   ]
  },
  {
   "cell_type": "code",
   "execution_count": 38,
   "id": "50ef3be4",
   "metadata": {},
   "outputs": [
    {
     "name": "stdout",
     "output_type": "stream",
     "text": [
      "6.639999992330559e-05\n"
     ]
    }
   ],
   "source": [
    "start_we = time.perf_counter()\n",
    "np.ones((5, 5))\n",
    "end_we = time.perf_counter()\n",
    "total_we = end_we - start_we\n",
    "print(total_we)"
   ]
  },
  {
   "cell_type": "markdown",
   "id": "0bdaf80e",
   "metadata": {},
   "source": [
    "# np.random.rand(shape)"
   ]
  },
  {
   "cell_type": "code",
   "execution_count": 44,
   "id": "a8268d4c",
   "metadata": {},
   "outputs": [
    {
     "data": {
      "text/plain": [
       "array([[0.42540496, 0.3247875 , 0.14292218, 0.13301403, 0.69823461],\n",
       "       [0.89985142, 0.98758595, 0.90612365, 0.76529655, 0.05254269],\n",
       "       [0.68723942, 0.89674611, 0.31236049, 0.4415451 , 0.07021806],\n",
       "       [0.97549033, 0.45984887, 0.99832344, 0.53776506, 0.56226694],\n",
       "       [0.60178635, 0.19856975, 0.02966449, 0.11872842, 0.04783561]])"
      ]
     },
     "execution_count": 44,
     "metadata": {},
     "output_type": "execute_result"
    }
   ],
   "source": [
    "np.random.rand(5,5)"
   ]
  },
  {
   "cell_type": "code",
   "execution_count": 69,
   "id": "20fa41bd",
   "metadata": {},
   "outputs": [],
   "source": [
    "a = np.random.rand(10)*10"
   ]
  },
  {
   "cell_type": "code",
   "execution_count": 70,
   "id": "683dc659",
   "metadata": {},
   "outputs": [],
   "source": [
    "a = a.tolist()"
   ]
  },
  {
   "cell_type": "code",
   "execution_count": 71,
   "id": "e61d12e2",
   "metadata": {},
   "outputs": [
    {
     "data": {
      "text/plain": [
       "[8.2185276522925,\n",
       " 2.876617075657445,\n",
       " 3.6536418353894886,\n",
       " 8.310386900359886,\n",
       " 2.1760829172418705,\n",
       " 9.976333321080947,\n",
       " 0.3040324558416341,\n",
       " 0.867267265889714,\n",
       " 6.45601498849998,\n",
       " 2.3718434807476116]"
      ]
     },
     "execution_count": 71,
     "metadata": {},
     "output_type": "execute_result"
    }
   ],
   "source": [
    "a"
   ]
  },
  {
   "cell_type": "code",
   "execution_count": 72,
   "id": "4c563086",
   "metadata": {},
   "outputs": [],
   "source": [
    "a = [int(i) for i in a]"
   ]
  },
  {
   "cell_type": "code",
   "execution_count": 73,
   "id": "f683728e",
   "metadata": {},
   "outputs": [
    {
     "data": {
      "text/plain": [
       "[8, 2, 3, 8, 2, 9, 0, 0, 6, 2]"
      ]
     },
     "execution_count": 73,
     "metadata": {},
     "output_type": "execute_result"
    }
   ],
   "source": [
    "a"
   ]
  },
  {
   "cell_type": "code",
   "execution_count": 68,
   "id": "15945e37",
   "metadata": {},
   "outputs": [
    {
     "data": {
      "text/plain": [
       "[6, 4, 7, 6, 4, 2, 4, 6, 7, 1]"
      ]
     },
     "execution_count": 68,
     "metadata": {},
     "output_type": "execute_result"
    }
   ],
   "source": [
    "a"
   ]
  },
  {
   "cell_type": "code",
   "execution_count": 84,
   "id": "22bbabe2",
   "metadata": {},
   "outputs": [
    {
     "data": {
      "text/plain": [
       "array([ 5,  5, 10,  9,  8,  5,  7,  8,  4,  2], dtype=int32)"
      ]
     },
     "execution_count": 84,
     "metadata": {},
     "output_type": "execute_result"
    }
   ],
   "source": [
    "np.random.randint(1, 11, 10)"
   ]
  },
  {
   "cell_type": "markdown",
   "id": "3ec40622",
   "metadata": {},
   "source": [
    "# Questions\n",
    "- A 1D array of numbers from 0 to 9\n",
    "- A 3x3 matrix of all 5s\n",
    "- A 4x4 identity matrix\n",
    "- 10 evenly spaced numbers between 1 and 100\n",
    "- A 2x2 array with random values between 0 and 1"
   ]
  },
  {
   "cell_type": "markdown",
   "id": "80ebc6db",
   "metadata": {},
   "source": []
  },
  {
   "cell_type": "markdown",
   "id": "4187d96b",
   "metadata": {},
   "source": []
  },
  {
   "cell_type": "markdown",
   "id": "58dec687",
   "metadata": {},
   "source": []
  },
  {
   "cell_type": "markdown",
   "id": "5e83db90",
   "metadata": {},
   "source": []
  },
  {
   "cell_type": "markdown",
   "id": "654665a6",
   "metadata": {},
   "source": [
    "# Answers\n",
    "\n",
    "\n",
    "A 1D array of numbers from 0 to 9\n",
    "```bash\n",
    "arr1 = np.arange(10)\n",
    "print(arr1)\n",
    "```\n",
    "\n",
    "A 3x3 matrix of all 5s\n",
    "```bash\n",
    "arr2 = np.full((3, 3), 5)\n",
    "print(arr2)\n",
    "```\n",
    "\n",
    "A 4x4 identity matrix\n",
    "```bash\n",
    "arr3 = np.eye(4)\n",
    "print(arr3)\n",
    "```\n",
    "\n",
    "10 evenly spaced numbers between 1 and 100\n",
    "```bash\n",
    "arr4 = np.linspace(1, 100, 10)\n",
    "print(arr4)\n",
    "```\n",
    "\n",
    "A 2x2 array with random values between 0 and 1\n",
    "```bash\n",
    "arr5 = np.random.rand(2, 2)\n",
    "print(arr5)\n",
    "```"
   ]
  },
  {
   "cell_type": "markdown",
   "id": "d1adddbe",
   "metadata": {},
   "source": [
    "# numpy attributes"
   ]
  },
  {
   "cell_type": "code",
   "execution_count": 85,
   "id": "19615ad3",
   "metadata": {},
   "outputs": [],
   "source": [
    "arr = np.array([[1, 2, 3], [4, 5, 6]])"
   ]
  },
  {
   "cell_type": "code",
   "execution_count": 86,
   "id": "e73924cf",
   "metadata": {},
   "outputs": [
    {
     "name": "stdout",
     "output_type": "stream",
     "text": [
      "[[1 2 3]\n",
      " [4 5 6]]\n"
     ]
    }
   ],
   "source": [
    "print(arr)"
   ]
  },
  {
   "cell_type": "code",
   "execution_count": 87,
   "id": "953dae6b",
   "metadata": {},
   "outputs": [
    {
     "data": {
      "text/plain": [
       "(2, 3)"
      ]
     },
     "execution_count": 87,
     "metadata": {},
     "output_type": "execute_result"
    }
   ],
   "source": [
    "arr.shape"
   ]
  },
  {
   "cell_type": "code",
   "execution_count": 88,
   "id": "45bc1981",
   "metadata": {},
   "outputs": [
    {
     "data": {
      "text/plain": [
       "2"
      ]
     },
     "execution_count": 88,
     "metadata": {},
     "output_type": "execute_result"
    }
   ],
   "source": [
    "arr.ndim"
   ]
  },
  {
   "cell_type": "code",
   "execution_count": 89,
   "id": "f82ddd74",
   "metadata": {},
   "outputs": [
    {
     "data": {
      "text/plain": [
       "dtype('int64')"
      ]
     },
     "execution_count": 89,
     "metadata": {},
     "output_type": "execute_result"
    }
   ],
   "source": [
    "arr.dtype"
   ]
  },
  {
   "cell_type": "markdown",
   "id": "217c1de1",
   "metadata": {},
   "source": [
    "# ndarray.itemsize"
   ]
  },
  {
   "cell_type": "code",
   "execution_count": null,
   "id": "9d1d8406",
   "metadata": {},
   "outputs": [
    {
     "data": {
      "text/plain": [
       "8"
      ]
     },
     "execution_count": 91,
     "metadata": {},
     "output_type": "execute_result"
    }
   ],
   "source": [
    "arr.itemsize # size in bytes of one element"
   ]
  },
  {
   "cell_type": "code",
   "execution_count": null,
   "id": "2c648f0c",
   "metadata": {},
   "outputs": [],
   "source": [
    "# 1 gb --> 1024 mb\n",
    "# 1 mb --> 1024 kb\n",
    "# 1 kb --> 1024 bytes\n",
    "# 1 byte --> 8 bit\n",
    "\n",
    "# Java\n",
    "# - int --> 4 bytes\n",
    "# - float --> 4 bytes\n",
    "# - char --> 1 byte"
   ]
  },
  {
   "cell_type": "code",
   "execution_count": null,
   "id": "cfad1f48",
   "metadata": {},
   "outputs": [
    {
     "name": "stdout",
     "output_type": "stream",
     "text": [
      "Size of int: 28\n",
      "Size of float: 24\n",
      "Size of str: 41\n",
      "Size of list: 56\n",
      "Size of tuple: 40\n",
      "Size of dict: 64\n",
      "Size of set: 216\n"
     ]
    }
   ],
   "source": [
    "# import sys\n",
    "\n",
    "# print(\"Size of int:\", sys.getsizeof(int()))  # Integer\n",
    "# print(\"Size of float:\", sys.getsizeof(float()))  # Floating-point number\n",
    "# print(\"Size of str:\", sys.getsizeof(str()))  # String\n",
    "# print(\"Size of list:\", sys.getsizeof(list()))  # List\n",
    "# print(\"Size of tuple:\", sys.getsizeof(tuple()))  # Tuple\n",
    "# print(\"Size of dict:\", sys.getsizeof(dict()))  # Dictionary\n",
    "# print(\"Size of set:\", sys.getsizeof(set()))  # Set\n"
   ]
  },
  {
   "cell_type": "code",
   "execution_count": 93,
   "id": "b9e49fb0",
   "metadata": {},
   "outputs": [
    {
     "data": {
      "text/plain": [
       "48"
      ]
     },
     "execution_count": 93,
     "metadata": {},
     "output_type": "execute_result"
    }
   ],
   "source": [
    "arr.nbytes # total number of bytes consumed by the array"
   ]
  },
  {
   "cell_type": "code",
   "execution_count": 94,
   "id": "1f6e9537",
   "metadata": {},
   "outputs": [],
   "source": [
    "arr = np.array([[1, 2, 3], [4, 5, 6]])"
   ]
  },
  {
   "cell_type": "code",
   "execution_count": 95,
   "id": "6cc3ba66",
   "metadata": {},
   "outputs": [
    {
     "data": {
      "text/plain": [
       "array([[1, 2, 3],\n",
       "       [4, 5, 6]])"
      ]
     },
     "execution_count": 95,
     "metadata": {},
     "output_type": "execute_result"
    }
   ],
   "source": [
    "arr"
   ]
  },
  {
   "cell_type": "code",
   "execution_count": 96,
   "id": "32e7516c",
   "metadata": {},
   "outputs": [
    {
     "data": {
      "text/plain": [
       "array([[1, 4],\n",
       "       [2, 5],\n",
       "       [3, 6]])"
      ]
     },
     "execution_count": 96,
     "metadata": {},
     "output_type": "execute_result"
    }
   ],
   "source": [
    "arr.T"
   ]
  },
  {
   "cell_type": "code",
   "execution_count": 100,
   "id": "a3d860a6",
   "metadata": {},
   "outputs": [],
   "source": [
    "a = np.array([[1,2,3], [4,5,6]])"
   ]
  },
  {
   "cell_type": "code",
   "execution_count": 101,
   "id": "9d5428c3",
   "metadata": {},
   "outputs": [
    {
     "name": "stdout",
     "output_type": "stream",
     "text": [
      "(2, 3)\n",
      "(3, 2)\n"
     ]
    }
   ],
   "source": [
    "print(a.shape)\n",
    "print(a.T.shape)"
   ]
  },
  {
   "cell_type": "code",
   "execution_count": 103,
   "id": "a7f7f1ca",
   "metadata": {},
   "outputs": [
    {
     "name": "stdout",
     "output_type": "stream",
     "text": [
      "[[1 2 3]\n",
      " [4 5 6]]\n",
      "[[1 4]\n",
      " [2 5]\n",
      " [3 6]]\n"
     ]
    }
   ],
   "source": [
    "print(a)\n",
    "print(a.T)"
   ]
  },
  {
   "cell_type": "code",
   "execution_count": 104,
   "id": "d4f0f542",
   "metadata": {},
   "outputs": [
    {
     "name": "stdout",
     "output_type": "stream",
     "text": [
      "[[3 3 3 3 3]\n",
      " [3 3 3 3 3]\n",
      " [3 3 3 3 3]]\n",
      "[[3 3 3]\n",
      " [3 3 3]\n",
      " [3 3 3]\n",
      " [3 3 3]\n",
      " [3 3 3]]\n"
     ]
    }
   ],
   "source": [
    "z = np.full((3,5),3)\n",
    "print(z)\n",
    "z = z.T\n",
    "print(z)\n"
   ]
  },
  {
   "cell_type": "markdown",
   "id": "0baa5efb",
   "metadata": {},
   "source": [
    "# indexing and slicing"
   ]
  },
  {
   "cell_type": "code",
   "execution_count": 105,
   "id": "b82736b0",
   "metadata": {},
   "outputs": [],
   "source": [
    "arr = np.array([10,20,30,40,50,60])"
   ]
  },
  {
   "cell_type": "code",
   "execution_count": 107,
   "id": "d1940e19",
   "metadata": {},
   "outputs": [
    {
     "name": "stdout",
     "output_type": "stream",
     "text": [
      "10\n",
      "60\n"
     ]
    }
   ],
   "source": [
    "print(arr[0])\n",
    "print(arr[-1])"
   ]
  },
  {
   "cell_type": "code",
   "execution_count": 111,
   "id": "eff884db",
   "metadata": {},
   "outputs": [
    {
     "name": "stdout",
     "output_type": "stream",
     "text": [
      "[20 30 40]\n",
      "[10 20 30]\n",
      "[10 20 30]\n"
     ]
    }
   ],
   "source": [
    "print(arr[1:4])\n",
    "print(arr[:3])\n",
    "print(arr[0:3])"
   ]
  },
  {
   "cell_type": "code",
   "execution_count": 113,
   "id": "f268cbbd",
   "metadata": {},
   "outputs": [
    {
     "name": "stdout",
     "output_type": "stream",
     "text": [
      "[10 30 50]\n"
     ]
    }
   ],
   "source": [
    "print(arr[::2]) # (start with 0 and step size 2)\n"
   ]
  },
  {
   "cell_type": "code",
   "execution_count": 114,
   "id": "499cbfe9",
   "metadata": {},
   "outputs": [],
   "source": [
    "mat = np.array([[1, 2, 3],\n",
    "                [4, 5, 6],\n",
    "                [7, 8, 9]])"
   ]
  },
  {
   "cell_type": "code",
   "execution_count": 118,
   "id": "ab1b82aa",
   "metadata": {},
   "outputs": [
    {
     "name": "stdout",
     "output_type": "stream",
     "text": [
      "2\n",
      "[4 5 6]\n",
      "[3 6 9]\n",
      "[3 6 9]\n"
     ]
    }
   ],
   "source": [
    "print(mat[0,1])\n",
    "print(mat[1])\n",
    "print(mat[:,2])\n",
    "print(mat[:,-1])"
   ]
  },
  {
   "cell_type": "code",
   "execution_count": 119,
   "id": "6fc3d9f0",
   "metadata": {},
   "outputs": [
    {
     "name": "stdout",
     "output_type": "stream",
     "text": [
      "[[2 3]\n",
      " [5 6]]\n"
     ]
    }
   ],
   "source": [
    "print(mat[0:2,1:])"
   ]
  },
  {
   "cell_type": "code",
   "execution_count": 120,
   "id": "5aa7c104",
   "metadata": {},
   "outputs": [],
   "source": [
    "arr_temp = np.array([1,2,3,4,5,6,7,8,9])"
   ]
  },
  {
   "cell_type": "code",
   "execution_count": 121,
   "id": "2321190e",
   "metadata": {},
   "outputs": [
    {
     "data": {
      "text/plain": [
       "array([9, 8, 7, 6, 5, 4, 3, 2, 1])"
      ]
     },
     "execution_count": 121,
     "metadata": {},
     "output_type": "execute_result"
    }
   ],
   "source": [
    "arr_temp[::-1]"
   ]
  },
  {
   "cell_type": "code",
   "execution_count": 123,
   "id": "bc3b8e6f",
   "metadata": {},
   "outputs": [
    {
     "name": "stdout",
     "output_type": "stream",
     "text": [
      "[[9 8 7]\n",
      " [6 5 4]\n",
      " [3 2 1]]\n"
     ]
    }
   ],
   "source": [
    "# [[9, 8, 7],\n",
    "# [6, 5, 4],\n",
    "# [3, 2, 1]]\n",
    "\n",
    "print(mat[::-1, ::-1])"
   ]
  },
  {
   "cell_type": "code",
   "execution_count": 126,
   "id": "ad063f7d",
   "metadata": {},
   "outputs": [],
   "source": [
    "arr = np.array([5, 10, 15, 20, 25])"
   ]
  },
  {
   "cell_type": "code",
   "execution_count": 127,
   "id": "f42e3e70",
   "metadata": {},
   "outputs": [
    {
     "data": {
      "text/plain": [
       "array([False, False,  True,  True,  True])"
      ]
     },
     "execution_count": 127,
     "metadata": {},
     "output_type": "execute_result"
    }
   ],
   "source": [
    "arr>10"
   ]
  },
  {
   "cell_type": "code",
   "execution_count": 129,
   "id": "44d358ac",
   "metadata": {},
   "outputs": [
    {
     "name": "stdout",
     "output_type": "stream",
     "text": [
      "[15 20 25]\n"
     ]
    }
   ],
   "source": [
    "print(arr[arr>10]) # boolean indexing"
   ]
  },
  {
   "cell_type": "code",
   "execution_count": 130,
   "id": "d1a4b473",
   "metadata": {},
   "outputs": [
    {
     "data": {
      "text/plain": [
       "array([ 5, 20, 25])"
      ]
     },
     "execution_count": 130,
     "metadata": {},
     "output_type": "execute_result"
    }
   ],
   "source": [
    "indx = [0,3,4]\n",
    "arr[indx]"
   ]
  },
  {
   "cell_type": "code",
   "execution_count": 131,
   "id": "b89baf0d",
   "metadata": {},
   "outputs": [
    {
     "name": "stdout",
     "output_type": "stream",
     "text": [
      "[50 10 15 20 25]\n"
     ]
    }
   ],
   "source": [
    "arr[0] = 50\n",
    "print(arr)"
   ]
  },
  {
   "cell_type": "markdown",
   "id": "e329594a",
   "metadata": {},
   "source": [
    "# indexing with np.where()"
   ]
  },
  {
   "cell_type": "code",
   "execution_count": 132,
   "id": "238ef84a",
   "metadata": {},
   "outputs": [],
   "source": [
    "arr = np.array([10, 15, 20, 25, 30])"
   ]
  },
  {
   "cell_type": "code",
   "execution_count": 133,
   "id": "da1c9477",
   "metadata": {},
   "outputs": [
    {
     "name": "stdout",
     "output_type": "stream",
     "text": [
      "(array([3, 4]),)\n"
     ]
    }
   ],
   "source": [
    "idx = np.where(arr>20)\n",
    "print(idx)"
   ]
  },
  {
   "cell_type": "code",
   "execution_count": 134,
   "id": "c7b976ec",
   "metadata": {},
   "outputs": [
    {
     "name": "stdout",
     "output_type": "stream",
     "text": [
      "[25 30]\n"
     ]
    }
   ],
   "source": [
    "print(arr[idx])"
   ]
  },
  {
   "cell_type": "markdown",
   "id": "0dd1146d",
   "metadata": {},
   "source": [
    "# array reshaping and resizing"
   ]
  },
  {
   "cell_type": "code",
   "execution_count": null,
   "id": "a85c1ace",
   "metadata": {},
   "outputs": [],
   "source": [
    "arr = np.array([1, 2, 3, 4, 5, 6])"
   ]
  },
  {
   "cell_type": "code",
   "execution_count": 138,
   "id": "a267dd14",
   "metadata": {},
   "outputs": [
    {
     "data": {
      "text/plain": [
       "(6,)"
      ]
     },
     "execution_count": 138,
     "metadata": {},
     "output_type": "execute_result"
    }
   ],
   "source": [
    "arr.shape"
   ]
  },
  {
   "cell_type": "code",
   "execution_count": 139,
   "id": "5fadcc28",
   "metadata": {},
   "outputs": [],
   "source": [
    "reshaped = arr.reshape(2,3)"
   ]
  },
  {
   "cell_type": "code",
   "execution_count": 140,
   "id": "e0470486",
   "metadata": {},
   "outputs": [
    {
     "name": "stdout",
     "output_type": "stream",
     "text": [
      "[[1 2 3]\n",
      " [4 5 6]]\n"
     ]
    }
   ],
   "source": [
    "print(reshaped)"
   ]
  },
  {
   "cell_type": "code",
   "execution_count": 151,
   "id": "e4d999da",
   "metadata": {},
   "outputs": [],
   "source": [
    "arr = np.array([1, 2, 3, 4, 5, 6,7,8,9,10,11,12])"
   ]
  },
  {
   "cell_type": "code",
   "execution_count": 152,
   "id": "5a94605f",
   "metadata": {},
   "outputs": [],
   "source": [
    "reshaped = arr.reshape(3,-1)"
   ]
  },
  {
   "cell_type": "code",
   "execution_count": 153,
   "id": "a339273d",
   "metadata": {},
   "outputs": [
    {
     "name": "stdout",
     "output_type": "stream",
     "text": [
      "[[ 1  2  3  4]\n",
      " [ 5  6  7  8]\n",
      " [ 9 10 11 12]]\n"
     ]
    }
   ],
   "source": [
    "print(reshaped)"
   ]
  },
  {
   "cell_type": "code",
   "execution_count": 144,
   "id": "4d1fe52c",
   "metadata": {},
   "outputs": [
    {
     "data": {
      "text/plain": [
       "(3, 4)"
      ]
     },
     "execution_count": 144,
     "metadata": {},
     "output_type": "execute_result"
    }
   ],
   "source": [
    "reshaped.shape"
   ]
  },
  {
   "cell_type": "code",
   "execution_count": 154,
   "id": "a3951548",
   "metadata": {},
   "outputs": [],
   "source": [
    "a = np.array([[1, 2], [3, 4]])"
   ]
  },
  {
   "cell_type": "code",
   "execution_count": 155,
   "id": "f66bf6ee",
   "metadata": {},
   "outputs": [],
   "source": [
    "b = a.flatten()"
   ]
  },
  {
   "cell_type": "code",
   "execution_count": 156,
   "id": "8cbfe0ca",
   "metadata": {},
   "outputs": [
    {
     "data": {
      "text/plain": [
       "array([1, 2, 3, 4])"
      ]
     },
     "execution_count": 156,
     "metadata": {},
     "output_type": "execute_result"
    }
   ],
   "source": [
    "b"
   ]
  },
  {
   "cell_type": "code",
   "execution_count": 157,
   "id": "aa5ff22b",
   "metadata": {},
   "outputs": [],
   "source": [
    "a = np.array([1, 2, 3, 4])"
   ]
  },
  {
   "cell_type": "code",
   "execution_count": null,
   "id": "ab9e67c4",
   "metadata": {},
   "outputs": [],
   "source": [
    "a.resize((2,3))"
   ]
  },
  {
   "cell_type": "code",
   "execution_count": 159,
   "id": "d54e30e6",
   "metadata": {},
   "outputs": [
    {
     "name": "stdout",
     "output_type": "stream",
     "text": [
      "[[1 2 3]\n",
      " [4 0 0]]\n"
     ]
    }
   ],
   "source": [
    "print(a)"
   ]
  },
  {
   "cell_type": "code",
   "execution_count": 160,
   "id": "e0dd503f",
   "metadata": {},
   "outputs": [],
   "source": [
    "a = np.array([1, 2, 3, 4])"
   ]
  },
  {
   "cell_type": "code",
   "execution_count": 161,
   "id": "53818952",
   "metadata": {},
   "outputs": [],
   "source": [
    "a.resize((2,1))"
   ]
  },
  {
   "cell_type": "code",
   "execution_count": 162,
   "id": "51b11f79",
   "metadata": {},
   "outputs": [
    {
     "name": "stdout",
     "output_type": "stream",
     "text": [
      "[[1]\n",
      " [2]]\n"
     ]
    }
   ],
   "source": [
    "print(a)"
   ]
  },
  {
   "cell_type": "code",
   "execution_count": 163,
   "id": "b458dc57",
   "metadata": {},
   "outputs": [],
   "source": [
    "# reshape will throw error if values are insufficient\n",
    "# resize will truncate or padd with zeros"
   ]
  },
  {
   "cell_type": "code",
   "execution_count": null,
   "id": "2495f21d",
   "metadata": {},
   "outputs": [],
   "source": [
    "12, (4,5)--> 20 --> reshape will throw error\n",
    "12, (4,5) --> 20 --> resize, it will pad extra element with 0\n",
    "\n",
    "12-> 8--> 0"
   ]
  },
  {
   "cell_type": "code",
   "execution_count": 167,
   "id": "5610a82a",
   "metadata": {},
   "outputs": [
    {
     "name": "stdout",
     "output_type": "stream",
     "text": [
      "(2, 3, 1)\n"
     ]
    }
   ],
   "source": [
    "a = np.array([[[1],[2],[3]], [[1],[2],[3]]])\n",
    "print(a.shape)"
   ]
  },
  {
   "cell_type": "code",
   "execution_count": 166,
   "id": "93c8d19c",
   "metadata": {},
   "outputs": [
    {
     "name": "stdout",
     "output_type": "stream",
     "text": [
      "(3, 1)\n"
     ]
    }
   ],
   "source": [
    "a = np.array([[1],[2],[3]])\n",
    "print(a.shape)"
   ]
  },
  {
   "cell_type": "code",
   "execution_count": null,
   "id": "4ccf5469",
   "metadata": {},
   "outputs": [
    {
     "name": "stdout",
     "output_type": "stream",
     "text": [
      "(1, 3, 1)\n"
     ]
    }
   ],
   "source": [
    "a = np.array([[[1],[2],[3]]])\n",
    "print(a.shape)"
   ]
  },
  {
   "cell_type": "code",
   "execution_count": 172,
   "id": "ab0c5d76",
   "metadata": {},
   "outputs": [
    {
     "name": "stdout",
     "output_type": "stream",
     "text": [
      "(2, 3, 1)\n",
      "(2, 3)\n",
      "[[1 2 3]\n",
      " [1 2 3]]\n"
     ]
    }
   ],
   "source": [
    "a = np.array([[[1],[2],[3]], [[1],[2],[3]]])\n",
    "print(a.shape)\n",
    "b = np.squeeze(a)\n",
    "print(b.shape)\n",
    "print(b)"
   ]
  },
  {
   "cell_type": "code",
   "execution_count": 170,
   "id": "880bc22a",
   "metadata": {},
   "outputs": [
    {
     "name": "stdout",
     "output_type": "stream",
     "text": [
      "(3,)\n",
      "[1 2 3]\n"
     ]
    }
   ],
   "source": [
    "b = np.squeeze(a)\n",
    "print(b.shape)\n",
    "print(b)"
   ]
  },
  {
   "cell_type": "code",
   "execution_count": 177,
   "id": "e4362ee3",
   "metadata": {},
   "outputs": [
    {
     "name": "stdout",
     "output_type": "stream",
     "text": [
      "(1, 3, 1)\n",
      "(3, 1)\n",
      "[[1]\n",
      " [2]\n",
      " [3]]\n"
     ]
    }
   ],
   "source": [
    "a = np.array([[[1],[2],[3]]])\n",
    "print(a.shape)\n",
    "b = np.squeeze(a, axis=0)\n",
    "print(b.shape)\n",
    "print(b)"
   ]
  },
  {
   "cell_type": "code",
   "execution_count": 171,
   "id": "901fa85c",
   "metadata": {},
   "outputs": [
    {
     "name": "stdout",
     "output_type": "stream",
     "text": [
      "[[1 2 3]]\n"
     ]
    }
   ],
   "source": [
    "b = np.array([b])\n",
    "print(b)"
   ]
  },
  {
   "cell_type": "code",
   "execution_count": 182,
   "id": "3f6bd3de",
   "metadata": {},
   "outputs": [],
   "source": [
    "a = np.array([\n",
    "                [1,2,3],\n",
    "                [1,2,3],\n",
    "                [1,2,3]\n",
    "            ])"
   ]
  },
  {
   "cell_type": "code",
   "execution_count": 183,
   "id": "c5f05322",
   "metadata": {},
   "outputs": [
    {
     "name": "stdout",
     "output_type": "stream",
     "text": [
      "[3 6 9]\n"
     ]
    }
   ],
   "source": [
    "print(np.sum(a, axis=0)) # rows wise"
   ]
  },
  {
   "cell_type": "code",
   "execution_count": null,
   "id": "f49a12aa",
   "metadata": {},
   "outputs": [
    {
     "name": "stdout",
     "output_type": "stream",
     "text": [
      "[6 6 6]\n"
     ]
    }
   ],
   "source": [
    "print(np.sum(a, axis=1)) # column wise"
   ]
  },
  {
   "cell_type": "code",
   "execution_count": null,
   "id": "ac47e4d6",
   "metadata": {},
   "outputs": [],
   "source": []
  }
 ],
 "metadata": {
  "kernelspec": {
   "display_name": "base",
   "language": "python",
   "name": "python3"
  },
  "language_info": {
   "codemirror_mode": {
    "name": "ipython",
    "version": 3
   },
   "file_extension": ".py",
   "mimetype": "text/x-python",
   "name": "python",
   "nbconvert_exporter": "python",
   "pygments_lexer": "ipython3",
   "version": "3.12.3"
  }
 },
 "nbformat": 4,
 "nbformat_minor": 5
}
