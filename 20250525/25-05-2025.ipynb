{
 "cells": [
  {
   "cell_type": "markdown",
   "id": "158fb8b5",
   "metadata": {},
   "source": [
    "# Lambda"
   ]
  },
  {
   "cell_type": "code",
   "execution_count": null,
   "id": "14eb6da6",
   "metadata": {},
   "outputs": [],
   "source": [
    "def square(x):\n",
    "    return x*x"
   ]
  },
  {
   "cell_type": "code",
   "execution_count": 3,
   "id": "c5e4baca",
   "metadata": {},
   "outputs": [
    {
     "data": {
      "text/plain": [
       "9"
      ]
     },
     "execution_count": 3,
     "metadata": {},
     "output_type": "execute_result"
    }
   ],
   "source": [
    "square(3)"
   ]
  },
  {
   "cell_type": "code",
   "execution_count": 12,
   "id": "34d7e09b",
   "metadata": {},
   "outputs": [],
   "source": [
    "square_lambda = lambda x : x*x"
   ]
  },
  {
   "cell_type": "code",
   "execution_count": 13,
   "id": "6d3d78ac",
   "metadata": {},
   "outputs": [
    {
     "data": {
      "text/plain": [
       "9"
      ]
     },
     "execution_count": 13,
     "metadata": {},
     "output_type": "execute_result"
    }
   ],
   "source": [
    "square_lambda(3)"
   ]
  },
  {
   "cell_type": "code",
   "execution_count": 14,
   "id": "605f60e8",
   "metadata": {},
   "outputs": [],
   "source": [
    "square_lambda = lambda x : print(x+x, \"hello\")"
   ]
  },
  {
   "cell_type": "code",
   "execution_count": 15,
   "id": "b7d461e5",
   "metadata": {},
   "outputs": [],
   "source": [
    "add_with_lambda = lambda x, y, z : x + y + z"
   ]
  },
  {
   "cell_type": "code",
   "execution_count": 17,
   "id": "29ebd1e5",
   "metadata": {},
   "outputs": [
    {
     "data": {
      "text/plain": [
       "6"
      ]
     },
     "execution_count": 17,
     "metadata": {},
     "output_type": "execute_result"
    }
   ],
   "source": [
    "add_with_lambda(1, 2,3)"
   ]
  },
  {
   "cell_type": "markdown",
   "id": "d04ef241",
   "metadata": {},
   "source": [
    "# Sort"
   ]
  },
  {
   "cell_type": "code",
   "execution_count": 18,
   "id": "2630d3c1",
   "metadata": {},
   "outputs": [],
   "source": [
    "a = [1,2,110, -3, 5, 6, 90, 78]"
   ]
  },
  {
   "cell_type": "code",
   "execution_count": 19,
   "id": "e16b9cb2",
   "metadata": {},
   "outputs": [],
   "source": [
    "a.sort()"
   ]
  },
  {
   "cell_type": "code",
   "execution_count": 20,
   "id": "ef600862",
   "metadata": {},
   "outputs": [
    {
     "data": {
      "text/plain": [
       "[-3, 1, 2, 5, 6, 78, 90, 110]"
      ]
     },
     "execution_count": 20,
     "metadata": {},
     "output_type": "execute_result"
    }
   ],
   "source": [
    "a"
   ]
  },
  {
   "cell_type": "code",
   "execution_count": 29,
   "id": "ac94726c",
   "metadata": {},
   "outputs": [],
   "source": [
    "a = [1,2,110, -3, 5, 6, 90, 78]"
   ]
  },
  {
   "cell_type": "code",
   "execution_count": 30,
   "id": "46ae2231",
   "metadata": {},
   "outputs": [],
   "source": [
    "a.sort(reverse=True)"
   ]
  },
  {
   "cell_type": "code",
   "execution_count": 31,
   "id": "4fc96f95",
   "metadata": {},
   "outputs": [
    {
     "data": {
      "text/plain": [
       "[110, 90, 78, 6, 5, 2, 1, -3]"
      ]
     },
     "execution_count": 31,
     "metadata": {},
     "output_type": "execute_result"
    }
   ],
   "source": [
    "a"
   ]
  },
  {
   "cell_type": "markdown",
   "id": "73c76c3f",
   "metadata": {},
   "source": [
    "# Sorted"
   ]
  },
  {
   "cell_type": "code",
   "execution_count": 21,
   "id": "54663ee1",
   "metadata": {},
   "outputs": [],
   "source": [
    "a = [1,2,110, -3, 5, 6, 90, 78]"
   ]
  },
  {
   "cell_type": "code",
   "execution_count": 22,
   "id": "6454334b",
   "metadata": {},
   "outputs": [],
   "source": [
    "sorted_a = sorted(a)"
   ]
  },
  {
   "cell_type": "code",
   "execution_count": 23,
   "id": "ab7d7d54",
   "metadata": {},
   "outputs": [
    {
     "data": {
      "text/plain": [
       "[1, 2, 110, -3, 5, 6, 90, 78]"
      ]
     },
     "execution_count": 23,
     "metadata": {},
     "output_type": "execute_result"
    }
   ],
   "source": [
    "a"
   ]
  },
  {
   "cell_type": "code",
   "execution_count": 24,
   "id": "0459943d",
   "metadata": {},
   "outputs": [
    {
     "data": {
      "text/plain": [
       "[-3, 1, 2, 5, 6, 78, 90, 110]"
      ]
     },
     "execution_count": 24,
     "metadata": {},
     "output_type": "execute_result"
    }
   ],
   "source": [
    "sorted_a"
   ]
  },
  {
   "cell_type": "markdown",
   "id": "c243a01c",
   "metadata": {},
   "source": [
    "# Using key= in both sort and sorted"
   ]
  },
  {
   "cell_type": "code",
   "execution_count": 25,
   "id": "07893370",
   "metadata": {},
   "outputs": [],
   "source": [
    "words = [\"apple\", \"kiwi\", \"banana\"]\n",
    "# apple - 5\n",
    "# kiwi - 4\n",
    "# banana - 6\n",
    "\n",
    "# kiwi, apple, banana"
   ]
  },
  {
   "cell_type": "code",
   "execution_count": 26,
   "id": "6a9a493d",
   "metadata": {},
   "outputs": [],
   "source": [
    "words.sort(key=len)"
   ]
  },
  {
   "cell_type": "code",
   "execution_count": 27,
   "id": "d0cfa54d",
   "metadata": {},
   "outputs": [
    {
     "data": {
      "text/plain": [
       "['kiwi', 'apple', 'banana']"
      ]
     },
     "execution_count": 27,
     "metadata": {},
     "output_type": "execute_result"
    }
   ],
   "source": [
    "words"
   ]
  },
  {
   "cell_type": "code",
   "execution_count": null,
   "id": "b315bc4a",
   "metadata": {},
   "outputs": [
    {
     "name": "stdout",
     "output_type": "stream",
     "text": [
      "['kiwi', 'apple', 'banana']\n"
     ]
    }
   ],
   "source": [
    "words = [\"apple\", \"kiwi\", \"banana\"]\n",
    "print(sorted(words, key=len))"
   ]
  },
  {
   "cell_type": "code",
   "execution_count": null,
   "id": "97c588e0",
   "metadata": {},
   "outputs": [
    {
     "name": "stdout",
     "output_type": "stream",
     "text": [
      "['banana', 'apple', 'kiwi']\n"
     ]
    }
   ],
   "source": [
    "words = [\"apple\", \"kiwi\", \"banana\"]\n",
    "print(sorted(words, key=lambda x : x[-1]))"
   ]
  },
  {
   "cell_type": "code",
   "execution_count": 33,
   "id": "7af59e81",
   "metadata": {},
   "outputs": [],
   "source": [
    "def get_last_char(x):\n",
    "    return x[-1]"
   ]
  },
  {
   "cell_type": "code",
   "execution_count": 36,
   "id": "56569013",
   "metadata": {},
   "outputs": [
    {
     "name": "stdout",
     "output_type": "stream",
     "text": [
      "['banana', 'apple', 'kiwi']\n"
     ]
    }
   ],
   "source": [
    "words = [\"apple\", \"kiwi\", \"banana\"]\n",
    "# apple - e\n",
    "# kiwi - i\n",
    "# banana - a\n",
    "\n",
    "print(sorted(words, key=get_last_char))"
   ]
  },
  {
   "cell_type": "code",
   "execution_count": 37,
   "id": "d5b32ecf",
   "metadata": {},
   "outputs": [
    {
     "name": "stdout",
     "output_type": "stream",
     "text": [
      "['kiwi', 'apple', 'banana']\n"
     ]
    }
   ],
   "source": [
    "print(sorted(words, key=get_last_char, reverse=True))"
   ]
  },
  {
   "cell_type": "code",
   "execution_count": 47,
   "id": "6807604c",
   "metadata": {},
   "outputs": [],
   "source": [
    "a_dict = {\n",
    "    1 : \"hello\",\n",
    "    100 : \"bye\",\n",
    "    2 : \"How are you!\"\n",
    "}"
   ]
  },
  {
   "cell_type": "code",
   "execution_count": 43,
   "id": "20906dcb",
   "metadata": {},
   "outputs": [
    {
     "name": "stdout",
     "output_type": "stream",
     "text": [
      "[1, 2, 100]\n"
     ]
    }
   ],
   "source": [
    "print(sorted(a_dict))"
   ]
  },
  {
   "cell_type": "code",
   "execution_count": 42,
   "id": "baf7cf46",
   "metadata": {},
   "outputs": [
    {
     "name": "stdout",
     "output_type": "stream",
     "text": [
      "1\n",
      "100\n",
      "2\n"
     ]
    }
   ],
   "source": [
    "for i in a_dict:\n",
    "    print(i)"
   ]
  },
  {
   "cell_type": "code",
   "execution_count": null,
   "id": "35f81627",
   "metadata": {},
   "outputs": [
    {
     "name": "stdout",
     "output_type": "stream",
     "text": [
      "[(1, 'hello'), (2, 'How are you!'), (100, 'bye')]\n"
     ]
    }
   ],
   "source": [
    "print(sorted(a_dict.items())) # iterations"
   ]
  },
  {
   "cell_type": "code",
   "execution_count": 45,
   "id": "d13b3030",
   "metadata": {},
   "outputs": [
    {
     "name": "stdout",
     "output_type": "stream",
     "text": [
      "1\n",
      "100\n",
      "2\n"
     ]
    }
   ],
   "source": [
    "for k, v in a_dict.items():\n",
    "    print(k)"
   ]
  },
  {
   "cell_type": "markdown",
   "id": "82df9c19",
   "metadata": {},
   "source": [
    "# map()"
   ]
  },
  {
   "cell_type": "code",
   "execution_count": 49,
   "id": "2e058758",
   "metadata": {},
   "outputs": [],
   "source": [
    "# synatx map(fucntion, iterable)"
   ]
  },
  {
   "cell_type": "code",
   "execution_count": 50,
   "id": "b30ec13a",
   "metadata": {},
   "outputs": [],
   "source": [
    "square = lambda x : x*x"
   ]
  },
  {
   "cell_type": "code",
   "execution_count": null,
   "id": "96a5dc12",
   "metadata": {},
   "outputs": [],
   "source": [
    "nums = list(range(0,11))\n",
    "# nums = [0, 1, 2, 3, 4, 5, 6, 7, 8, 9, 10]"
   ]
  },
  {
   "cell_type": "code",
   "execution_count": 57,
   "id": "83d6854b",
   "metadata": {},
   "outputs": [
    {
     "data": {
      "text/plain": [
       "[0, 1, 2, 3, 4, 5, 6, 7, 8, 9, 10]"
      ]
     },
     "execution_count": 57,
     "metadata": {},
     "output_type": "execute_result"
    }
   ],
   "source": [
    "nums"
   ]
  },
  {
   "cell_type": "code",
   "execution_count": 55,
   "id": "66ee7553",
   "metadata": {},
   "outputs": [],
   "source": [
    "result = list(map(square, nums))"
   ]
  },
  {
   "cell_type": "code",
   "execution_count": 56,
   "id": "b39d7c27",
   "metadata": {},
   "outputs": [
    {
     "name": "stdout",
     "output_type": "stream",
     "text": [
      "[0, 1, 4, 9, 16, 25, 36, 49, 64, 81, 100]\n"
     ]
    }
   ],
   "source": [
    "print(result)"
   ]
  },
  {
   "cell_type": "code",
   "execution_count": 58,
   "id": "38dfb540",
   "metadata": {},
   "outputs": [],
   "source": [
    "# map will apply a function to all items in an iterable"
   ]
  },
  {
   "cell_type": "code",
   "execution_count": 73,
   "id": "629a32a2",
   "metadata": {},
   "outputs": [],
   "source": [
    "add_lambda = lambda item : item[0] + item[1]"
   ]
  },
  {
   "cell_type": "code",
   "execution_count": 74,
   "id": "671a6068",
   "metadata": {},
   "outputs": [],
   "source": [
    "a = [(1,2),(3,4),(5,6),(7,8)]"
   ]
  },
  {
   "cell_type": "code",
   "execution_count": 75,
   "id": "15c8561e",
   "metadata": {},
   "outputs": [
    {
     "data": {
      "text/plain": [
       "[3, 7, 11, 15]"
      ]
     },
     "execution_count": 75,
     "metadata": {},
     "output_type": "execute_result"
    }
   ],
   "source": [
    "list(map(add_lambda, a))"
   ]
  },
  {
   "cell_type": "markdown",
   "id": "09e608ba",
   "metadata": {},
   "source": [
    "# zip"
   ]
  },
  {
   "cell_type": "code",
   "execution_count": 87,
   "id": "ea0d12e0",
   "metadata": {},
   "outputs": [],
   "source": [
    "names = [\"monal\", \"gagan\", 1]\n",
    "scores = [10, 100]"
   ]
  },
  {
   "cell_type": "code",
   "execution_count": 88,
   "id": "c2a5dd59",
   "metadata": {},
   "outputs": [
    {
     "data": {
      "text/plain": [
       "[('monal', 10), ('gagan', 100)]"
      ]
     },
     "execution_count": 88,
     "metadata": {},
     "output_type": "execute_result"
    }
   ],
   "source": [
    "list(zip(names, scores))"
   ]
  },
  {
   "cell_type": "code",
   "execution_count": 89,
   "id": "a83bfb7b",
   "metadata": {},
   "outputs": [
    {
     "name": "stdout",
     "output_type": "stream",
     "text": [
      "('monal', 10)\n",
      "('gagan', 100)\n"
     ]
    }
   ],
   "source": [
    "for i in zip(names, scores):\n",
    "    print(i)\n",
    "\n",
    "# packing"
   ]
  },
  {
   "cell_type": "code",
   "execution_count": 91,
   "id": "d2ba4f0b",
   "metadata": {},
   "outputs": [
    {
     "data": {
      "text/plain": [
       "{'monal': 10, 'gagan': 100}"
      ]
     },
     "execution_count": 91,
     "metadata": {},
     "output_type": "execute_result"
    }
   ],
   "source": [
    "dict(zip(names, scores))"
   ]
  },
  {
   "cell_type": "markdown",
   "id": "28bb5e03",
   "metadata": {},
   "source": [
    "# unpacking"
   ]
  },
  {
   "cell_type": "code",
   "execution_count": 94,
   "id": "95bcb18b",
   "metadata": {},
   "outputs": [],
   "source": [
    "nums = [1,2,3]"
   ]
  },
  {
   "cell_type": "code",
   "execution_count": 95,
   "id": "cb3a98bd",
   "metadata": {},
   "outputs": [
    {
     "name": "stdout",
     "output_type": "stream",
     "text": [
      "1 2 3\n"
     ]
    }
   ],
   "source": [
    "print(*nums)"
   ]
  },
  {
   "cell_type": "code",
   "execution_count": 96,
   "id": "a09f3826",
   "metadata": {},
   "outputs": [],
   "source": [
    "def add(a,b,c):\n",
    "    print(a+b+c)"
   ]
  },
  {
   "cell_type": "code",
   "execution_count": null,
   "id": "a89ea57d",
   "metadata": {},
   "outputs": [
    {
     "name": "stdout",
     "output_type": "stream",
     "text": [
      "6\n"
     ]
    }
   ],
   "source": [
    "add(*nums)\n",
    "# 1,2,3"
   ]
  },
  {
   "cell_type": "code",
   "execution_count": 99,
   "id": "50978843",
   "metadata": {},
   "outputs": [
    {
     "name": "stdout",
     "output_type": "stream",
     "text": [
      "monal 10\n",
      "gagan 100\n"
     ]
    }
   ],
   "source": [
    "for i in zip(names, scores):\n",
    "    print(*i)\n",
    "\n",
    "# packing"
   ]
  },
  {
   "cell_type": "code",
   "execution_count": 102,
   "id": "9523a3e2",
   "metadata": {},
   "outputs": [],
   "source": [
    "def zip_files(*files):\n",
    "    print(\"Zipping:\", files)\n",
    "\n",
    "all_files = [1,2,3]\n"
   ]
  },
  {
   "cell_type": "code",
   "execution_count": 103,
   "id": "2648bd0d",
   "metadata": {},
   "outputs": [
    {
     "name": "stdout",
     "output_type": "stream",
     "text": [
      "Zipping: (1, 2, 3)\n"
     ]
    }
   ],
   "source": [
    "zip_files(*all_files)"
   ]
  },
  {
   "cell_type": "code",
   "execution_count": 104,
   "id": "bdcce67c",
   "metadata": {},
   "outputs": [],
   "source": [
    "nums = [(1,\"monal\"),(2,\"hello\"),(3, 100)]"
   ]
  },
  {
   "cell_type": "code",
   "execution_count": 105,
   "id": "26f0b38b",
   "metadata": {},
   "outputs": [
    {
     "name": "stdout",
     "output_type": "stream",
     "text": [
      "(1, 'monal') (2, 'hello') (3, 100)\n"
     ]
    }
   ],
   "source": [
    "print(*nums)"
   ]
  },
  {
   "cell_type": "code",
   "execution_count": 106,
   "id": "b4729d62",
   "metadata": {},
   "outputs": [
    {
     "name": "stdout",
     "output_type": "stream",
     "text": [
      "(1, 2, 3)\n",
      "('monal', 'hello', 100)\n"
     ]
    }
   ],
   "source": [
    "names, scores = zip(*nums)\n",
    "print(names)\n",
    "print(scores)"
   ]
  },
  {
   "cell_type": "markdown",
   "id": "c4177b17",
   "metadata": {},
   "source": [
    "# list comprehension"
   ]
  },
  {
   "cell_type": "code",
   "execution_count": 109,
   "id": "28224494",
   "metadata": {},
   "outputs": [],
   "source": [
    "# short expressive way to generate a new list or filter a list"
   ]
  },
  {
   "cell_type": "code",
   "execution_count": null,
   "id": "29d7538e",
   "metadata": {},
   "outputs": [],
   "source": [
    "nums = [1,1,1,1,1,2,2,3,4,1,1,11,234,1]"
   ]
  },
  {
   "cell_type": "code",
   "execution_count": 111,
   "id": "3dab8912",
   "metadata": {},
   "outputs": [],
   "source": [
    "# Syntax : [expression for item in iterable if condition]"
   ]
  },
  {
   "cell_type": "code",
   "execution_count": 112,
   "id": "df613ce9",
   "metadata": {},
   "outputs": [],
   "source": [
    "# ps : keep all the ones"
   ]
  },
  {
   "cell_type": "code",
   "execution_count": 113,
   "id": "7ed13c7f",
   "metadata": {},
   "outputs": [
    {
     "name": "stdout",
     "output_type": "stream",
     "text": [
      "[1, 1, 1, 1, 1, 1, 1, 1]\n"
     ]
    }
   ],
   "source": [
    "new_res = []\n",
    "for i in nums:\n",
    "    if i == 1:\n",
    "        new_res.append(i)\n",
    "print(new_res)"
   ]
  },
  {
   "cell_type": "code",
   "execution_count": 114,
   "id": "ca8e4168",
   "metadata": {},
   "outputs": [],
   "source": [
    "new_res = [i for i in nums if i==1]"
   ]
  },
  {
   "cell_type": "code",
   "execution_count": 115,
   "id": "22add39a",
   "metadata": {},
   "outputs": [
    {
     "name": "stdout",
     "output_type": "stream",
     "text": [
      "[1, 1, 1, 1, 1, 1, 1, 1]\n"
     ]
    }
   ],
   "source": [
    "print(new_res)"
   ]
  },
  {
   "cell_type": "code",
   "execution_count": 116,
   "id": "4aa987b4",
   "metadata": {},
   "outputs": [],
   "source": [
    "# ps : square of numbers"
   ]
  },
  {
   "cell_type": "code",
   "execution_count": 118,
   "id": "55bf23da",
   "metadata": {},
   "outputs": [
    {
     "name": "stdout",
     "output_type": "stream",
     "text": [
      "[1, 1, 1, 1, 1, 4, 4, 9, 16, 1, 1, 121, 54756, 1]\n"
     ]
    }
   ],
   "source": [
    "new_res = []\n",
    "for i in nums:\n",
    "    new_res.append(i*i)\n",
    "print(new_res)"
   ]
  },
  {
   "cell_type": "code",
   "execution_count": 119,
   "id": "c94812a8",
   "metadata": {},
   "outputs": [],
   "source": [
    "new_res = [i*i for i in nums]"
   ]
  },
  {
   "cell_type": "code",
   "execution_count": 120,
   "id": "8bf7296f",
   "metadata": {},
   "outputs": [
    {
     "data": {
      "text/plain": [
       "[1, 1, 1, 1, 1, 4, 4, 9, 16, 1, 1, 121, 54756, 1]"
      ]
     },
     "execution_count": 120,
     "metadata": {},
     "output_type": "execute_result"
    }
   ],
   "source": [
    "new_res"
   ]
  },
  {
   "cell_type": "code",
   "execution_count": null,
   "id": "a90ea7b5",
   "metadata": {},
   "outputs": [],
   "source": [
    "nums = [1,2,3]\n",
    "\n",
    "# p.s. : if the number is even, then perform the square and output should be in list"
   ]
  },
  {
   "cell_type": "code",
   "execution_count": 121,
   "id": "f88b8dcf",
   "metadata": {},
   "outputs": [],
   "source": [
    "ans=[i*i for i in nums if i%2==0]"
   ]
  },
  {
   "cell_type": "code",
   "execution_count": 122,
   "id": "0af35ba4",
   "metadata": {},
   "outputs": [
    {
     "name": "stdout",
     "output_type": "stream",
     "text": [
      "[4, 4, 16, 54756]\n"
     ]
    }
   ],
   "source": [
    "print(ans)"
   ]
  },
  {
   "cell_type": "markdown",
   "id": "92bb4d6f",
   "metadata": {},
   "source": [
    "# Dict comprehension"
   ]
  },
  {
   "cell_type": "code",
   "execution_count": 126,
   "id": "32999cc2",
   "metadata": {},
   "outputs": [],
   "source": [
    "# {key_expression : value_expression for item in iterable if condition}"
   ]
  },
  {
   "cell_type": "code",
   "execution_count": 127,
   "id": "eea45197",
   "metadata": {},
   "outputs": [],
   "source": [
    "names = [\"monal\", \"gagan\", \"hello\"]\n",
    "scores = [10, 100, -100]"
   ]
  },
  {
   "cell_type": "code",
   "execution_count": 128,
   "id": "2ceff5a7",
   "metadata": {},
   "outputs": [],
   "source": [
    "result = {name.capitalize() : score+100 for name, score in zip(names, scores)}"
   ]
  },
  {
   "cell_type": "code",
   "execution_count": 129,
   "id": "cb21a78d",
   "metadata": {},
   "outputs": [
    {
     "name": "stdout",
     "output_type": "stream",
     "text": [
      "{'Monal': 110, 'Gagan': 200, 'Hello': 0}\n"
     ]
    }
   ],
   "source": [
    "print(result)"
   ]
  },
  {
   "cell_type": "markdown",
   "id": "b76d0324",
   "metadata": {},
   "source": [
    "# Numpy"
   ]
  },
  {
   "cell_type": "code",
   "execution_count": 131,
   "id": "6cf02403",
   "metadata": {},
   "outputs": [],
   "source": [
    "# !pip install numpy"
   ]
  },
  {
   "cell_type": "code",
   "execution_count": 134,
   "id": "693420af",
   "metadata": {},
   "outputs": [],
   "source": [
    "import numpy as np\n",
    "import time"
   ]
  },
  {
   "cell_type": "code",
   "execution_count": 151,
   "id": "2d9d4c76",
   "metadata": {},
   "outputs": [
    {
     "name": "stdout",
     "output_type": "stream",
     "text": [
      "Time taken : 4.444943189620972\n"
     ]
    }
   ],
   "source": [
    "a = list(range(100000000))\n",
    "b = list(range(100000000))\n",
    "\n",
    "start_t = time.time()\n",
    "c = [x+y for x,y in zip(a,b)]\n",
    "end_t = time.time()\n",
    "time_taken_p = end_t-start_t\n",
    "print(f\"Time taken : {time_taken_p}\")"
   ]
  },
  {
   "cell_type": "code",
   "execution_count": 152,
   "id": "df7d2aab",
   "metadata": {},
   "outputs": [
    {
     "name": "stdout",
     "output_type": "stream",
     "text": [
      "Time taken : 0.6770763397216797\n"
     ]
    }
   ],
   "source": [
    "\n",
    "a = list(range(100000000))\n",
    "b = list(range(100000000))\n",
    "a = np.array(a)\n",
    "b = np.array(b)\n",
    "\n",
    "start_t = time.time()\n",
    "c = a + b\n",
    "end_t = time.time()\n",
    "time_taken_n = end_t-start_t\n",
    "print(f\"Time taken : {time_taken_n}\")"
   ]
  },
  {
   "cell_type": "code",
   "execution_count": 153,
   "id": "da14715e",
   "metadata": {},
   "outputs": [
    {
     "data": {
      "text/plain": [
       "6.564906981461084"
      ]
     },
     "execution_count": 153,
     "metadata": {},
     "output_type": "execute_result"
    }
   ],
   "source": [
    "time_taken_p/time_taken_n"
   ]
  },
  {
   "cell_type": "markdown",
   "id": "5c2e0c89",
   "metadata": {},
   "source": [
    "# 1. np.array()"
   ]
  },
  {
   "cell_type": "code",
   "execution_count": 155,
   "id": "6ea79b80",
   "metadata": {},
   "outputs": [],
   "source": [
    "array_n1 = np.array([1,2,3])"
   ]
  },
  {
   "cell_type": "code",
   "execution_count": 159,
   "id": "b375ec49",
   "metadata": {},
   "outputs": [
    {
     "name": "stdout",
     "output_type": "stream",
     "text": [
      "[1 2 3]\n",
      "<class 'numpy.ndarray'>\n",
      "<class 'numpy.int64'>\n"
     ]
    }
   ],
   "source": [
    "print(array_n1)\n",
    "print(type(array_n1))\n",
    "print(type(array_n1[0]))"
   ]
  },
  {
   "cell_type": "code",
   "execution_count": 160,
   "id": "aa03822b",
   "metadata": {},
   "outputs": [
    {
     "name": "stdout",
     "output_type": "stream",
     "text": [
      "<class 'numpy.ndarray'>\n",
      "<class 'numpy.int8'>\n"
     ]
    }
   ],
   "source": [
    "array_n2 = np.array([1,2,3], dtype=np.int8)\n",
    "print(type(array_n2))\n",
    "print(type(array_n2[0]))"
   ]
  },
  {
   "cell_type": "code",
   "execution_count": 162,
   "id": "08d0d0d3",
   "metadata": {},
   "outputs": [
    {
     "name": "stdout",
     "output_type": "stream",
     "text": [
      "[1 2 3]\n",
      "<class 'numpy.ndarray'>\n",
      "<class 'numpy.int8'>\n"
     ]
    }
   ],
   "source": [
    "array_n2 = np.array([1,2,\"3\"], dtype=np.int8)\n",
    "print(array_n2)\n",
    "print(type(array_n2))\n",
    "print(type(array_n2[0]))"
   ]
  },
  {
   "cell_type": "code",
   "execution_count": 166,
   "id": "be3e6ba0",
   "metadata": {},
   "outputs": [
    {
     "name": "stdout",
     "output_type": "stream",
     "text": [
      "[1. 2. 3.]\n",
      "<class 'numpy.ndarray'>\n",
      "<class 'numpy.float16'>\n"
     ]
    }
   ],
   "source": [
    "array_n2 = np.array([1,2,\"3\"], dtype=np.float16)\n",
    "print(array_n2)\n",
    "print(type(array_n2))\n",
    "print(type(array_n2[2]))"
   ]
  },
  {
   "cell_type": "markdown",
   "id": "60ecf266",
   "metadata": {},
   "source": [
    "# 2. np.arange(start, stop, step)"
   ]
  },
  {
   "cell_type": "code",
   "execution_count": 169,
   "id": "e3575d7e",
   "metadata": {},
   "outputs": [
    {
     "name": "stdout",
     "output_type": "stream",
     "text": [
      "[0 1 2 3 4]\n",
      "[1 3 5 7 9]\n",
      "<class 'numpy.ndarray'>\n"
     ]
    }
   ],
   "source": [
    "print(np.arange(5))\n",
    "\n",
    "print(np.arange(1, 10, 2))\n",
    "\n",
    "np_arange = np.arange(1, 10, 2)\n",
    "print(type(np_arange))"
   ]
  },
  {
   "cell_type": "markdown",
   "id": "64d38dbf",
   "metadata": {},
   "source": [
    "# np.linspace(start, stop, num=x)"
   ]
  },
  {
   "cell_type": "code",
   "execution_count": 174,
   "id": "05142177",
   "metadata": {},
   "outputs": [
    {
     "name": "stdout",
     "output_type": "stream",
     "text": [
      "[  1.  34.  67. 100.]\n",
      "<class 'numpy.ndarray'>\n"
     ]
    }
   ],
   "source": [
    "np_linspace = np.linspace(1,100,4)\n",
    "print(np_linspace)\n",
    "print(type(np_linspace))"
   ]
  },
  {
   "cell_type": "code",
   "execution_count": 175,
   "id": "3353dd2a",
   "metadata": {},
   "outputs": [
    {
     "name": "stdout",
     "output_type": "stream",
     "text": [
      "1.0\n",
      "2.0\n",
      "3.0\n",
      "4.0\n",
      "5.0\n",
      "6.0\n",
      "7.0\n",
      "8.0\n",
      "9.0\n",
      "10.0\n"
     ]
    }
   ],
   "source": [
    "for i in np.linspace(1,10,10):\n",
    "    print(i)"
   ]
  },
  {
   "cell_type": "markdown",
   "id": "d61b9cf1",
   "metadata": {},
   "source": [
    "# np.zeros(shape)"
   ]
  },
  {
   "cell_type": "code",
   "execution_count": 182,
   "id": "2befaf33",
   "metadata": {},
   "outputs": [],
   "source": [
    "npz_1 = np.zeros(5)"
   ]
  },
  {
   "cell_type": "code",
   "execution_count": 183,
   "id": "89893544",
   "metadata": {},
   "outputs": [
    {
     "data": {
      "text/plain": [
       "1"
      ]
     },
     "execution_count": 183,
     "metadata": {},
     "output_type": "execute_result"
    }
   ],
   "source": [
    "npz_1.ndim"
   ]
  },
  {
   "cell_type": "code",
   "execution_count": 185,
   "id": "5481ac82",
   "metadata": {},
   "outputs": [
    {
     "name": "stdout",
     "output_type": "stream",
     "text": [
      "[[0. 0. 0. 0. 0.]\n",
      " [0. 0. 0. 0. 0.]\n",
      " [0. 0. 0. 0. 0.]\n",
      " [0. 0. 0. 0. 0.]\n",
      " [0. 0. 0. 0. 0.]]\n"
     ]
    }
   ],
   "source": [
    "npz_2 = np.zeros((5,5))\n",
    "print(npz_2)"
   ]
  },
  {
   "cell_type": "code",
   "execution_count": 186,
   "id": "c69bde80",
   "metadata": {},
   "outputs": [
    {
     "data": {
      "text/plain": [
       "2"
      ]
     },
     "execution_count": 186,
     "metadata": {},
     "output_type": "execute_result"
    }
   ],
   "source": [
    "npz_2.ndim"
   ]
  },
  {
   "cell_type": "code",
   "execution_count": 187,
   "id": "cd047b1b",
   "metadata": {},
   "outputs": [
    {
     "name": "stdout",
     "output_type": "stream",
     "text": [
      "[[[0. 0. 0. 0. 0.]\n",
      "  [0. 0. 0. 0. 0.]\n",
      "  [0. 0. 0. 0. 0.]\n",
      "  [0. 0. 0. 0. 0.]\n",
      "  [0. 0. 0. 0. 0.]]\n",
      "\n",
      " [[0. 0. 0. 0. 0.]\n",
      "  [0. 0. 0. 0. 0.]\n",
      "  [0. 0. 0. 0. 0.]\n",
      "  [0. 0. 0. 0. 0.]\n",
      "  [0. 0. 0. 0. 0.]]\n",
      "\n",
      " [[0. 0. 0. 0. 0.]\n",
      "  [0. 0. 0. 0. 0.]\n",
      "  [0. 0. 0. 0. 0.]\n",
      "  [0. 0. 0. 0. 0.]\n",
      "  [0. 0. 0. 0. 0.]]\n",
      "\n",
      " [[0. 0. 0. 0. 0.]\n",
      "  [0. 0. 0. 0. 0.]\n",
      "  [0. 0. 0. 0. 0.]\n",
      "  [0. 0. 0. 0. 0.]\n",
      "  [0. 0. 0. 0. 0.]]\n",
      "\n",
      " [[0. 0. 0. 0. 0.]\n",
      "  [0. 0. 0. 0. 0.]\n",
      "  [0. 0. 0. 0. 0.]\n",
      "  [0. 0. 0. 0. 0.]\n",
      "  [0. 0. 0. 0. 0.]]]\n"
     ]
    }
   ],
   "source": [
    "npz_3 = np.zeros((5,5,5))\n",
    "print(npz_3)"
   ]
  },
  {
   "cell_type": "code",
   "execution_count": 188,
   "id": "5c109351",
   "metadata": {},
   "outputs": [
    {
     "data": {
      "text/plain": [
       "3"
      ]
     },
     "execution_count": 188,
     "metadata": {},
     "output_type": "execute_result"
    }
   ],
   "source": [
    "npz_3.ndim"
   ]
  },
  {
   "cell_type": "code",
   "execution_count": null,
   "id": "8a9e2c29",
   "metadata": {},
   "outputs": [],
   "source": []
  }
 ],
 "metadata": {
  "kernelspec": {
   "display_name": "base",
   "language": "python",
   "name": "python3"
  },
  "language_info": {
   "codemirror_mode": {
    "name": "ipython",
    "version": 3
   },
   "file_extension": ".py",
   "mimetype": "text/x-python",
   "name": "python",
   "nbconvert_exporter": "python",
   "pygments_lexer": "ipython3",
   "version": "3.12.3"
  }
 },
 "nbformat": 4,
 "nbformat_minor": 5
}
